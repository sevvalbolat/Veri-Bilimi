{
 "cells": [
  {
   "cell_type": "code",
   "execution_count": 4,
   "id": "dec805af",
   "metadata": {},
   "outputs": [],
   "source": [
    "myName = 'şevval bolat'"
   ]
  },
  {
   "cell_type": "code",
   "execution_count": 5,
   "id": "82400238",
   "metadata": {},
   "outputs": [
    {
     "data": {
      "text/plain": [
       "'Şevval bolat'"
      ]
     },
     "execution_count": 5,
     "metadata": {},
     "output_type": "execute_result"
    }
   ],
   "source": [
    "myName.capitalize()"
   ]
  },
  {
   "cell_type": "code",
   "execution_count": 6,
   "id": "ddbe77aa",
   "metadata": {},
   "outputs": [
    {
     "data": {
      "text/plain": [
       "['şevval', 'bolat']"
      ]
     },
     "execution_count": 6,
     "metadata": {},
     "output_type": "execute_result"
    }
   ],
   "source": [
    "myName.split()"
   ]
  },
  {
   "cell_type": "code",
   "execution_count": 7,
   "id": "8164d1bc",
   "metadata": {},
   "outputs": [
    {
     "data": {
      "text/plain": [
       "'ŞEVVAL BOLAT'"
      ]
     },
     "execution_count": 7,
     "metadata": {},
     "output_type": "execute_result"
    }
   ],
   "source": [
    "myName.upper()"
   ]
  },
  {
   "cell_type": "code",
   "execution_count": 8,
   "id": "b78a2db0",
   "metadata": {},
   "outputs": [
    {
     "data": {
      "text/plain": [
       "'Şevval Bolat'"
      ]
     },
     "execution_count": 8,
     "metadata": {},
     "output_type": "execute_result"
    }
   ],
   "source": [
    "myName.title()"
   ]
  },
  {
   "cell_type": "code",
   "execution_count": 9,
   "id": "0519ac64",
   "metadata": {},
   "outputs": [
    {
     "data": {
      "text/plain": [
       "'ŞEVVAL BOLAT'"
      ]
     },
     "execution_count": 9,
     "metadata": {},
     "output_type": "execute_result"
    }
   ],
   "source": [
    "myName.swapcase()"
   ]
  },
  {
   "cell_type": "code",
   "execution_count": 13,
   "id": "83381f55",
   "metadata": {},
   "outputs": [
    {
     "data": {
      "text/plain": [
       "'Şevval    Bolat'"
      ]
     },
     "execution_count": 13,
     "metadata": {},
     "output_type": "execute_result"
    }
   ],
   "source": [
    "nameBos=\"      Şevval    Bolat      \"\n",
    "nameBos.strip()"
   ]
  },
  {
   "cell_type": "code",
   "execution_count": 14,
   "id": "cde9ef85",
   "metadata": {},
   "outputs": [
    {
     "data": {
      "text/plain": [
       "'şevvel bolet'"
      ]
     },
     "execution_count": 14,
     "metadata": {},
     "output_type": "execute_result"
    }
   ],
   "source": [
    "myName.replace('a','e')"
   ]
  },
  {
   "cell_type": "markdown",
   "id": "a346db54",
   "metadata": {},
   "source": [
    "# Numpy"
   ]
  },
  {
   "cell_type": "code",
   "execution_count": 61,
   "id": "cf6a99d7",
   "metadata": {},
   "outputs": [],
   "source": [
    "import numpy as np\n",
    "import matplotlib.pyplot as matplot"
   ]
  },
  {
   "cell_type": "code",
   "execution_count": 62,
   "id": "c895d2a9",
   "metadata": {},
   "outputs": [],
   "source": [
    "myArray = np.array([1,2,3,4,5,6])"
   ]
  },
  {
   "cell_type": "code",
   "execution_count": 63,
   "id": "cab1cf64",
   "metadata": {},
   "outputs": [
    {
     "data": {
      "text/plain": [
       "array([1, 2, 3, 4, 5, 6])"
      ]
     },
     "execution_count": 63,
     "metadata": {},
     "output_type": "execute_result"
    }
   ],
   "source": [
    "myArray"
   ]
  },
  {
   "cell_type": "code",
   "execution_count": 64,
   "id": "cfe51893",
   "metadata": {},
   "outputs": [
    {
     "data": {
      "text/plain": [
       "numpy.ndarray"
      ]
     },
     "execution_count": 64,
     "metadata": {},
     "output_type": "execute_result"
    }
   ],
   "source": [
    "type(myArray)"
   ]
  },
  {
   "cell_type": "code",
   "execution_count": 65,
   "id": "fdff987c",
   "metadata": {},
   "outputs": [],
   "source": [
    "secArray = np.array([[1,2,3],[4,5,6],[7,8,9]])"
   ]
  },
  {
   "cell_type": "code",
   "execution_count": 66,
   "id": "e324dcd4",
   "metadata": {},
   "outputs": [
    {
     "data": {
      "text/plain": [
       "array([[1, 2, 3],\n",
       "       [4, 5, 6],\n",
       "       [7, 8, 9]])"
      ]
     },
     "execution_count": 66,
     "metadata": {},
     "output_type": "execute_result"
    }
   ],
   "source": [
    "secArray "
   ]
  },
  {
   "cell_type": "code",
   "execution_count": 67,
   "id": "c32cb57d",
   "metadata": {},
   "outputs": [],
   "source": [
    "sonuc = secArray * secArray"
   ]
  },
  {
   "cell_type": "code",
   "execution_count": 68,
   "id": "d31d7b78",
   "metadata": {},
   "outputs": [
    {
     "data": {
      "text/plain": [
       "array([[ 1,  4,  9],\n",
       "       [16, 25, 36],\n",
       "       [49, 64, 81]])"
      ]
     },
     "execution_count": 68,
     "metadata": {},
     "output_type": "execute_result"
    }
   ],
   "source": [
    "sonuc"
   ]
  },
  {
   "cell_type": "code",
   "execution_count": 69,
   "id": "382ff062",
   "metadata": {},
   "outputs": [],
   "source": [
    "import random"
   ]
  },
  {
   "cell_type": "code",
   "execution_count": 70,
   "id": "ed94baa0",
   "metadata": {},
   "outputs": [
    {
     "data": {
      "text/plain": [
       "[33, 59, 46, 47, 82, 49, 6, 27, 99, 54]"
      ]
     },
     "execution_count": 70,
     "metadata": {},
     "output_type": "execute_result"
    }
   ],
   "source": [
    "random.sample(range(1,100),10)"
   ]
  },
  {
   "cell_type": "code",
   "execution_count": 71,
   "id": "b8558df4",
   "metadata": {},
   "outputs": [
    {
     "data": {
      "text/plain": [
       "list"
      ]
     },
     "execution_count": 71,
     "metadata": {},
     "output_type": "execute_result"
    }
   ],
   "source": [
    "type(random.sample(range(1,100),10))"
   ]
  },
  {
   "cell_type": "code",
   "execution_count": 75,
   "id": "8afa6dd2",
   "metadata": {},
   "outputs": [],
   "source": [
    "dizim = np.random.randint(10,100,size = 10)"
   ]
  },
  {
   "cell_type": "code",
   "execution_count": 76,
   "id": "48417082",
   "metadata": {},
   "outputs": [
    {
     "data": {
      "text/plain": [
       "array([75, 41, 98, 70, 91, 78, 14, 80, 12, 13])"
      ]
     },
     "execution_count": 76,
     "metadata": {},
     "output_type": "execute_result"
    }
   ],
   "source": [
    "dizim"
   ]
  },
  {
   "cell_type": "code",
   "execution_count": 77,
   "id": "1146960f",
   "metadata": {},
   "outputs": [
    {
     "data": {
      "text/plain": [
       "numpy.ndarray"
      ]
     },
     "execution_count": 77,
     "metadata": {},
     "output_type": "execute_result"
    }
   ],
   "source": [
    "type(np.random.randint(10,100,size = 10))"
   ]
  },
  {
   "cell_type": "code",
   "execution_count": 80,
   "id": "ce58910a",
   "metadata": {},
   "outputs": [
    {
     "data": {
      "image/png": "[encoded data removed]",
      "text/plain": [
       "<Figure size 640x480 with 1 Axes>"
      ]
     },
     "metadata": {},
     "output_type": "display_data"
    }
   ],
   "source": [
    "matplot.hist(dizim,10)\n",
    "matplot.show()"
   ]
  },
  {
   "cell_type": "code",
   "execution_count": 81,
   "id": "aa8ba7d9",
   "metadata": {},
   "outputs": [],
   "source": [
    "random_numbers = np.random.rand(10)"
   ]
  },
  {
   "cell_type": "code",
   "execution_count": 85,
   "id": "c617474d",
   "metadata": {},
   "outputs": [
    {
     "data": {
      "image/png": "[encoded data removed]",
      "text/plain": [
       "<Figure size 640x480 with 1 Axes>"
      ]
     },
     "metadata": {},
     "output_type": "display_data"
    }
   ],
   "source": [
    "matplot.plot(random_numbers, 'o--')\n",
    "matplot.title(\"Random Sayılar Grafiği\")\n",
    "matplot.xlabel(\"x düzlemi\")\n",
    "matplot.ylabel(\"y düzlemi\")\n",
    "matplot.show()"
   ]
  },
  {
   "cell_type": "code",
   "execution_count": 86,
   "id": "78b869d0",
   "metadata": {},
   "outputs": [],
   "source": [
    "import numpy as np"
   ]
  },
  {
   "cell_type": "code",
   "execution_count": 97,
   "id": "4d0b1f6b",
   "metadata": {},
   "outputs": [],
   "source": [
    "myArray = np.array([[1,2,3],[4,5,6]])"
   ]
  },
  {
   "cell_type": "code",
   "execution_count": 98,
   "id": "9ba2759d",
   "metadata": {},
   "outputs": [
    {
     "data": {
      "text/plain": [
       "array([[1, 2, 3],\n",
       "       [4, 5, 6]])"
      ]
     },
     "execution_count": 98,
     "metadata": {},
     "output_type": "execute_result"
    }
   ],
   "source": [
    "myArray"
   ]
  },
  {
   "cell_type": "code",
   "execution_count": 99,
   "id": "dd9b1bd6",
   "metadata": {},
   "outputs": [],
   "source": [
    "dizi = [[1,2,3],[4,5,6]]"
   ]
  },
  {
   "cell_type": "code",
   "execution_count": 100,
   "id": "d13d812e",
   "metadata": {},
   "outputs": [
    {
     "data": {
      "text/plain": [
       "[[1, 2, 3], [4, 5, 6]]"
      ]
     },
     "execution_count": 100,
     "metadata": {},
     "output_type": "execute_result"
    }
   ],
   "source": [
    "dizi"
   ]
  },
  {
   "cell_type": "code",
   "execution_count": 101,
   "id": "b4e01e5f",
   "metadata": {},
   "outputs": [],
   "source": [
    "cakmaArray = np.array(dizi)"
   ]
  },
  {
   "cell_type": "code",
   "execution_count": 102,
   "id": "15efc8a8",
   "metadata": {},
   "outputs": [
    {
     "data": {
      "text/plain": [
       "array([[1, 2, 3],\n",
       "       [4, 5, 6]])"
      ]
     },
     "execution_count": 102,
     "metadata": {},
     "output_type": "execute_result"
    }
   ],
   "source": [
    "cakmaArray"
   ]
  },
  {
   "cell_type": "code",
   "execution_count": 104,
   "id": "f6a60573",
   "metadata": {},
   "outputs": [
    {
     "data": {
      "text/plain": [
       "5"
      ]
     },
     "execution_count": 104,
     "metadata": {},
     "output_type": "execute_result"
    }
   ],
   "source": [
    "cakmaArray[1][1]"
   ]
  },
  {
   "cell_type": "code",
   "execution_count": 105,
   "id": "5ff5fd9d",
   "metadata": {},
   "outputs": [
    {
     "data": {
      "text/plain": [
       "array([[0., 0., 0.],\n",
       "       [0., 0., 0.]])"
      ]
     },
     "execution_count": 105,
     "metadata": {},
     "output_type": "execute_result"
    }
   ],
   "source": [
    "np.zeros((2,3))"
   ]
  },
  {
   "cell_type": "code",
   "execution_count": 106,
   "id": "79326976",
   "metadata": {},
   "outputs": [
    {
     "data": {
      "text/plain": [
       "array([[1., 1.],\n",
       "       [1., 1.],\n",
       "       [1., 1.],\n",
       "       [1., 1.]])"
      ]
     },
     "execution_count": 106,
     "metadata": {},
     "output_type": "execute_result"
    }
   ],
   "source": [
    "np.ones((4,2))"
   ]
  },
  {
   "cell_type": "code",
   "execution_count": 108,
   "id": "aeda2d7e",
   "metadata": {},
   "outputs": [
    {
     "data": {
      "text/plain": [
       "array([[0.        , 1.        , 2.        , 3.        , 4.        ],\n",
       "       [5.        , 6.        , 7.        , 8.        , 9.        ],\n",
       "       [0.7454552 , 0.26433432, 0.45545605, 0.91845136, 0.66707233],\n",
       "       [0.10625683, 0.28390442, 0.116806  , 0.81333452, 0.40106511]])"
      ]
     },
     "execution_count": 108,
     "metadata": {},
     "output_type": "execute_result"
    }
   ],
   "source": [
    "np.empty((4,5))"
   ]
  },
  {
   "cell_type": "code",
   "execution_count": 109,
   "id": "86b33f35",
   "metadata": {},
   "outputs": [
    {
     "data": {
      "text/plain": [
       "[10, 12, 14, 16, 18]"
      ]
     },
     "execution_count": 109,
     "metadata": {},
     "output_type": "execute_result"
    }
   ],
   "source": [
    "list(range(10,20,2))"
   ]
  },
  {
   "cell_type": "code",
   "execution_count": 112,
   "id": "6ef346b3",
   "metadata": {},
   "outputs": [
    {
     "data": {
      "text/plain": [
       "array([10, 12, 14, 16, 18])"
      ]
     },
     "execution_count": 112,
     "metadata": {},
     "output_type": "execute_result"
    }
   ],
   "source": [
    "np.arange(10,20,2)"
   ]
  },
  {
   "cell_type": "code",
   "execution_count": 113,
   "id": "0b2c2b00",
   "metadata": {},
   "outputs": [
    {
     "data": {
      "text/plain": [
       "array([ 1,  2,  3,  4,  5,  6,  7,  8,  9, 10, 11, 12, 13, 14, 15])"
      ]
     },
     "execution_count": 113,
     "metadata": {},
     "output_type": "execute_result"
    }
   ],
   "source": [
    "np.arange(1,16)"
   ]
  },
  {
   "cell_type": "code",
   "execution_count": 116,
   "id": "f720f8c2",
   "metadata": {},
   "outputs": [],
   "source": [
    "dizim = np.arange(1,16).reshape(3,5)"
   ]
  },
  {
   "cell_type": "code",
   "execution_count": 117,
   "id": "2c42479c",
   "metadata": {},
   "outputs": [
    {
     "data": {
      "text/plain": [
       "array([[ 1,  2,  3,  4,  5],\n",
       "       [ 6,  7,  8,  9, 10],\n",
       "       [11, 12, 13, 14, 15]])"
      ]
     },
     "execution_count": 117,
     "metadata": {},
     "output_type": "execute_result"
    }
   ],
   "source": [
    "dizim"
   ]
  },
  {
   "cell_type": "code",
   "execution_count": 119,
   "id": "1abfe0eb",
   "metadata": {},
   "outputs": [
    {
     "data": {
      "text/plain": [
       "array([ 1,  2,  3,  4,  5,  6,  7,  8,  9, 10, 11, 12, 13, 14, 15])"
      ]
     },
     "execution_count": 119,
     "metadata": {},
     "output_type": "execute_result"
    }
   ],
   "source": [
    "dizim.flatten()"
   ]
  },
  {
   "cell_type": "code",
   "execution_count": 125,
   "id": "2747fa3b",
   "metadata": {},
   "outputs": [
    {
     "data": {
      "text/plain": [
       "array([[1, 4, 7],\n",
       "       [2, 5, 8],\n",
       "       [3, 6, 9]])"
      ]
     },
     "execution_count": 125,
     "metadata": {},
     "output_type": "execute_result"
    }
   ],
   "source": [
    "np.transpose(np.array([[1,2,3],[4,5,6],[7,8,9]]))"
   ]
  },
  {
   "cell_type": "code",
   "execution_count": 126,
   "id": "8949dde2",
   "metadata": {},
   "outputs": [],
   "source": [
    "import numpy as np"
   ]
  },
  {
   "cell_type": "code",
   "execution_count": 128,
   "id": "bbd6f87f",
   "metadata": {},
   "outputs": [],
   "source": [
    "dizi1 = np.array([20,30,40,50])\n",
    "dizi2 = np.array([4,6,8,10])"
   ]
  },
  {
   "cell_type": "code",
   "execution_count": 133,
   "id": "1c15d9f1",
   "metadata": {},
   "outputs": [],
   "source": [
    "toplam = np.add(dizi1, dizi2)"
   ]
  },
  {
   "cell_type": "code",
   "execution_count": 134,
   "id": "69c5fe70",
   "metadata": {},
   "outputs": [
    {
     "data": {
      "text/plain": [
       "array([24, 36, 48, 60])"
      ]
     },
     "execution_count": 134,
     "metadata": {},
     "output_type": "execute_result"
    }
   ],
   "source": [
    "toplam"
   ]
  },
  {
   "cell_type": "code",
   "execution_count": 135,
   "id": "5d28c6d9",
   "metadata": {},
   "outputs": [],
   "source": [
    "cikartma = np.subtract(dizi1, dizi2)"
   ]
  },
  {
   "cell_type": "code",
   "execution_count": 136,
   "id": "5bbfb7c2",
   "metadata": {},
   "outputs": [
    {
     "data": {
      "text/plain": [
       "array([16, 24, 32, 40])"
      ]
     },
     "execution_count": 136,
     "metadata": {},
     "output_type": "execute_result"
    }
   ],
   "source": [
    "cikartma"
   ]
  },
  {
   "cell_type": "code",
   "execution_count": 138,
   "id": "2f08179f",
   "metadata": {},
   "outputs": [],
   "source": [
    "carpma = np.multiply(dizi1, dizi2)"
   ]
  },
  {
   "cell_type": "code",
   "execution_count": 139,
   "id": "32326e2d",
   "metadata": {},
   "outputs": [
    {
     "data": {
      "text/plain": [
       "array([ 80, 180, 320, 500])"
      ]
     },
     "execution_count": 139,
     "metadata": {},
     "output_type": "execute_result"
    }
   ],
   "source": [
    "carpma"
   ]
  },
  {
   "cell_type": "code",
   "execution_count": 141,
   "id": "490f28e6",
   "metadata": {},
   "outputs": [],
   "source": [
    "bolme = np.divide(dizi1, dizi2)"
   ]
  },
  {
   "cell_type": "code",
   "execution_count": 142,
   "id": "4b285bd5",
   "metadata": {},
   "outputs": [
    {
     "data": {
      "text/plain": [
       "array([5., 5., 5., 5.])"
      ]
     },
     "execution_count": 142,
     "metadata": {},
     "output_type": "execute_result"
    }
   ],
   "source": [
    "bolme"
   ]
  },
  {
   "cell_type": "code",
   "execution_count": 143,
   "id": "3425528c",
   "metadata": {},
   "outputs": [],
   "source": [
    "mod = np.mod(dizi1, dizi2)"
   ]
  },
  {
   "cell_type": "code",
   "execution_count": 144,
   "id": "2d58c320",
   "metadata": {},
   "outputs": [
    {
     "data": {
      "text/plain": [
       "array([0, 0, 0, 0])"
      ]
     },
     "execution_count": 144,
     "metadata": {},
     "output_type": "execute_result"
    }
   ],
   "source": [
    "mod"
   ]
  },
  {
   "cell_type": "code",
   "execution_count": 145,
   "id": "5824435a",
   "metadata": {},
   "outputs": [],
   "source": [
    "us_alma = np.power(dizi1,2)"
   ]
  },
  {
   "cell_type": "code",
   "execution_count": 146,
   "id": "0784c0f2",
   "metadata": {},
   "outputs": [
    {
     "data": {
      "text/plain": [
       "array([ 400,  900, 1600, 2500], dtype=int32)"
      ]
     },
     "execution_count": 146,
     "metadata": {},
     "output_type": "execute_result"
    }
   ],
   "source": [
    "us_alma"
   ]
  },
  {
   "cell_type": "code",
   "execution_count": 147,
   "id": "1ad3377b",
   "metadata": {},
   "outputs": [],
   "source": [
    "import numpy as np"
   ]
  },
  {
   "cell_type": "code",
   "execution_count": 149,
   "id": "eaac3a0d",
   "metadata": {},
   "outputs": [],
   "source": [
    "dizi = np.array([10,20,30,40,50])"
   ]
  },
  {
   "cell_type": "code",
   "execution_count": 150,
   "id": "a63dcbf9",
   "metadata": {},
   "outputs": [
    {
     "data": {
      "text/plain": [
       "30.0"
      ]
     },
     "execution_count": 150,
     "metadata": {},
     "output_type": "execute_result"
    }
   ],
   "source": [
    "np.mean(dizi)"
   ]
  },
  {
   "cell_type": "code",
   "execution_count": 151,
   "id": "52fee525",
   "metadata": {},
   "outputs": [
    {
     "data": {
      "text/plain": [
       "30.0"
      ]
     },
     "execution_count": 151,
     "metadata": {},
     "output_type": "execute_result"
    }
   ],
   "source": [
    "np.median(dizi)"
   ]
  },
  {
   "cell_type": "code",
   "execution_count": 152,
   "id": "b542e92a",
   "metadata": {},
   "outputs": [
    {
     "data": {
      "text/plain": [
       "14.142135623730951"
      ]
     },
     "execution_count": 152,
     "metadata": {},
     "output_type": "execute_result"
    }
   ],
   "source": [
    "np.std(dizi)"
   ]
  },
  {
   "cell_type": "code",
   "execution_count": 153,
   "id": "fe86309c",
   "metadata": {},
   "outputs": [
    {
     "data": {
      "text/plain": [
       "200.0"
      ]
     },
     "execution_count": 153,
     "metadata": {},
     "output_type": "execute_result"
    }
   ],
   "source": [
    "np.var(dizi)"
   ]
  },
  {
   "cell_type": "code",
   "execution_count": 154,
   "id": "6c7e47a8",
   "metadata": {},
   "outputs": [
    {
     "data": {
      "text/plain": [
       "10"
      ]
     },
     "execution_count": 154,
     "metadata": {},
     "output_type": "execute_result"
    }
   ],
   "source": [
    "np.min(dizi)"
   ]
  },
  {
   "cell_type": "code",
   "execution_count": 155,
   "id": "0e9bb75c",
   "metadata": {},
   "outputs": [
    {
     "data": {
      "text/plain": [
       "50"
      ]
     },
     "execution_count": 155,
     "metadata": {},
     "output_type": "execute_result"
    }
   ],
   "source": [
    "np.max(dizi)"
   ]
  },
  {
   "cell_type": "code",
   "execution_count": 156,
   "id": "046c5807",
   "metadata": {},
   "outputs": [],
   "source": [
    "import numpy as  np"
   ]
  },
  {
   "cell_type": "code",
   "execution_count": 157,
   "id": "8767a08f",
   "metadata": {},
   "outputs": [],
   "source": [
    "dizi = np.array([1,8,6,2,8,74,52,63,50,41])"
   ]
  },
  {
   "cell_type": "code",
   "execution_count": 158,
   "id": "e50cf7ba",
   "metadata": {},
   "outputs": [
    {
     "data": {
      "text/plain": [
       "array([ 1,  2,  6,  8,  8, 41, 50, 52, 63, 74])"
      ]
     },
     "execution_count": 158,
     "metadata": {},
     "output_type": "execute_result"
    }
   ],
   "source": [
    "np.sort(dizi)"
   ]
  },
  {
   "cell_type": "code",
   "execution_count": 159,
   "id": "ec88c7fb",
   "metadata": {},
   "outputs": [],
   "source": [
    "dizi2 = np.array([5,9,6,3,7,4,1,8,5,2,9,6,3])"
   ]
  },
  {
   "cell_type": "code",
   "execution_count": 160,
   "id": "795563ad",
   "metadata": {},
   "outputs": [
    {
     "data": {
      "text/plain": [
       "array([1, 2, 3, 4, 5, 6, 7, 8, 9])"
      ]
     },
     "execution_count": 160,
     "metadata": {},
     "output_type": "execute_result"
    }
   ],
   "source": [
    "np.unique(dizi2)"
   ]
  },
  {
   "cell_type": "code",
   "execution_count": 167,
   "id": "db8b2b6c",
   "metadata": {},
   "outputs": [],
   "source": [
    "dizi3 = np.array([-1,9,-4,5,-3,7,-6])"
   ]
  },
  {
   "cell_type": "code",
   "execution_count": 168,
   "id": "70b757ce",
   "metadata": {},
   "outputs": [],
   "source": [
    "pozitif_indexler = np.where(dizi3>0)"
   ]
  },
  {
   "cell_type": "code",
   "execution_count": 170,
   "id": "0f3385a0",
   "metadata": {},
   "outputs": [],
   "source": [
    "pozitif_elemanlar = dizi3[pozitif_indexler]"
   ]
  },
  {
   "cell_type": "code",
   "execution_count": 171,
   "id": "44206d27",
   "metadata": {},
   "outputs": [
    {
     "data": {
      "text/plain": [
       "(array([1, 3, 5], dtype=int64),)"
      ]
     },
     "execution_count": 171,
     "metadata": {},
     "output_type": "execute_result"
    }
   ],
   "source": [
    "pozitif_indexler"
   ]
  },
  {
   "cell_type": "code",
   "execution_count": 172,
   "id": "84194e82",
   "metadata": {},
   "outputs": [
    {
     "data": {
      "text/plain": [
       "array([9, 5, 7])"
      ]
     },
     "execution_count": 172,
     "metadata": {},
     "output_type": "execute_result"
    }
   ],
   "source": [
    "pozitif_elemanlar"
   ]
  },
  {
   "cell_type": "markdown",
   "id": "fd63f71a",
   "metadata": {},
   "source": [
    "# Pandas"
   ]
  },
  {
   "cell_type": "code",
   "execution_count": 173,
   "id": "ddc56c04",
   "metadata": {},
   "outputs": [],
   "source": [
    "import pandas as pd\n",
    "import numpy as np"
   ]
  },
  {
   "cell_type": "code",
   "execution_count": 174,
   "id": "66232d92",
   "metadata": {},
   "outputs": [],
   "source": [
    "takımlar = np.array(['Galatasaray', 'Fenerbahçe','Trabzonspor','Beşiktaş'])\n",
    "puanlar = np.array([81,79,52,41])"
   ]
  },
  {
   "cell_type": "code",
   "execution_count": 176,
   "id": "2e260381",
   "metadata": {},
   "outputs": [
    {
     "data": {
      "text/plain": [
       "Galatasaray    81\n",
       "Fenerbahçe     79\n",
       "Trabzonspor    52\n",
       "Beşiktaş       41\n",
       "dtype: int32"
      ]
     },
     "execution_count": 176,
     "metadata": {},
     "output_type": "execute_result"
    }
   ],
   "source": [
    "pd.Series(puanlar, takımlar)"
   ]
  },
  {
   "cell_type": "code",
   "execution_count": 177,
   "id": "4398b9a9",
   "metadata": {},
   "outputs": [],
   "source": [
    "sıralama = {'Galatasaray':81, 'Fenerbahçe':79, 'Trabzonspor':52, 'Beşiktaş':41}"
   ]
  },
  {
   "cell_type": "code",
   "execution_count": 178,
   "id": "ef9c694f",
   "metadata": {},
   "outputs": [
    {
     "data": {
      "text/plain": [
       "Galatasaray    81\n",
       "Fenerbahçe     79\n",
       "Trabzonspor    52\n",
       "Beşiktaş       41\n",
       "dtype: int64"
      ]
     },
     "execution_count": 178,
     "metadata": {},
     "output_type": "execute_result"
    }
   ],
   "source": [
    "pd.Series(sıralama)"
   ]
  },
  {
   "cell_type": "code",
   "execution_count": 196,
   "id": "b85f92f2",
   "metadata": {},
   "outputs": [],
   "source": [
    "import pandas as pd"
   ]
  },
  {
   "cell_type": "code",
   "execution_count": 197,
   "id": "4049cea7",
   "metadata": {},
   "outputs": [],
   "source": [
    "seri1 = pd.Series([1,2,3,4,5])\n",
    "seri2 = pd.Series([6,7,8,9,10])"
   ]
  },
  {
   "cell_type": "code",
   "execution_count": 198,
   "id": "28577d10",
   "metadata": {},
   "outputs": [
    {
     "data": {
      "text/plain": [
       "0     7\n",
       "1     9\n",
       "2    11\n",
       "3    13\n",
       "4    15\n",
       "dtype: int64"
      ]
     },
     "execution_count": 198,
     "metadata": {},
     "output_type": "execute_result"
    }
   ],
   "source": [
    "seri1 + seri2"
   ]
  },
  {
   "cell_type": "code",
   "execution_count": 199,
   "id": "5b9f0985",
   "metadata": {},
   "outputs": [
    {
     "data": {
      "text/plain": [
       "0     6\n",
       "1    14\n",
       "2    24\n",
       "3    36\n",
       "4    50\n",
       "dtype: int64"
      ]
     },
     "execution_count": 199,
     "metadata": {},
     "output_type": "execute_result"
    }
   ],
   "source": [
    "seri1 * seri2"
   ]
  },
  {
   "cell_type": "code",
   "execution_count": 200,
   "id": "f54fae4b",
   "metadata": {},
   "outputs": [
    {
     "data": {
      "text/plain": [
       "0    2\n",
       "1    3\n",
       "2    4\n",
       "3    5\n",
       "4    6\n",
       "dtype: int64"
      ]
     },
     "execution_count": 200,
     "metadata": {},
     "output_type": "execute_result"
    }
   ],
   "source": [
    "seri1 + 1"
   ]
  },
  {
   "cell_type": "code",
   "execution_count": 201,
   "id": "339adf31",
   "metadata": {},
   "outputs": [
    {
     "data": {
      "text/plain": [
       "40"
      ]
     },
     "execution_count": 201,
     "metadata": {},
     "output_type": "execute_result"
    }
   ],
   "source": [
    "seri2.sum()"
   ]
  },
  {
   "cell_type": "code",
   "execution_count": 202,
   "id": "f323968f",
   "metadata": {},
   "outputs": [
    {
     "data": {
      "text/plain": [
       "1.5811388300841898"
      ]
     },
     "execution_count": 202,
     "metadata": {},
     "output_type": "execute_result"
    }
   ],
   "source": [
    "seri1.std()"
   ]
  },
  {
   "cell_type": "code",
   "execution_count": 203,
   "id": "8d435a63",
   "metadata": {},
   "outputs": [
    {
     "data": {
      "text/plain": [
       "1.5811388300841898"
      ]
     },
     "execution_count": 203,
     "metadata": {},
     "output_type": "execute_result"
    }
   ],
   "source": [
    "seri2.std()"
   ]
  },
  {
   "cell_type": "code",
   "execution_count": 204,
   "id": "394a04f7",
   "metadata": {},
   "outputs": [
    {
     "data": {
      "text/plain": [
       "3.0"
      ]
     },
     "execution_count": 204,
     "metadata": {},
     "output_type": "execute_result"
    }
   ],
   "source": [
    "seri1.mean()"
   ]
  },
  {
   "cell_type": "code",
   "execution_count": 205,
   "id": "2940e4f1",
   "metadata": {},
   "outputs": [
    {
     "data": {
      "text/plain": [
       "8.0"
      ]
     },
     "execution_count": 205,
     "metadata": {},
     "output_type": "execute_result"
    }
   ],
   "source": [
    "seri2.mean()"
   ]
  },
  {
   "cell_type": "code",
   "execution_count": 206,
   "id": "31740d7e",
   "metadata": {},
   "outputs": [],
   "source": [
    "import numpy as np\n",
    "import pandas as pd"
   ]
  },
  {
   "cell_type": "code",
   "execution_count": 207,
   "id": "9762476d",
   "metadata": {},
   "outputs": [],
   "source": [
    "numpyDizisi = np.array([[1,2,3],[4,5,6],[7,8,9]])"
   ]
  },
  {
   "cell_type": "code",
   "execution_count": 208,
   "id": "439140cb",
   "metadata": {},
   "outputs": [
    {
     "data": {
      "text/plain": [
       "array([[1, 2, 3],\n",
       "       [4, 5, 6],\n",
       "       [7, 8, 9]])"
      ]
     },
     "execution_count": 208,
     "metadata": {},
     "output_type": "execute_result"
    }
   ],
   "source": [
    "numpyDizisi"
   ]
  },
  {
   "cell_type": "code",
   "execution_count": 212,
   "id": "fb35d621",
   "metadata": {},
   "outputs": [],
   "source": [
    "dataFrame = pd.DataFrame(numpyDizisi, columns = [\"Sütun1\", \"Sütun2\", \"Sütun3\"])"
   ]
  },
  {
   "cell_type": "code",
   "execution_count": 213,
   "id": "a3902752",
   "metadata": {},
   "outputs": [
    {
     "data": {
      "text/html": [
       "<div>\n",
       "<style scoped>\n",
       "    .dataframe tbody tr th:only-of-type {\n",
       "        vertical-align: middle;\n",
       "    }\n",
       "\n",
       "    .dataframe tbody tr th {\n",
       "        vertical-align: top;\n",
       "    }\n",
       "\n",
       "    .dataframe thead th {\n",
       "        text-align: right;\n",
       "    }\n",
       "</style>\n",
       "<table border=\"1\" class=\"dataframe\">\n",
       "  <thead>\n",
       "    <tr style=\"text-align: right;\">\n",
       "      <th></th>\n",
       "      <th>Sütun1</th>\n",
       "      <th>Sütun2</th>\n",
       "      <th>Sütun3</th>\n",
       "    </tr>\n",
       "  </thead>\n",
       "  <tbody>\n",
       "    <tr>\n",
       "      <th>0</th>\n",
       "      <td>1</td>\n",
       "      <td>2</td>\n",
       "      <td>3</td>\n",
       "    </tr>\n",
       "    <tr>\n",
       "      <th>1</th>\n",
       "      <td>4</td>\n",
       "      <td>5</td>\n",
       "      <td>6</td>\n",
       "    </tr>\n",
       "    <tr>\n",
       "      <th>2</th>\n",
       "      <td>7</td>\n",
       "      <td>8</td>\n",
       "      <td>9</td>\n",
       "    </tr>\n",
       "  </tbody>\n",
       "</table>\n",
       "</div>"
      ],
      "text/plain": [
       "   Sütun1  Sütun2  Sütun3\n",
       "0       1       2       3\n",
       "1       4       5       6\n",
       "2       7       8       9"
      ]
     },
     "execution_count": 213,
     "metadata": {},
     "output_type": "execute_result"
    }
   ],
   "source": [
    "dataFrame"
   ]
  },
  {
   "cell_type": "code",
   "execution_count": 214,
   "id": "c6c6782a",
   "metadata": {},
   "outputs": [],
   "source": [
    "numpyDizisi2 = np.arange(12).reshape(3,4)"
   ]
  },
  {
   "cell_type": "code",
   "execution_count": 215,
   "id": "755f632e",
   "metadata": {},
   "outputs": [
    {
     "data": {
      "text/plain": [
       "array([[ 0,  1,  2,  3],\n",
       "       [ 4,  5,  6,  7],\n",
       "       [ 8,  9, 10, 11]])"
      ]
     },
     "execution_count": 215,
     "metadata": {},
     "output_type": "execute_result"
    }
   ],
   "source": [
    "numpyDizisi2"
   ]
  },
  {
   "cell_type": "code",
   "execution_count": 219,
   "id": "4f69473d",
   "metadata": {},
   "outputs": [],
   "source": [
    "myDataFrame = pd.DataFrame(numpyDizisi2, index = [\"Satır1\", \"Satır2\", \"Satır3\"], columns = [\"Sütun1\", \"Sütun2\",\"Sütun3\",\"Sütun4\"])"
   ]
  },
  {
   "cell_type": "code",
   "execution_count": 220,
   "id": "110af12d",
   "metadata": {},
   "outputs": [
    {
     "data": {
      "text/html": [
       "<div>\n",
       "<style scoped>\n",
       "    .dataframe tbody tr th:only-of-type {\n",
       "        vertical-align: middle;\n",
       "    }\n",
       "\n",
       "    .dataframe tbody tr th {\n",
       "        vertical-align: top;\n",
       "    }\n",
       "\n",
       "    .dataframe thead th {\n",
       "        text-align: right;\n",
       "    }\n",
       "</style>\n",
       "<table border=\"1\" class=\"dataframe\">\n",
       "  <thead>\n",
       "    <tr style=\"text-align: right;\">\n",
       "      <th></th>\n",
       "      <th>Sütun1</th>\n",
       "      <th>Sütun2</th>\n",
       "      <th>Sütun3</th>\n",
       "      <th>Sütun4</th>\n",
       "    </tr>\n",
       "  </thead>\n",
       "  <tbody>\n",
       "    <tr>\n",
       "      <th>Satır1</th>\n",
       "      <td>0</td>\n",
       "      <td>1</td>\n",
       "      <td>2</td>\n",
       "      <td>3</td>\n",
       "    </tr>\n",
       "    <tr>\n",
       "      <th>Satır2</th>\n",
       "      <td>4</td>\n",
       "      <td>5</td>\n",
       "      <td>6</td>\n",
       "      <td>7</td>\n",
       "    </tr>\n",
       "    <tr>\n",
       "      <th>Satır3</th>\n",
       "      <td>8</td>\n",
       "      <td>9</td>\n",
       "      <td>10</td>\n",
       "      <td>11</td>\n",
       "    </tr>\n",
       "  </tbody>\n",
       "</table>\n",
       "</div>"
      ],
      "text/plain": [
       "        Sütun1  Sütun2  Sütun3  Sütun4\n",
       "Satır1       0       1       2       3\n",
       "Satır2       4       5       6       7\n",
       "Satır3       8       9      10      11"
      ]
     },
     "execution_count": 220,
     "metadata": {},
     "output_type": "execute_result"
    }
   ],
   "source": [
    "myDataFrame"
   ]
  },
  {
   "cell_type": "code",
   "execution_count": 222,
   "id": "0bffad8a",
   "metadata": {},
   "outputs": [
    {
     "data": {
      "text/plain": [
       "Satır1     2\n",
       "Satır2     6\n",
       "Satır3    10\n",
       "Name: Sütun3, dtype: int32"
      ]
     },
     "execution_count": 222,
     "metadata": {},
     "output_type": "execute_result"
    }
   ],
   "source": [
    "myDataFrame[\"Sütun3\"]"
   ]
  },
  {
   "cell_type": "code",
   "execution_count": 224,
   "id": "10c965aa",
   "metadata": {},
   "outputs": [
    {
     "data": {
      "text/plain": [
       "Sütun1    4\n",
       "Sütun2    5\n",
       "Sütun3    6\n",
       "Sütun4    7\n",
       "Name: Satır2, dtype: int32"
      ]
     },
     "execution_count": 224,
     "metadata": {},
     "output_type": "execute_result"
    }
   ],
   "source": [
    "myDataFrame.loc[\"Satır2\"]"
   ]
  },
  {
   "cell_type": "code",
   "execution_count": 225,
   "id": "7b4b4133",
   "metadata": {},
   "outputs": [],
   "source": [
    "import pandas as pd"
   ]
  },
  {
   "cell_type": "code",
   "execution_count": 227,
   "id": "0414e955",
   "metadata": {},
   "outputs": [],
   "source": [
    "data = {'isim': ['Şevval','Ahmed','Salih','Esma'],\n",
    "       'Yaş': [21,22,25,10],\n",
    "       'Şehir':['Kahramanmaraş', 'Karabük', 'Samsum', 'Ankara']}\n",
    "df = pd.DataFrame(data)"
   ]
  },
  {
   "cell_type": "code",
   "execution_count": 228,
   "id": "ac8eb117",
   "metadata": {},
   "outputs": [
    {
     "data": {
      "text/html": [
       "<div>\n",
       "<style scoped>\n",
       "    .dataframe tbody tr th:only-of-type {\n",
       "        vertical-align: middle;\n",
       "    }\n",
       "\n",
       "    .dataframe tbody tr th {\n",
       "        vertical-align: top;\n",
       "    }\n",
       "\n",
       "    .dataframe thead th {\n",
       "        text-align: right;\n",
       "    }\n",
       "</style>\n",
       "<table border=\"1\" class=\"dataframe\">\n",
       "  <thead>\n",
       "    <tr style=\"text-align: right;\">\n",
       "      <th></th>\n",
       "      <th>isim</th>\n",
       "      <th>Yaş</th>\n",
       "      <th>Şehir</th>\n",
       "    </tr>\n",
       "  </thead>\n",
       "  <tbody>\n",
       "    <tr>\n",
       "      <th>0</th>\n",
       "      <td>Şevval</td>\n",
       "      <td>21</td>\n",
       "      <td>Kahramanmaraş</td>\n",
       "    </tr>\n",
       "    <tr>\n",
       "      <th>1</th>\n",
       "      <td>Ahmed</td>\n",
       "      <td>22</td>\n",
       "      <td>Karabük</td>\n",
       "    </tr>\n",
       "    <tr>\n",
       "      <th>2</th>\n",
       "      <td>Salih</td>\n",
       "      <td>25</td>\n",
       "      <td>Samsum</td>\n",
       "    </tr>\n",
       "    <tr>\n",
       "      <th>3</th>\n",
       "      <td>Esma</td>\n",
       "      <td>10</td>\n",
       "      <td>Ankara</td>\n",
       "    </tr>\n",
       "  </tbody>\n",
       "</table>\n",
       "</div>"
      ],
      "text/plain": [
       "     isim  Yaş          Şehir\n",
       "0  Şevval   21  Kahramanmaraş\n",
       "1   Ahmed   22        Karabük\n",
       "2   Salih   25         Samsum\n",
       "3    Esma   10         Ankara"
      ]
     },
     "execution_count": 228,
     "metadata": {},
     "output_type": "execute_result"
    }
   ],
   "source": [
    "df"
   ]
  },
  {
   "cell_type": "code",
   "execution_count": 229,
   "id": "e2c3c74d",
   "metadata": {},
   "outputs": [],
   "source": [
    "## Özel İndex Atama"
   ]
  },
  {
   "cell_type": "code",
   "execution_count": 234,
   "id": "655f5bca",
   "metadata": {},
   "outputs": [],
   "source": [
    "df = pd.DataFrame(data, index= ['a','b','c','d'])"
   ]
  },
  {
   "cell_type": "code",
   "execution_count": 235,
   "id": "122d0638",
   "metadata": {},
   "outputs": [
    {
     "data": {
      "text/html": [
       "<div>\n",
       "<style scoped>\n",
       "    .dataframe tbody tr th:only-of-type {\n",
       "        vertical-align: middle;\n",
       "    }\n",
       "\n",
       "    .dataframe tbody tr th {\n",
       "        vertical-align: top;\n",
       "    }\n",
       "\n",
       "    .dataframe thead th {\n",
       "        text-align: right;\n",
       "    }\n",
       "</style>\n",
       "<table border=\"1\" class=\"dataframe\">\n",
       "  <thead>\n",
       "    <tr style=\"text-align: right;\">\n",
       "      <th></th>\n",
       "      <th>isim</th>\n",
       "      <th>Yaş</th>\n",
       "      <th>Şehir</th>\n",
       "    </tr>\n",
       "  </thead>\n",
       "  <tbody>\n",
       "    <tr>\n",
       "      <th>a</th>\n",
       "      <td>Şevval</td>\n",
       "      <td>21</td>\n",
       "      <td>Kahramanmaraş</td>\n",
       "    </tr>\n",
       "    <tr>\n",
       "      <th>b</th>\n",
       "      <td>Ahmed</td>\n",
       "      <td>22</td>\n",
       "      <td>Karabük</td>\n",
       "    </tr>\n",
       "    <tr>\n",
       "      <th>c</th>\n",
       "      <td>Salih</td>\n",
       "      <td>25</td>\n",
       "      <td>Samsum</td>\n",
       "    </tr>\n",
       "    <tr>\n",
       "      <th>d</th>\n",
       "      <td>Esma</td>\n",
       "      <td>10</td>\n",
       "      <td>Ankara</td>\n",
       "    </tr>\n",
       "  </tbody>\n",
       "</table>\n",
       "</div>"
      ],
      "text/plain": [
       "     isim  Yaş          Şehir\n",
       "a  Şevval   21  Kahramanmaraş\n",
       "b   Ahmed   22        Karabük\n",
       "c   Salih   25         Samsum\n",
       "d    Esma   10         Ankara"
      ]
     },
     "execution_count": 235,
     "metadata": {},
     "output_type": "execute_result"
    }
   ],
   "source": [
    "df"
   ]
  },
  {
   "cell_type": "code",
   "execution_count": 236,
   "id": "da2eb59a",
   "metadata": {},
   "outputs": [],
   "source": [
    "##Etiketlere Göre Seçim"
   ]
  },
  {
   "cell_type": "code",
   "execution_count": 237,
   "id": "9b8e565b",
   "metadata": {},
   "outputs": [
    {
     "data": {
      "text/plain": [
       "isim            Şevval\n",
       "Yaş                 21\n",
       "Şehir    Kahramanmaraş\n",
       "Name: a, dtype: object"
      ]
     },
     "execution_count": 237,
     "metadata": {},
     "output_type": "execute_result"
    }
   ],
   "source": [
    "df.loc['a']"
   ]
  },
  {
   "cell_type": "code",
   "execution_count": 239,
   "id": "1e1b462f",
   "metadata": {},
   "outputs": [
    {
     "data": {
      "text/plain": [
       "isim      Salih\n",
       "Yaş          25\n",
       "Şehir    Samsum\n",
       "Name: c, dtype: object"
      ]
     },
     "execution_count": 239,
     "metadata": {},
     "output_type": "execute_result"
    }
   ],
   "source": [
    "df.iloc[2]"
   ]
  },
  {
   "cell_type": "code",
   "execution_count": 240,
   "id": "8f6d844e",
   "metadata": {},
   "outputs": [],
   "source": [
    "## Dataframe İndexlerini Tekrar Adlandırma"
   ]
  },
  {
   "cell_type": "code",
   "execution_count": 241,
   "id": "3adc06e3",
   "metadata": {},
   "outputs": [
    {
     "data": {
      "text/html": [
       "<div>\n",
       "<style scoped>\n",
       "    .dataframe tbody tr th:only-of-type {\n",
       "        vertical-align: middle;\n",
       "    }\n",
       "\n",
       "    .dataframe tbody tr th {\n",
       "        vertical-align: top;\n",
       "    }\n",
       "\n",
       "    .dataframe thead th {\n",
       "        text-align: right;\n",
       "    }\n",
       "</style>\n",
       "<table border=\"1\" class=\"dataframe\">\n",
       "  <thead>\n",
       "    <tr style=\"text-align: right;\">\n",
       "      <th></th>\n",
       "      <th>isim</th>\n",
       "      <th>Yaş</th>\n",
       "      <th>Şehir</th>\n",
       "    </tr>\n",
       "  </thead>\n",
       "  <tbody>\n",
       "    <tr>\n",
       "      <th>bir</th>\n",
       "      <td>Şevval</td>\n",
       "      <td>21</td>\n",
       "      <td>Kahramanmaraş</td>\n",
       "    </tr>\n",
       "    <tr>\n",
       "      <th>iki</th>\n",
       "      <td>Ahmed</td>\n",
       "      <td>22</td>\n",
       "      <td>Karabük</td>\n",
       "    </tr>\n",
       "    <tr>\n",
       "      <th>üç</th>\n",
       "      <td>Salih</td>\n",
       "      <td>25</td>\n",
       "      <td>Samsum</td>\n",
       "    </tr>\n",
       "    <tr>\n",
       "      <th>dört</th>\n",
       "      <td>Esma</td>\n",
       "      <td>10</td>\n",
       "      <td>Ankara</td>\n",
       "    </tr>\n",
       "  </tbody>\n",
       "</table>\n",
       "</div>"
      ],
      "text/plain": [
       "        isim  Yaş          Şehir\n",
       "bir   Şevval   21  Kahramanmaraş\n",
       "iki    Ahmed   22        Karabük\n",
       "üç     Salih   25         Samsum\n",
       "dört    Esma   10         Ankara"
      ]
     },
     "execution_count": 241,
     "metadata": {},
     "output_type": "execute_result"
    }
   ],
   "source": [
    "df.index=['bir','iki','üç','dört']\n",
    "df"
   ]
  },
  {
   "cell_type": "code",
   "execution_count": 244,
   "id": "ba49224c",
   "metadata": {},
   "outputs": [],
   "source": [
    "df.rename(index = {'bir': 1}, inplace = True)"
   ]
  },
  {
   "cell_type": "code",
   "execution_count": 245,
   "id": "6815be31",
   "metadata": {},
   "outputs": [
    {
     "data": {
      "text/html": [
       "<div>\n",
       "<style scoped>\n",
       "    .dataframe tbody tr th:only-of-type {\n",
       "        vertical-align: middle;\n",
       "    }\n",
       "\n",
       "    .dataframe tbody tr th {\n",
       "        vertical-align: top;\n",
       "    }\n",
       "\n",
       "    .dataframe thead th {\n",
       "        text-align: right;\n",
       "    }\n",
       "</style>\n",
       "<table border=\"1\" class=\"dataframe\">\n",
       "  <thead>\n",
       "    <tr style=\"text-align: right;\">\n",
       "      <th></th>\n",
       "      <th>isim</th>\n",
       "      <th>Yaş</th>\n",
       "      <th>Şehir</th>\n",
       "    </tr>\n",
       "  </thead>\n",
       "  <tbody>\n",
       "    <tr>\n",
       "      <th>1</th>\n",
       "      <td>Şevval</td>\n",
       "      <td>21</td>\n",
       "      <td>Kahramanmaraş</td>\n",
       "    </tr>\n",
       "    <tr>\n",
       "      <th>iki</th>\n",
       "      <td>Ahmed</td>\n",
       "      <td>22</td>\n",
       "      <td>Karabük</td>\n",
       "    </tr>\n",
       "    <tr>\n",
       "      <th>üç</th>\n",
       "      <td>Salih</td>\n",
       "      <td>25</td>\n",
       "      <td>Samsum</td>\n",
       "    </tr>\n",
       "    <tr>\n",
       "      <th>dört</th>\n",
       "      <td>Esma</td>\n",
       "      <td>10</td>\n",
       "      <td>Ankara</td>\n",
       "    </tr>\n",
       "  </tbody>\n",
       "</table>\n",
       "</div>"
      ],
      "text/plain": [
       "        isim  Yaş          Şehir\n",
       "1     Şevval   21  Kahramanmaraş\n",
       "iki    Ahmed   22        Karabük\n",
       "üç     Salih   25         Samsum\n",
       "dört    Esma   10         Ankara"
      ]
     },
     "execution_count": 245,
     "metadata": {},
     "output_type": "execute_result"
    }
   ],
   "source": [
    "df"
   ]
  },
  {
   "cell_type": "code",
   "execution_count": 248,
   "id": "472074f6",
   "metadata": {},
   "outputs": [],
   "source": [
    "df_reset = df.reset_index()"
   ]
  },
  {
   "cell_type": "code",
   "execution_count": 250,
   "id": "c0ab57d9",
   "metadata": {},
   "outputs": [
    {
     "data": {
      "text/html": [
       "<div>\n",
       "<style scoped>\n",
       "    .dataframe tbody tr th:only-of-type {\n",
       "        vertical-align: middle;\n",
       "    }\n",
       "\n",
       "    .dataframe tbody tr th {\n",
       "        vertical-align: top;\n",
       "    }\n",
       "\n",
       "    .dataframe thead th {\n",
       "        text-align: right;\n",
       "    }\n",
       "</style>\n",
       "<table border=\"1\" class=\"dataframe\">\n",
       "  <thead>\n",
       "    <tr style=\"text-align: right;\">\n",
       "      <th></th>\n",
       "      <th>index</th>\n",
       "      <th>isim</th>\n",
       "      <th>Yaş</th>\n",
       "      <th>Şehir</th>\n",
       "    </tr>\n",
       "  </thead>\n",
       "  <tbody>\n",
       "    <tr>\n",
       "      <th>0</th>\n",
       "      <td>1</td>\n",
       "      <td>Şevval</td>\n",
       "      <td>21</td>\n",
       "      <td>Kahramanmaraş</td>\n",
       "    </tr>\n",
       "    <tr>\n",
       "      <th>1</th>\n",
       "      <td>iki</td>\n",
       "      <td>Ahmed</td>\n",
       "      <td>22</td>\n",
       "      <td>Karabük</td>\n",
       "    </tr>\n",
       "    <tr>\n",
       "      <th>2</th>\n",
       "      <td>üç</td>\n",
       "      <td>Salih</td>\n",
       "      <td>25</td>\n",
       "      <td>Samsum</td>\n",
       "    </tr>\n",
       "    <tr>\n",
       "      <th>3</th>\n",
       "      <td>dört</td>\n",
       "      <td>Esma</td>\n",
       "      <td>10</td>\n",
       "      <td>Ankara</td>\n",
       "    </tr>\n",
       "  </tbody>\n",
       "</table>\n",
       "</div>"
      ],
      "text/plain": [
       "  index    isim  Yaş          Şehir\n",
       "0     1  Şevval   21  Kahramanmaraş\n",
       "1   iki   Ahmed   22        Karabük\n",
       "2    üç   Salih   25         Samsum\n",
       "3  dört    Esma   10         Ankara"
      ]
     },
     "execution_count": 250,
     "metadata": {},
     "output_type": "execute_result"
    }
   ],
   "source": [
    "df_reset"
   ]
  },
  {
   "cell_type": "code",
   "execution_count": 251,
   "id": "44cabad1",
   "metadata": {},
   "outputs": [],
   "source": [
    "##İsim Sütununu İndex Olarak Ayarlama"
   ]
  },
  {
   "cell_type": "code",
   "execution_count": 252,
   "id": "6815b465",
   "metadata": {},
   "outputs": [],
   "source": [
    "df_set_index = df.set_index('isim')"
   ]
  },
  {
   "cell_type": "code",
   "execution_count": 253,
   "id": "abcda341",
   "metadata": {},
   "outputs": [
    {
     "data": {
      "text/html": [
       "<div>\n",
       "<style scoped>\n",
       "    .dataframe tbody tr th:only-of-type {\n",
       "        vertical-align: middle;\n",
       "    }\n",
       "\n",
       "    .dataframe tbody tr th {\n",
       "        vertical-align: top;\n",
       "    }\n",
       "\n",
       "    .dataframe thead th {\n",
       "        text-align: right;\n",
       "    }\n",
       "</style>\n",
       "<table border=\"1\" class=\"dataframe\">\n",
       "  <thead>\n",
       "    <tr style=\"text-align: right;\">\n",
       "      <th></th>\n",
       "      <th>Yaş</th>\n",
       "      <th>Şehir</th>\n",
       "    </tr>\n",
       "    <tr>\n",
       "      <th>isim</th>\n",
       "      <th></th>\n",
       "      <th></th>\n",
       "    </tr>\n",
       "  </thead>\n",
       "  <tbody>\n",
       "    <tr>\n",
       "      <th>Şevval</th>\n",
       "      <td>21</td>\n",
       "      <td>Kahramanmaraş</td>\n",
       "    </tr>\n",
       "    <tr>\n",
       "      <th>Ahmed</th>\n",
       "      <td>22</td>\n",
       "      <td>Karabük</td>\n",
       "    </tr>\n",
       "    <tr>\n",
       "      <th>Salih</th>\n",
       "      <td>25</td>\n",
       "      <td>Samsum</td>\n",
       "    </tr>\n",
       "    <tr>\n",
       "      <th>Esma</th>\n",
       "      <td>10</td>\n",
       "      <td>Ankara</td>\n",
       "    </tr>\n",
       "  </tbody>\n",
       "</table>\n",
       "</div>"
      ],
      "text/plain": [
       "        Yaş          Şehir\n",
       "isim                      \n",
       "Şevval   21  Kahramanmaraş\n",
       "Ahmed    22        Karabük\n",
       "Salih    25         Samsum\n",
       "Esma     10         Ankara"
      ]
     },
     "execution_count": 253,
     "metadata": {},
     "output_type": "execute_result"
    }
   ],
   "source": [
    "df_set_index"
   ]
  },
  {
   "cell_type": "code",
   "execution_count": 257,
   "id": "bc0ea113",
   "metadata": {},
   "outputs": [],
   "source": [
    "df_multi = df.set_index(['isim','Şehir'])"
   ]
  },
  {
   "cell_type": "code",
   "execution_count": 258,
   "id": "8d180a62",
   "metadata": {},
   "outputs": [
    {
     "data": {
      "text/html": [
       "<div>\n",
       "<style scoped>\n",
       "    .dataframe tbody tr th:only-of-type {\n",
       "        vertical-align: middle;\n",
       "    }\n",
       "\n",
       "    .dataframe tbody tr th {\n",
       "        vertical-align: top;\n",
       "    }\n",
       "\n",
       "    .dataframe thead th {\n",
       "        text-align: right;\n",
       "    }\n",
       "</style>\n",
       "<table border=\"1\" class=\"dataframe\">\n",
       "  <thead>\n",
       "    <tr style=\"text-align: right;\">\n",
       "      <th></th>\n",
       "      <th></th>\n",
       "      <th>Yaş</th>\n",
       "    </tr>\n",
       "    <tr>\n",
       "      <th>isim</th>\n",
       "      <th>Şehir</th>\n",
       "      <th></th>\n",
       "    </tr>\n",
       "  </thead>\n",
       "  <tbody>\n",
       "    <tr>\n",
       "      <th>Şevval</th>\n",
       "      <th>Kahramanmaraş</th>\n",
       "      <td>21</td>\n",
       "    </tr>\n",
       "    <tr>\n",
       "      <th>Ahmed</th>\n",
       "      <th>Karabük</th>\n",
       "      <td>22</td>\n",
       "    </tr>\n",
       "    <tr>\n",
       "      <th>Salih</th>\n",
       "      <th>Samsum</th>\n",
       "      <td>25</td>\n",
       "    </tr>\n",
       "    <tr>\n",
       "      <th>Esma</th>\n",
       "      <th>Ankara</th>\n",
       "      <td>10</td>\n",
       "    </tr>\n",
       "  </tbody>\n",
       "</table>\n",
       "</div>"
      ],
      "text/plain": [
       "                      Yaş\n",
       "isim   Şehir             \n",
       "Şevval Kahramanmaraş   21\n",
       "Ahmed  Karabük         22\n",
       "Salih  Samsum          25\n",
       "Esma   Ankara          10"
      ]
     },
     "execution_count": 258,
     "metadata": {},
     "output_type": "execute_result"
    }
   ],
   "source": [
    "df_multi"
   ]
  },
  {
   "cell_type": "code",
   "execution_count": 259,
   "id": "d9fc9325",
   "metadata": {},
   "outputs": [],
   "source": [
    "## İndex Üzerinde İşlemler"
   ]
  },
  {
   "cell_type": "code",
   "execution_count": 260,
   "id": "43efa037",
   "metadata": {},
   "outputs": [
    {
     "data": {
      "text/html": [
       "<div>\n",
       "<style scoped>\n",
       "    .dataframe tbody tr th:only-of-type {\n",
       "        vertical-align: middle;\n",
       "    }\n",
       "\n",
       "    .dataframe tbody tr th {\n",
       "        vertical-align: top;\n",
       "    }\n",
       "\n",
       "    .dataframe thead th {\n",
       "        text-align: right;\n",
       "    }\n",
       "</style>\n",
       "<table border=\"1\" class=\"dataframe\">\n",
       "  <thead>\n",
       "    <tr style=\"text-align: right;\">\n",
       "      <th></th>\n",
       "      <th>index</th>\n",
       "      <th>isim</th>\n",
       "      <th>Yaş</th>\n",
       "      <th>Şehir</th>\n",
       "    </tr>\n",
       "  </thead>\n",
       "  <tbody>\n",
       "    <tr>\n",
       "      <th>0</th>\n",
       "      <td>1</td>\n",
       "      <td>Şevval</td>\n",
       "      <td>21</td>\n",
       "      <td>Kahramanmaraş</td>\n",
       "    </tr>\n",
       "    <tr>\n",
       "      <th>1</th>\n",
       "      <td>iki</td>\n",
       "      <td>Ahmed</td>\n",
       "      <td>22</td>\n",
       "      <td>Karabük</td>\n",
       "    </tr>\n",
       "    <tr>\n",
       "      <th>2</th>\n",
       "      <td>üç</td>\n",
       "      <td>Salih</td>\n",
       "      <td>25</td>\n",
       "      <td>Samsum</td>\n",
       "    </tr>\n",
       "    <tr>\n",
       "      <th>3</th>\n",
       "      <td>dört</td>\n",
       "      <td>Esma</td>\n",
       "      <td>10</td>\n",
       "      <td>Ankara</td>\n",
       "    </tr>\n",
       "  </tbody>\n",
       "</table>\n",
       "</div>"
      ],
      "text/plain": [
       "  index    isim  Yaş          Şehir\n",
       "0     1  Şevval   21  Kahramanmaraş\n",
       "1   iki   Ahmed   22        Karabük\n",
       "2    üç   Salih   25         Samsum\n",
       "3  dört    Esma   10         Ankara"
      ]
     },
     "execution_count": 260,
     "metadata": {},
     "output_type": "execute_result"
    }
   ],
   "source": [
    "df_reset.sort_index()"
   ]
  },
  {
   "cell_type": "code",
   "execution_count": 261,
   "id": "f0ca3f25",
   "metadata": {},
   "outputs": [],
   "source": [
    "import numpy as np\n",
    "import pandas as pd"
   ]
  },
  {
   "cell_type": "code",
   "execution_count": 262,
   "id": "8e729423",
   "metadata": {},
   "outputs": [],
   "source": [
    "data = {'A' : [1,2, np.nan], 'B' : [5,6, np.nan], 'C': [7,8,9]}"
   ]
  },
  {
   "cell_type": "code",
   "execution_count": 267,
   "id": "83591845",
   "metadata": {},
   "outputs": [],
   "source": [
    "df = pd.DataFrame(data)"
   ]
  },
  {
   "cell_type": "code",
   "execution_count": 268,
   "id": "77d0ca10",
   "metadata": {},
   "outputs": [
    {
     "data": {
      "text/html": [
       "<div>\n",
       "<style scoped>\n",
       "    .dataframe tbody tr th:only-of-type {\n",
       "        vertical-align: middle;\n",
       "    }\n",
       "\n",
       "    .dataframe tbody tr th {\n",
       "        vertical-align: top;\n",
       "    }\n",
       "\n",
       "    .dataframe thead th {\n",
       "        text-align: right;\n",
       "    }\n",
       "</style>\n",
       "<table border=\"1\" class=\"dataframe\">\n",
       "  <thead>\n",
       "    <tr style=\"text-align: right;\">\n",
       "      <th></th>\n",
       "      <th>A</th>\n",
       "      <th>B</th>\n",
       "      <th>C</th>\n",
       "    </tr>\n",
       "  </thead>\n",
       "  <tbody>\n",
       "    <tr>\n",
       "      <th>0</th>\n",
       "      <td>1.0</td>\n",
       "      <td>5.0</td>\n",
       "      <td>7</td>\n",
       "    </tr>\n",
       "    <tr>\n",
       "      <th>1</th>\n",
       "      <td>2.0</td>\n",
       "      <td>6.0</td>\n",
       "      <td>8</td>\n",
       "    </tr>\n",
       "    <tr>\n",
       "      <th>2</th>\n",
       "      <td>NaN</td>\n",
       "      <td>NaN</td>\n",
       "      <td>9</td>\n",
       "    </tr>\n",
       "  </tbody>\n",
       "</table>\n",
       "</div>"
      ],
      "text/plain": [
       "     A    B  C\n",
       "0  1.0  5.0  7\n",
       "1  2.0  6.0  8\n",
       "2  NaN  NaN  9"
      ]
     },
     "execution_count": 268,
     "metadata": {},
     "output_type": "execute_result"
    }
   ],
   "source": [
    "df"
   ]
  },
  {
   "cell_type": "code",
   "execution_count": 269,
   "id": "75a18b39",
   "metadata": {},
   "outputs": [
    {
     "data": {
      "text/html": [
       "<div>\n",
       "<style scoped>\n",
       "    .dataframe tbody tr th:only-of-type {\n",
       "        vertical-align: middle;\n",
       "    }\n",
       "\n",
       "    .dataframe tbody tr th {\n",
       "        vertical-align: top;\n",
       "    }\n",
       "\n",
       "    .dataframe thead th {\n",
       "        text-align: right;\n",
       "    }\n",
       "</style>\n",
       "<table border=\"1\" class=\"dataframe\">\n",
       "  <thead>\n",
       "    <tr style=\"text-align: right;\">\n",
       "      <th></th>\n",
       "      <th>A</th>\n",
       "      <th>B</th>\n",
       "      <th>C</th>\n",
       "    </tr>\n",
       "  </thead>\n",
       "  <tbody>\n",
       "    <tr>\n",
       "      <th>0</th>\n",
       "      <td>False</td>\n",
       "      <td>False</td>\n",
       "      <td>False</td>\n",
       "    </tr>\n",
       "    <tr>\n",
       "      <th>1</th>\n",
       "      <td>False</td>\n",
       "      <td>False</td>\n",
       "      <td>False</td>\n",
       "    </tr>\n",
       "    <tr>\n",
       "      <th>2</th>\n",
       "      <td>True</td>\n",
       "      <td>True</td>\n",
       "      <td>False</td>\n",
       "    </tr>\n",
       "  </tbody>\n",
       "</table>\n",
       "</div>"
      ],
      "text/plain": [
       "       A      B      C\n",
       "0  False  False  False\n",
       "1  False  False  False\n",
       "2   True   True  False"
      ]
     },
     "execution_count": 269,
     "metadata": {},
     "output_type": "execute_result"
    }
   ],
   "source": [
    "df.isna()"
   ]
  },
  {
   "cell_type": "code",
   "execution_count": 270,
   "id": "ff992535",
   "metadata": {},
   "outputs": [
    {
     "data": {
      "text/html": [
       "<div>\n",
       "<style scoped>\n",
       "    .dataframe tbody tr th:only-of-type {\n",
       "        vertical-align: middle;\n",
       "    }\n",
       "\n",
       "    .dataframe tbody tr th {\n",
       "        vertical-align: top;\n",
       "    }\n",
       "\n",
       "    .dataframe thead th {\n",
       "        text-align: right;\n",
       "    }\n",
       "</style>\n",
       "<table border=\"1\" class=\"dataframe\">\n",
       "  <thead>\n",
       "    <tr style=\"text-align: right;\">\n",
       "      <th></th>\n",
       "      <th>A</th>\n",
       "      <th>B</th>\n",
       "      <th>C</th>\n",
       "    </tr>\n",
       "  </thead>\n",
       "  <tbody>\n",
       "    <tr>\n",
       "      <th>0</th>\n",
       "      <td>1.0</td>\n",
       "      <td>5.0</td>\n",
       "      <td>7</td>\n",
       "    </tr>\n",
       "    <tr>\n",
       "      <th>1</th>\n",
       "      <td>2.0</td>\n",
       "      <td>6.0</td>\n",
       "      <td>8</td>\n",
       "    </tr>\n",
       "    <tr>\n",
       "      <th>2</th>\n",
       "      <td>0.0</td>\n",
       "      <td>0.0</td>\n",
       "      <td>9</td>\n",
       "    </tr>\n",
       "  </tbody>\n",
       "</table>\n",
       "</div>"
      ],
      "text/plain": [
       "     A    B  C\n",
       "0  1.0  5.0  7\n",
       "1  2.0  6.0  8\n",
       "2  0.0  0.0  9"
      ]
     },
     "execution_count": 270,
     "metadata": {},
     "output_type": "execute_result"
    }
   ],
   "source": [
    "df.fillna(0)"
   ]
  },
  {
   "cell_type": "code",
   "execution_count": 271,
   "id": "e23d0e1b",
   "metadata": {},
   "outputs": [
    {
     "data": {
      "text/html": [
       "<div>\n",
       "<style scoped>\n",
       "    .dataframe tbody tr th:only-of-type {\n",
       "        vertical-align: middle;\n",
       "    }\n",
       "\n",
       "    .dataframe tbody tr th {\n",
       "        vertical-align: top;\n",
       "    }\n",
       "\n",
       "    .dataframe thead th {\n",
       "        text-align: right;\n",
       "    }\n",
       "</style>\n",
       "<table border=\"1\" class=\"dataframe\">\n",
       "  <thead>\n",
       "    <tr style=\"text-align: right;\">\n",
       "      <th></th>\n",
       "      <th>A</th>\n",
       "      <th>B</th>\n",
       "      <th>C</th>\n",
       "    </tr>\n",
       "  </thead>\n",
       "  <tbody>\n",
       "    <tr>\n",
       "      <th>0</th>\n",
       "      <td>1.0</td>\n",
       "      <td>5.0</td>\n",
       "      <td>7</td>\n",
       "    </tr>\n",
       "    <tr>\n",
       "      <th>1</th>\n",
       "      <td>2.0</td>\n",
       "      <td>6.0</td>\n",
       "      <td>8</td>\n",
       "    </tr>\n",
       "    <tr>\n",
       "      <th>2</th>\n",
       "      <td>NaN</td>\n",
       "      <td>NaN</td>\n",
       "      <td>9</td>\n",
       "    </tr>\n",
       "  </tbody>\n",
       "</table>\n",
       "</div>"
      ],
      "text/plain": [
       "     A    B  C\n",
       "0  1.0  5.0  7\n",
       "1  2.0  6.0  8\n",
       "2  NaN  NaN  9"
      ]
     },
     "execution_count": 271,
     "metadata": {},
     "output_type": "execute_result"
    }
   ],
   "source": [
    "df"
   ]
  },
  {
   "cell_type": "code",
   "execution_count": 273,
   "id": "635dafc7",
   "metadata": {},
   "outputs": [
    {
     "data": {
      "text/html": [
       "<div>\n",
       "<style scoped>\n",
       "    .dataframe tbody tr th:only-of-type {\n",
       "        vertical-align: middle;\n",
       "    }\n",
       "\n",
       "    .dataframe tbody tr th {\n",
       "        vertical-align: top;\n",
       "    }\n",
       "\n",
       "    .dataframe thead th {\n",
       "        text-align: right;\n",
       "    }\n",
       "</style>\n",
       "<table border=\"1\" class=\"dataframe\">\n",
       "  <thead>\n",
       "    <tr style=\"text-align: right;\">\n",
       "      <th></th>\n",
       "      <th>A</th>\n",
       "      <th>B</th>\n",
       "      <th>C</th>\n",
       "    </tr>\n",
       "  </thead>\n",
       "  <tbody>\n",
       "    <tr>\n",
       "      <th>0</th>\n",
       "      <td>1.0</td>\n",
       "      <td>5.0</td>\n",
       "      <td>7</td>\n",
       "    </tr>\n",
       "    <tr>\n",
       "      <th>1</th>\n",
       "      <td>2.0</td>\n",
       "      <td>6.0</td>\n",
       "      <td>8</td>\n",
       "    </tr>\n",
       "  </tbody>\n",
       "</table>\n",
       "</div>"
      ],
      "text/plain": [
       "     A    B  C\n",
       "0  1.0  5.0  7\n",
       "1  2.0  6.0  8"
      ]
     },
     "execution_count": 273,
     "metadata": {},
     "output_type": "execute_result"
    }
   ],
   "source": [
    "df.dropna()"
   ]
  },
  {
   "cell_type": "code",
   "execution_count": 274,
   "id": "2fd7e359",
   "metadata": {},
   "outputs": [
    {
     "data": {
      "text/html": [
       "<div>\n",
       "<style scoped>\n",
       "    .dataframe tbody tr th:only-of-type {\n",
       "        vertical-align: middle;\n",
       "    }\n",
       "\n",
       "    .dataframe tbody tr th {\n",
       "        vertical-align: top;\n",
       "    }\n",
       "\n",
       "    .dataframe thead th {\n",
       "        text-align: right;\n",
       "    }\n",
       "</style>\n",
       "<table border=\"1\" class=\"dataframe\">\n",
       "  <thead>\n",
       "    <tr style=\"text-align: right;\">\n",
       "      <th></th>\n",
       "      <th>A</th>\n",
       "      <th>B</th>\n",
       "      <th>C</th>\n",
       "    </tr>\n",
       "  </thead>\n",
       "  <tbody>\n",
       "    <tr>\n",
       "      <th>0</th>\n",
       "      <td>1.0</td>\n",
       "      <td>5.0</td>\n",
       "      <td>7</td>\n",
       "    </tr>\n",
       "    <tr>\n",
       "      <th>1</th>\n",
       "      <td>2.0</td>\n",
       "      <td>6.0</td>\n",
       "      <td>8</td>\n",
       "    </tr>\n",
       "  </tbody>\n",
       "</table>\n",
       "</div>"
      ],
      "text/plain": [
       "     A    B  C\n",
       "0  1.0  5.0  7\n",
       "1  2.0  6.0  8"
      ]
     },
     "execution_count": 274,
     "metadata": {},
     "output_type": "execute_result"
    }
   ],
   "source": [
    "df.dropna(axis = 0)"
   ]
  },
  {
   "cell_type": "code",
   "execution_count": 275,
   "id": "6b39a383",
   "metadata": {},
   "outputs": [
    {
     "data": {
      "text/html": [
       "<div>\n",
       "<style scoped>\n",
       "    .dataframe tbody tr th:only-of-type {\n",
       "        vertical-align: middle;\n",
       "    }\n",
       "\n",
       "    .dataframe tbody tr th {\n",
       "        vertical-align: top;\n",
       "    }\n",
       "\n",
       "    .dataframe thead th {\n",
       "        text-align: right;\n",
       "    }\n",
       "</style>\n",
       "<table border=\"1\" class=\"dataframe\">\n",
       "  <thead>\n",
       "    <tr style=\"text-align: right;\">\n",
       "      <th></th>\n",
       "      <th>C</th>\n",
       "    </tr>\n",
       "  </thead>\n",
       "  <tbody>\n",
       "    <tr>\n",
       "      <th>0</th>\n",
       "      <td>7</td>\n",
       "    </tr>\n",
       "    <tr>\n",
       "      <th>1</th>\n",
       "      <td>8</td>\n",
       "    </tr>\n",
       "    <tr>\n",
       "      <th>2</th>\n",
       "      <td>9</td>\n",
       "    </tr>\n",
       "  </tbody>\n",
       "</table>\n",
       "</div>"
      ],
      "text/plain": [
       "   C\n",
       "0  7\n",
       "1  8\n",
       "2  9"
      ]
     },
     "execution_count": 275,
     "metadata": {},
     "output_type": "execute_result"
    }
   ],
   "source": [
    "df.dropna(axis = 1)"
   ]
  },
  {
   "cell_type": "code",
   "execution_count": 276,
   "id": "35a51892",
   "metadata": {},
   "outputs": [
    {
     "data": {
      "text/plain": [
       "A    1\n",
       "B    1\n",
       "C    0\n",
       "dtype: int64"
      ]
     },
     "execution_count": 276,
     "metadata": {},
     "output_type": "execute_result"
    }
   ],
   "source": [
    "df.isna().sum()"
   ]
  },
  {
   "cell_type": "code",
   "execution_count": 294,
   "id": "4dd6669e",
   "metadata": {},
   "outputs": [],
   "source": [
    "import pandas as pd\n",
    "import numpy as np"
   ]
  },
  {
   "cell_type": "code",
   "execution_count": 295,
   "id": "58995322",
   "metadata": {},
   "outputs": [],
   "source": [
    "data = {\n",
    "    'Şehir' : ['Ankara', 'İstanbul','Karabük', 'Samsun','İzmir','Kahramanmaraş'],\n",
    "    'Cinsiyet' : ['Kız', 'Erkek','Kız','Kız','Erkek','Erkek'],\n",
    "    'Yaş' : [25,14,25,36,23,24],\n",
    "    'Maaş' : [20000,30000,40000,43000,32000,26000]\n",
    "}"
   ]
  },
  {
   "cell_type": "code",
   "execution_count": 296,
   "id": "5c1ba3c3",
   "metadata": {},
   "outputs": [],
   "source": [
    "df = pd.DataFrame(data)"
   ]
  },
  {
   "cell_type": "code",
   "execution_count": 297,
   "id": "21f19a99",
   "metadata": {},
   "outputs": [
    {
     "data": {
      "text/html": [
       "<div>\n",
       "<style scoped>\n",
       "    .dataframe tbody tr th:only-of-type {\n",
       "        vertical-align: middle;\n",
       "    }\n",
       "\n",
       "    .dataframe tbody tr th {\n",
       "        vertical-align: top;\n",
       "    }\n",
       "\n",
       "    .dataframe thead th {\n",
       "        text-align: right;\n",
       "    }\n",
       "</style>\n",
       "<table border=\"1\" class=\"dataframe\">\n",
       "  <thead>\n",
       "    <tr style=\"text-align: right;\">\n",
       "      <th></th>\n",
       "      <th>Şehir</th>\n",
       "      <th>Cinsiyet</th>\n",
       "      <th>Yaş</th>\n",
       "      <th>Maaş</th>\n",
       "    </tr>\n",
       "  </thead>\n",
       "  <tbody>\n",
       "    <tr>\n",
       "      <th>0</th>\n",
       "      <td>Ankara</td>\n",
       "      <td>Kız</td>\n",
       "      <td>25</td>\n",
       "      <td>20000</td>\n",
       "    </tr>\n",
       "    <tr>\n",
       "      <th>1</th>\n",
       "      <td>İstanbul</td>\n",
       "      <td>Erkek</td>\n",
       "      <td>14</td>\n",
       "      <td>30000</td>\n",
       "    </tr>\n",
       "    <tr>\n",
       "      <th>2</th>\n",
       "      <td>Karabük</td>\n",
       "      <td>Kız</td>\n",
       "      <td>25</td>\n",
       "      <td>40000</td>\n",
       "    </tr>\n",
       "    <tr>\n",
       "      <th>3</th>\n",
       "      <td>Samsun</td>\n",
       "      <td>Kız</td>\n",
       "      <td>36</td>\n",
       "      <td>43000</td>\n",
       "    </tr>\n",
       "    <tr>\n",
       "      <th>4</th>\n",
       "      <td>İzmir</td>\n",
       "      <td>Erkek</td>\n",
       "      <td>23</td>\n",
       "      <td>32000</td>\n",
       "    </tr>\n",
       "    <tr>\n",
       "      <th>5</th>\n",
       "      <td>Kahramanmaraş</td>\n",
       "      <td>Erkek</td>\n",
       "      <td>24</td>\n",
       "      <td>26000</td>\n",
       "    </tr>\n",
       "  </tbody>\n",
       "</table>\n",
       "</div>"
      ],
      "text/plain": [
       "           Şehir Cinsiyet  Yaş   Maaş\n",
       "0         Ankara      Kız   25  20000\n",
       "1       İstanbul    Erkek   14  30000\n",
       "2        Karabük      Kız   25  40000\n",
       "3         Samsun      Kız   36  43000\n",
       "4          İzmir    Erkek   23  32000\n",
       "5  Kahramanmaraş    Erkek   24  26000"
      ]
     },
     "execution_count": 297,
     "metadata": {},
     "output_type": "execute_result"
    }
   ],
   "source": [
    "df"
   ]
  },
  {
   "cell_type": "code",
   "execution_count": 298,
   "id": "64033965",
   "metadata": {},
   "outputs": [],
   "source": [
    "gruplanmış_df = df.groupby(['Şehir','Cinsiyet']).agg({'Yaş': 'mean', 'Maaş': 'sum'})"
   ]
  },
  {
   "cell_type": "code",
   "execution_count": 299,
   "id": "245a7dd8",
   "metadata": {},
   "outputs": [
    {
     "data": {
      "text/html": [
       "<div>\n",
       "<style scoped>\n",
       "    .dataframe tbody tr th:only-of-type {\n",
       "        vertical-align: middle;\n",
       "    }\n",
       "\n",
       "    .dataframe tbody tr th {\n",
       "        vertical-align: top;\n",
       "    }\n",
       "\n",
       "    .dataframe thead th {\n",
       "        text-align: right;\n",
       "    }\n",
       "</style>\n",
       "<table border=\"1\" class=\"dataframe\">\n",
       "  <thead>\n",
       "    <tr style=\"text-align: right;\">\n",
       "      <th></th>\n",
       "      <th></th>\n",
       "      <th>Yaş</th>\n",
       "      <th>Maaş</th>\n",
       "    </tr>\n",
       "    <tr>\n",
       "      <th>Şehir</th>\n",
       "      <th>Cinsiyet</th>\n",
       "      <th></th>\n",
       "      <th></th>\n",
       "    </tr>\n",
       "  </thead>\n",
       "  <tbody>\n",
       "    <tr>\n",
       "      <th>Ankara</th>\n",
       "      <th>Kız</th>\n",
       "      <td>25.0</td>\n",
       "      <td>20000</td>\n",
       "    </tr>\n",
       "    <tr>\n",
       "      <th>Kahramanmaraş</th>\n",
       "      <th>Erkek</th>\n",
       "      <td>24.0</td>\n",
       "      <td>26000</td>\n",
       "    </tr>\n",
       "    <tr>\n",
       "      <th>Karabük</th>\n",
       "      <th>Kız</th>\n",
       "      <td>25.0</td>\n",
       "      <td>40000</td>\n",
       "    </tr>\n",
       "    <tr>\n",
       "      <th>Samsun</th>\n",
       "      <th>Kız</th>\n",
       "      <td>36.0</td>\n",
       "      <td>43000</td>\n",
       "    </tr>\n",
       "    <tr>\n",
       "      <th>İstanbul</th>\n",
       "      <th>Erkek</th>\n",
       "      <td>14.0</td>\n",
       "      <td>30000</td>\n",
       "    </tr>\n",
       "    <tr>\n",
       "      <th>İzmir</th>\n",
       "      <th>Erkek</th>\n",
       "      <td>23.0</td>\n",
       "      <td>32000</td>\n",
       "    </tr>\n",
       "  </tbody>\n",
       "</table>\n",
       "</div>"
      ],
      "text/plain": [
       "                         Yaş   Maaş\n",
       "Şehir         Cinsiyet             \n",
       "Ankara        Kız       25.0  20000\n",
       "Kahramanmaraş Erkek     24.0  26000\n",
       "Karabük       Kız       25.0  40000\n",
       "Samsun        Kız       36.0  43000\n",
       "İstanbul      Erkek     14.0  30000\n",
       "İzmir         Erkek     23.0  32000"
      ]
     },
     "execution_count": 299,
     "metadata": {},
     "output_type": "execute_result"
    }
   ],
   "source": [
    "gruplanmış_df"
   ]
  },
  {
   "cell_type": "code",
   "execution_count": 300,
   "id": "d1436dbf",
   "metadata": {},
   "outputs": [],
   "source": [
    "import pandas as pd"
   ]
  },
  {
   "cell_type": "code",
   "execution_count": 303,
   "id": "86562b35",
   "metadata": {},
   "outputs": [],
   "source": [
    "df1 =pd.DataFrame({'A' : ['A1','A2'], 'B' : ['B1','B2']})\n",
    "df2 =pd.DataFrame({'A' : ['A3','A4'], 'B' : ['B3','B4']})"
   ]
  },
  {
   "cell_type": "code",
   "execution_count": 304,
   "id": "b02321df",
   "metadata": {},
   "outputs": [],
   "source": [
    "concatlidf = pd.concat([df1,df2])"
   ]
  },
  {
   "cell_type": "code",
   "execution_count": 305,
   "id": "441c3633",
   "metadata": {},
   "outputs": [
    {
     "data": {
      "text/html": [
       "<div>\n",
       "<style scoped>\n",
       "    .dataframe tbody tr th:only-of-type {\n",
       "        vertical-align: middle;\n",
       "    }\n",
       "\n",
       "    .dataframe tbody tr th {\n",
       "        vertical-align: top;\n",
       "    }\n",
       "\n",
       "    .dataframe thead th {\n",
       "        text-align: right;\n",
       "    }\n",
       "</style>\n",
       "<table border=\"1\" class=\"dataframe\">\n",
       "  <thead>\n",
       "    <tr style=\"text-align: right;\">\n",
       "      <th></th>\n",
       "      <th>A</th>\n",
       "      <th>B</th>\n",
       "    </tr>\n",
       "  </thead>\n",
       "  <tbody>\n",
       "    <tr>\n",
       "      <th>0</th>\n",
       "      <td>A1</td>\n",
       "      <td>B1</td>\n",
       "    </tr>\n",
       "    <tr>\n",
       "      <th>1</th>\n",
       "      <td>A2</td>\n",
       "      <td>B2</td>\n",
       "    </tr>\n",
       "    <tr>\n",
       "      <th>0</th>\n",
       "      <td>A3</td>\n",
       "      <td>B3</td>\n",
       "    </tr>\n",
       "    <tr>\n",
       "      <th>1</th>\n",
       "      <td>A4</td>\n",
       "      <td>B4</td>\n",
       "    </tr>\n",
       "  </tbody>\n",
       "</table>\n",
       "</div>"
      ],
      "text/plain": [
       "    A   B\n",
       "0  A1  B1\n",
       "1  A2  B2\n",
       "0  A3  B3\n",
       "1  A4  B4"
      ]
     },
     "execution_count": 305,
     "metadata": {},
     "output_type": "execute_result"
    }
   ],
   "source": [
    "concatlidf"
   ]
  },
  {
   "cell_type": "code",
   "execution_count": 306,
   "id": "04d2a9f3",
   "metadata": {},
   "outputs": [],
   "source": [
    "concat_yatay = pd.concat([df1,df2],axis = 1)"
   ]
  },
  {
   "cell_type": "code",
   "execution_count": 307,
   "id": "cab04868",
   "metadata": {},
   "outputs": [
    {
     "data": {
      "text/html": [
       "<div>\n",
       "<style scoped>\n",
       "    .dataframe tbody tr th:only-of-type {\n",
       "        vertical-align: middle;\n",
       "    }\n",
       "\n",
       "    .dataframe tbody tr th {\n",
       "        vertical-align: top;\n",
       "    }\n",
       "\n",
       "    .dataframe thead th {\n",
       "        text-align: right;\n",
       "    }\n",
       "</style>\n",
       "<table border=\"1\" class=\"dataframe\">\n",
       "  <thead>\n",
       "    <tr style=\"text-align: right;\">\n",
       "      <th></th>\n",
       "      <th>A</th>\n",
       "      <th>B</th>\n",
       "      <th>A</th>\n",
       "      <th>B</th>\n",
       "    </tr>\n",
       "  </thead>\n",
       "  <tbody>\n",
       "    <tr>\n",
       "      <th>0</th>\n",
       "      <td>A1</td>\n",
       "      <td>B1</td>\n",
       "      <td>A3</td>\n",
       "      <td>B3</td>\n",
       "    </tr>\n",
       "    <tr>\n",
       "      <th>1</th>\n",
       "      <td>A2</td>\n",
       "      <td>B2</td>\n",
       "      <td>A4</td>\n",
       "      <td>B4</td>\n",
       "    </tr>\n",
       "  </tbody>\n",
       "</table>\n",
       "</div>"
      ],
      "text/plain": [
       "    A   B   A   B\n",
       "0  A1  B1  A3  B3\n",
       "1  A2  B2  A4  B4"
      ]
     },
     "execution_count": 307,
     "metadata": {},
     "output_type": "execute_result"
    }
   ],
   "source": [
    "concat_yatay"
   ]
  },
  {
   "cell_type": "code",
   "execution_count": 308,
   "id": "77856742",
   "metadata": {},
   "outputs": [
    {
     "data": {
      "text/html": [
       "<div>\n",
       "<style scoped>\n",
       "    .dataframe tbody tr th:only-of-type {\n",
       "        vertical-align: middle;\n",
       "    }\n",
       "\n",
       "    .dataframe tbody tr th {\n",
       "        vertical-align: top;\n",
       "    }\n",
       "\n",
       "    .dataframe thead th {\n",
       "        text-align: right;\n",
       "    }\n",
       "</style>\n",
       "<table border=\"1\" class=\"dataframe\">\n",
       "  <thead>\n",
       "    <tr style=\"text-align: right;\">\n",
       "      <th></th>\n",
       "      <th>A</th>\n",
       "      <th>B</th>\n",
       "    </tr>\n",
       "  </thead>\n",
       "  <tbody>\n",
       "    <tr>\n",
       "      <th>0</th>\n",
       "      <td>A1</td>\n",
       "      <td>B1</td>\n",
       "    </tr>\n",
       "    <tr>\n",
       "      <th>1</th>\n",
       "      <td>A2</td>\n",
       "      <td>B2</td>\n",
       "    </tr>\n",
       "    <tr>\n",
       "      <th>2</th>\n",
       "      <td>A3</td>\n",
       "      <td>B3</td>\n",
       "    </tr>\n",
       "    <tr>\n",
       "      <th>3</th>\n",
       "      <td>A4</td>\n",
       "      <td>B4</td>\n",
       "    </tr>\n",
       "  </tbody>\n",
       "</table>\n",
       "</div>"
      ],
      "text/plain": [
       "    A   B\n",
       "0  A1  B1\n",
       "1  A2  B2\n",
       "2  A3  B3\n",
       "3  A4  B4"
      ]
     },
     "execution_count": 308,
     "metadata": {},
     "output_type": "execute_result"
    }
   ],
   "source": [
    "pd.concat([df1,df2], ignore_index =True)"
   ]
  },
  {
   "cell_type": "code",
   "execution_count": 310,
   "id": "09136fd2",
   "metadata": {},
   "outputs": [],
   "source": [
    "df3 = pd.DataFrame({'C' : ['C1','C2'], 'D':['D1','D2']})"
   ]
  },
  {
   "cell_type": "code",
   "execution_count": 311,
   "id": "2c6ab357",
   "metadata": {},
   "outputs": [
    {
     "data": {
      "text/html": [
       "<div>\n",
       "<style scoped>\n",
       "    .dataframe tbody tr th:only-of-type {\n",
       "        vertical-align: middle;\n",
       "    }\n",
       "\n",
       "    .dataframe tbody tr th {\n",
       "        vertical-align: top;\n",
       "    }\n",
       "\n",
       "    .dataframe thead th {\n",
       "        text-align: right;\n",
       "    }\n",
       "</style>\n",
       "<table border=\"1\" class=\"dataframe\">\n",
       "  <thead>\n",
       "    <tr style=\"text-align: right;\">\n",
       "      <th></th>\n",
       "      <th>A</th>\n",
       "      <th>B</th>\n",
       "      <th>C</th>\n",
       "      <th>D</th>\n",
       "    </tr>\n",
       "  </thead>\n",
       "  <tbody>\n",
       "    <tr>\n",
       "      <th>0</th>\n",
       "      <td>A1</td>\n",
       "      <td>B1</td>\n",
       "      <td>NaN</td>\n",
       "      <td>NaN</td>\n",
       "    </tr>\n",
       "    <tr>\n",
       "      <th>1</th>\n",
       "      <td>A2</td>\n",
       "      <td>B2</td>\n",
       "      <td>NaN</td>\n",
       "      <td>NaN</td>\n",
       "    </tr>\n",
       "    <tr>\n",
       "      <th>0</th>\n",
       "      <td>NaN</td>\n",
       "      <td>NaN</td>\n",
       "      <td>C1</td>\n",
       "      <td>D1</td>\n",
       "    </tr>\n",
       "    <tr>\n",
       "      <th>1</th>\n",
       "      <td>NaN</td>\n",
       "      <td>NaN</td>\n",
       "      <td>C2</td>\n",
       "      <td>D2</td>\n",
       "    </tr>\n",
       "  </tbody>\n",
       "</table>\n",
       "</div>"
      ],
      "text/plain": [
       "     A    B    C    D\n",
       "0   A1   B1  NaN  NaN\n",
       "1   A2   B2  NaN  NaN\n",
       "0  NaN  NaN   C1   D1\n",
       "1  NaN  NaN   C2   D2"
      ]
     },
     "execution_count": 311,
     "metadata": {},
     "output_type": "execute_result"
    }
   ],
   "source": [
    "pd.concat([df1,df3], sort = False)"
   ]
  },
  {
   "cell_type": "code",
   "execution_count": 312,
   "id": "e311293b",
   "metadata": {},
   "outputs": [],
   "source": [
    "import pandas as pd"
   ]
  },
  {
   "cell_type": "code",
   "execution_count": 314,
   "id": "89763eff",
   "metadata": {},
   "outputs": [],
   "source": [
    "df1 = pd.DataFrame({\n",
    "    'id' : [1,2,3],\n",
    "    'İsim' : ['Şevval' ,'Ahmed', 'Salih'],\n",
    "    'Yaş' : [21,22,25]\n",
    "})\n",
    "df2 = pd.DataFrame({\n",
    "    'id' : [2,3,4],\n",
    "    'Şehir' : ['Kahramanmaraş', 'Karabük','Samsun'],\n",
    "    'Meslek' : ['Mühendis','Mühendis','Doktor']\n",
    "})"
   ]
  },
  {
   "cell_type": "code",
   "execution_count": 315,
   "id": "9863cf7b",
   "metadata": {},
   "outputs": [],
   "source": [
    "#Inner Join"
   ]
  },
  {
   "cell_type": "code",
   "execution_count": 318,
   "id": "e63e09d6",
   "metadata": {},
   "outputs": [
    {
     "data": {
      "text/html": [
       "<div>\n",
       "<style scoped>\n",
       "    .dataframe tbody tr th:only-of-type {\n",
       "        vertical-align: middle;\n",
       "    }\n",
       "\n",
       "    .dataframe tbody tr th {\n",
       "        vertical-align: top;\n",
       "    }\n",
       "\n",
       "    .dataframe thead th {\n",
       "        text-align: right;\n",
       "    }\n",
       "</style>\n",
       "<table border=\"1\" class=\"dataframe\">\n",
       "  <thead>\n",
       "    <tr style=\"text-align: right;\">\n",
       "      <th></th>\n",
       "      <th>id</th>\n",
       "      <th>İsim</th>\n",
       "      <th>Yaş</th>\n",
       "      <th>Şehir</th>\n",
       "      <th>Meslek</th>\n",
       "    </tr>\n",
       "  </thead>\n",
       "  <tbody>\n",
       "    <tr>\n",
       "      <th>0</th>\n",
       "      <td>2</td>\n",
       "      <td>Ahmed</td>\n",
       "      <td>22</td>\n",
       "      <td>Kahramanmaraş</td>\n",
       "      <td>Mühendis</td>\n",
       "    </tr>\n",
       "    <tr>\n",
       "      <th>1</th>\n",
       "      <td>3</td>\n",
       "      <td>Salih</td>\n",
       "      <td>25</td>\n",
       "      <td>Karabük</td>\n",
       "      <td>Mühendis</td>\n",
       "    </tr>\n",
       "  </tbody>\n",
       "</table>\n",
       "</div>"
      ],
      "text/plain": [
       "   id   İsim  Yaş          Şehir    Meslek\n",
       "0   2  Ahmed   22  Kahramanmaraş  Mühendis\n",
       "1   3  Salih   25        Karabük  Mühendis"
      ]
     },
     "execution_count": 318,
     "metadata": {},
     "output_type": "execute_result"
    }
   ],
   "source": [
    "pd.merge(df1,df2, on ='id', how = 'inner')"
   ]
  },
  {
   "cell_type": "code",
   "execution_count": 319,
   "id": "cbcd5ad9",
   "metadata": {},
   "outputs": [],
   "source": [
    "#Outer Join"
   ]
  },
  {
   "cell_type": "code",
   "execution_count": 320,
   "id": "fd94b9cb",
   "metadata": {},
   "outputs": [
    {
     "data": {
      "text/html": [
       "<div>\n",
       "<style scoped>\n",
       "    .dataframe tbody tr th:only-of-type {\n",
       "        vertical-align: middle;\n",
       "    }\n",
       "\n",
       "    .dataframe tbody tr th {\n",
       "        vertical-align: top;\n",
       "    }\n",
       "\n",
       "    .dataframe thead th {\n",
       "        text-align: right;\n",
       "    }\n",
       "</style>\n",
       "<table border=\"1\" class=\"dataframe\">\n",
       "  <thead>\n",
       "    <tr style=\"text-align: right;\">\n",
       "      <th></th>\n",
       "      <th>id</th>\n",
       "      <th>İsim</th>\n",
       "      <th>Yaş</th>\n",
       "      <th>Şehir</th>\n",
       "      <th>Meslek</th>\n",
       "    </tr>\n",
       "  </thead>\n",
       "  <tbody>\n",
       "    <tr>\n",
       "      <th>0</th>\n",
       "      <td>1</td>\n",
       "      <td>Şevval</td>\n",
       "      <td>21.0</td>\n",
       "      <td>NaN</td>\n",
       "      <td>NaN</td>\n",
       "    </tr>\n",
       "    <tr>\n",
       "      <th>1</th>\n",
       "      <td>2</td>\n",
       "      <td>Ahmed</td>\n",
       "      <td>22.0</td>\n",
       "      <td>Kahramanmaraş</td>\n",
       "      <td>Mühendis</td>\n",
       "    </tr>\n",
       "    <tr>\n",
       "      <th>2</th>\n",
       "      <td>3</td>\n",
       "      <td>Salih</td>\n",
       "      <td>25.0</td>\n",
       "      <td>Karabük</td>\n",
       "      <td>Mühendis</td>\n",
       "    </tr>\n",
       "    <tr>\n",
       "      <th>3</th>\n",
       "      <td>4</td>\n",
       "      <td>NaN</td>\n",
       "      <td>NaN</td>\n",
       "      <td>Samsun</td>\n",
       "      <td>Doktor</td>\n",
       "    </tr>\n",
       "  </tbody>\n",
       "</table>\n",
       "</div>"
      ],
      "text/plain": [
       "   id    İsim   Yaş          Şehir    Meslek\n",
       "0   1  Şevval  21.0            NaN       NaN\n",
       "1   2   Ahmed  22.0  Kahramanmaraş  Mühendis\n",
       "2   3   Salih  25.0        Karabük  Mühendis\n",
       "3   4     NaN   NaN         Samsun    Doktor"
      ]
     },
     "execution_count": 320,
     "metadata": {},
     "output_type": "execute_result"
    }
   ],
   "source": [
    "pd.merge(df1,df2, on = 'id', how ='outer')"
   ]
  },
  {
   "cell_type": "code",
   "execution_count": 321,
   "id": "5fc125a6",
   "metadata": {},
   "outputs": [],
   "source": [
    "#Left Join"
   ]
  },
  {
   "cell_type": "code",
   "execution_count": 322,
   "id": "ec422dd6",
   "metadata": {},
   "outputs": [
    {
     "data": {
      "text/html": [
       "<div>\n",
       "<style scoped>\n",
       "    .dataframe tbody tr th:only-of-type {\n",
       "        vertical-align: middle;\n",
       "    }\n",
       "\n",
       "    .dataframe tbody tr th {\n",
       "        vertical-align: top;\n",
       "    }\n",
       "\n",
       "    .dataframe thead th {\n",
       "        text-align: right;\n",
       "    }\n",
       "</style>\n",
       "<table border=\"1\" class=\"dataframe\">\n",
       "  <thead>\n",
       "    <tr style=\"text-align: right;\">\n",
       "      <th></th>\n",
       "      <th>id</th>\n",
       "      <th>İsim</th>\n",
       "      <th>Yaş</th>\n",
       "      <th>Şehir</th>\n",
       "      <th>Meslek</th>\n",
       "    </tr>\n",
       "  </thead>\n",
       "  <tbody>\n",
       "    <tr>\n",
       "      <th>0</th>\n",
       "      <td>1</td>\n",
       "      <td>Şevval</td>\n",
       "      <td>21</td>\n",
       "      <td>NaN</td>\n",
       "      <td>NaN</td>\n",
       "    </tr>\n",
       "    <tr>\n",
       "      <th>1</th>\n",
       "      <td>2</td>\n",
       "      <td>Ahmed</td>\n",
       "      <td>22</td>\n",
       "      <td>Kahramanmaraş</td>\n",
       "      <td>Mühendis</td>\n",
       "    </tr>\n",
       "    <tr>\n",
       "      <th>2</th>\n",
       "      <td>3</td>\n",
       "      <td>Salih</td>\n",
       "      <td>25</td>\n",
       "      <td>Karabük</td>\n",
       "      <td>Mühendis</td>\n",
       "    </tr>\n",
       "  </tbody>\n",
       "</table>\n",
       "</div>"
      ],
      "text/plain": [
       "   id    İsim  Yaş          Şehir    Meslek\n",
       "0   1  Şevval   21            NaN       NaN\n",
       "1   2   Ahmed   22  Kahramanmaraş  Mühendis\n",
       "2   3   Salih   25        Karabük  Mühendis"
      ]
     },
     "execution_count": 322,
     "metadata": {},
     "output_type": "execute_result"
    }
   ],
   "source": [
    "pd.merge(df1,df2, on = 'id', how = 'left')"
   ]
  },
  {
   "cell_type": "code",
   "execution_count": 323,
   "id": "f181be9c",
   "metadata": {},
   "outputs": [],
   "source": [
    "#Right Join"
   ]
  },
  {
   "cell_type": "code",
   "execution_count": 324,
   "id": "ee0e8fa4",
   "metadata": {},
   "outputs": [
    {
     "data": {
      "text/html": [
       "<div>\n",
       "<style scoped>\n",
       "    .dataframe tbody tr th:only-of-type {\n",
       "        vertical-align: middle;\n",
       "    }\n",
       "\n",
       "    .dataframe tbody tr th {\n",
       "        vertical-align: top;\n",
       "    }\n",
       "\n",
       "    .dataframe thead th {\n",
       "        text-align: right;\n",
       "    }\n",
       "</style>\n",
       "<table border=\"1\" class=\"dataframe\">\n",
       "  <thead>\n",
       "    <tr style=\"text-align: right;\">\n",
       "      <th></th>\n",
       "      <th>id</th>\n",
       "      <th>İsim</th>\n",
       "      <th>Yaş</th>\n",
       "      <th>Şehir</th>\n",
       "      <th>Meslek</th>\n",
       "    </tr>\n",
       "  </thead>\n",
       "  <tbody>\n",
       "    <tr>\n",
       "      <th>0</th>\n",
       "      <td>2</td>\n",
       "      <td>Ahmed</td>\n",
       "      <td>22.0</td>\n",
       "      <td>Kahramanmaraş</td>\n",
       "      <td>Mühendis</td>\n",
       "    </tr>\n",
       "    <tr>\n",
       "      <th>1</th>\n",
       "      <td>3</td>\n",
       "      <td>Salih</td>\n",
       "      <td>25.0</td>\n",
       "      <td>Karabük</td>\n",
       "      <td>Mühendis</td>\n",
       "    </tr>\n",
       "    <tr>\n",
       "      <th>2</th>\n",
       "      <td>4</td>\n",
       "      <td>NaN</td>\n",
       "      <td>NaN</td>\n",
       "      <td>Samsun</td>\n",
       "      <td>Doktor</td>\n",
       "    </tr>\n",
       "  </tbody>\n",
       "</table>\n",
       "</div>"
      ],
      "text/plain": [
       "   id   İsim   Yaş          Şehir    Meslek\n",
       "0   2  Ahmed  22.0  Kahramanmaraş  Mühendis\n",
       "1   3  Salih  25.0        Karabük  Mühendis\n",
       "2   4    NaN   NaN         Samsun    Doktor"
      ]
     },
     "execution_count": 324,
     "metadata": {},
     "output_type": "execute_result"
    }
   ],
   "source": [
    "pd.merge(df1,df2, on = 'id', how = 'right')"
   ]
  },
  {
   "cell_type": "markdown",
   "id": "0c4946ff",
   "metadata": {},
   "source": [
    "Pandas Special Functions"
   ]
  },
  {
   "cell_type": "code",
   "execution_count": 325,
   "id": "04c36036",
   "metadata": {},
   "outputs": [],
   "source": [
    "import pandas as pd"
   ]
  },
  {
   "cell_type": "code",
   "execution_count": 328,
   "id": "26731195",
   "metadata": {},
   "outputs": [],
   "source": [
    "data = pd.Series([1,1,1,1,2,2,2,2,3,3,3,3,4,4,5])"
   ]
  },
  {
   "cell_type": "code",
   "execution_count": 329,
   "id": "c5322cad",
   "metadata": {},
   "outputs": [
    {
     "data": {
      "text/plain": [
       "array([1, 2, 3, 4, 5], dtype=int64)"
      ]
     },
     "execution_count": 329,
     "metadata": {},
     "output_type": "execute_result"
    }
   ],
   "source": [
    "data.unique()"
   ]
  },
  {
   "cell_type": "code",
   "execution_count": 330,
   "id": "3151478a",
   "metadata": {},
   "outputs": [
    {
     "data": {
      "text/plain": [
       "5"
      ]
     },
     "execution_count": 330,
     "metadata": {},
     "output_type": "execute_result"
    }
   ],
   "source": [
    "data.nunique()"
   ]
  },
  {
   "cell_type": "code",
   "execution_count": 331,
   "id": "d64aa965",
   "metadata": {},
   "outputs": [
    {
     "data": {
      "text/plain": [
       "1    4\n",
       "2    4\n",
       "3    4\n",
       "4    2\n",
       "5    1\n",
       "Name: count, dtype: int64"
      ]
     },
     "execution_count": 331,
     "metadata": {},
     "output_type": "execute_result"
    }
   ],
   "source": [
    "data.value_counts()"
   ]
  },
  {
   "cell_type": "code",
   "execution_count": 332,
   "id": "25c0fd6d",
   "metadata": {},
   "outputs": [
    {
     "data": {
      "text/plain": [
       "0      2\n",
       "1      2\n",
       "2      2\n",
       "3      2\n",
       "4      4\n",
       "5      4\n",
       "6      4\n",
       "7      4\n",
       "8      6\n",
       "9      6\n",
       "10     6\n",
       "11     6\n",
       "12     8\n",
       "13     8\n",
       "14    10\n",
       "dtype: int64"
      ]
     },
     "execution_count": 332,
     "metadata": {},
     "output_type": "execute_result"
    }
   ],
   "source": [
    "data.apply(lambda x: x*2)"
   ]
  },
  {
   "cell_type": "code",
   "execution_count": 333,
   "id": "dcff84b1",
   "metadata": {},
   "outputs": [],
   "source": [
    "yeniSeri = pd.Series([1,2,None,4])"
   ]
  },
  {
   "cell_type": "code",
   "execution_count": 336,
   "id": "7f3d7898",
   "metadata": {},
   "outputs": [
    {
     "data": {
      "text/plain": [
       "0    False\n",
       "1    False\n",
       "2     True\n",
       "3    False\n",
       "dtype: bool"
      ]
     },
     "execution_count": 336,
     "metadata": {},
     "output_type": "execute_result"
    }
   ],
   "source": [
    "yeniSeri.isnull()"
   ]
  },
  {
   "cell_type": "markdown",
   "id": "787f7640",
   "metadata": {},
   "source": [
    "Pandas Pivot Table Kullanımı"
   ]
  },
  {
   "cell_type": "code",
   "execution_count": 1,
   "id": "7104d97c",
   "metadata": {},
   "outputs": [],
   "source": [
    "import pandas as pd"
   ]
  },
  {
   "cell_type": "code",
   "execution_count": 2,
   "id": "d9babb83",
   "metadata": {},
   "outputs": [],
   "source": [
    "df = pd.DataFrame({\n",
    "    'Şehir' : ['Ankara', 'İstanbul', 'Kahramanmaraş','Karabük', 'İzmir', 'Ankara', 'Karabük'],\n",
    "    'Ürün' : ['Elma','Elma','Armut','Armut','Çilek','Çilek','Limon'],\n",
    "    'Adet': [102,450,140,200,302,130,320]\n",
    "})"
   ]
  },
  {
   "cell_type": "code",
   "execution_count": 3,
   "id": "1571ae04",
   "metadata": {},
   "outputs": [
    {
     "data": {
      "text/html": [
       "<div>\n",
       "<style scoped>\n",
       "    .dataframe tbody tr th:only-of-type {\n",
       "        vertical-align: middle;\n",
       "    }\n",
       "\n",
       "    .dataframe tbody tr th {\n",
       "        vertical-align: top;\n",
       "    }\n",
       "\n",
       "    .dataframe thead th {\n",
       "        text-align: right;\n",
       "    }\n",
       "</style>\n",
       "<table border=\"1\" class=\"dataframe\">\n",
       "  <thead>\n",
       "    <tr style=\"text-align: right;\">\n",
       "      <th></th>\n",
       "      <th>Şehir</th>\n",
       "      <th>Ürün</th>\n",
       "      <th>Adet</th>\n",
       "    </tr>\n",
       "  </thead>\n",
       "  <tbody>\n",
       "    <tr>\n",
       "      <th>0</th>\n",
       "      <td>Ankara</td>\n",
       "      <td>Elma</td>\n",
       "      <td>102</td>\n",
       "    </tr>\n",
       "    <tr>\n",
       "      <th>1</th>\n",
       "      <td>İstanbul</td>\n",
       "      <td>Elma</td>\n",
       "      <td>450</td>\n",
       "    </tr>\n",
       "    <tr>\n",
       "      <th>2</th>\n",
       "      <td>Kahramanmaraş</td>\n",
       "      <td>Armut</td>\n",
       "      <td>140</td>\n",
       "    </tr>\n",
       "    <tr>\n",
       "      <th>3</th>\n",
       "      <td>Karabük</td>\n",
       "      <td>Armut</td>\n",
       "      <td>200</td>\n",
       "    </tr>\n",
       "    <tr>\n",
       "      <th>4</th>\n",
       "      <td>İzmir</td>\n",
       "      <td>Çilek</td>\n",
       "      <td>302</td>\n",
       "    </tr>\n",
       "    <tr>\n",
       "      <th>5</th>\n",
       "      <td>Ankara</td>\n",
       "      <td>Çilek</td>\n",
       "      <td>130</td>\n",
       "    </tr>\n",
       "    <tr>\n",
       "      <th>6</th>\n",
       "      <td>Karabük</td>\n",
       "      <td>Limon</td>\n",
       "      <td>320</td>\n",
       "    </tr>\n",
       "  </tbody>\n",
       "</table>\n",
       "</div>"
      ],
      "text/plain": [
       "           Şehir   Ürün  Adet\n",
       "0         Ankara   Elma   102\n",
       "1       İstanbul   Elma   450\n",
       "2  Kahramanmaraş  Armut   140\n",
       "3        Karabük  Armut   200\n",
       "4          İzmir  Çilek   302\n",
       "5         Ankara  Çilek   130\n",
       "6        Karabük  Limon   320"
      ]
     },
     "execution_count": 3,
     "metadata": {},
     "output_type": "execute_result"
    }
   ],
   "source": [
    "df"
   ]
  },
  {
   "cell_type": "code",
   "execution_count": 8,
   "id": "0ea69b74",
   "metadata": {},
   "outputs": [
    {
     "data": {
      "text/html": [
       "<div>\n",
       "<style scoped>\n",
       "    .dataframe tbody tr th:only-of-type {\n",
       "        vertical-align: middle;\n",
       "    }\n",
       "\n",
       "    .dataframe tbody tr th {\n",
       "        vertical-align: top;\n",
       "    }\n",
       "\n",
       "    .dataframe thead th {\n",
       "        text-align: right;\n",
       "    }\n",
       "</style>\n",
       "<table border=\"1\" class=\"dataframe\">\n",
       "  <thead>\n",
       "    <tr style=\"text-align: right;\">\n",
       "      <th>Ürün</th>\n",
       "      <th>Armut</th>\n",
       "      <th>Elma</th>\n",
       "      <th>Limon</th>\n",
       "      <th>Çilek</th>\n",
       "    </tr>\n",
       "    <tr>\n",
       "      <th>Şehir</th>\n",
       "      <th></th>\n",
       "      <th></th>\n",
       "      <th></th>\n",
       "      <th></th>\n",
       "    </tr>\n",
       "  </thead>\n",
       "  <tbody>\n",
       "    <tr>\n",
       "      <th>Ankara</th>\n",
       "      <td>NaN</td>\n",
       "      <td>102.0</td>\n",
       "      <td>NaN</td>\n",
       "      <td>130.0</td>\n",
       "    </tr>\n",
       "    <tr>\n",
       "      <th>Kahramanmaraş</th>\n",
       "      <td>140.0</td>\n",
       "      <td>NaN</td>\n",
       "      <td>NaN</td>\n",
       "      <td>NaN</td>\n",
       "    </tr>\n",
       "    <tr>\n",
       "      <th>Karabük</th>\n",
       "      <td>200.0</td>\n",
       "      <td>NaN</td>\n",
       "      <td>320.0</td>\n",
       "      <td>NaN</td>\n",
       "    </tr>\n",
       "    <tr>\n",
       "      <th>İstanbul</th>\n",
       "      <td>NaN</td>\n",
       "      <td>450.0</td>\n",
       "      <td>NaN</td>\n",
       "      <td>NaN</td>\n",
       "    </tr>\n",
       "    <tr>\n",
       "      <th>İzmir</th>\n",
       "      <td>NaN</td>\n",
       "      <td>NaN</td>\n",
       "      <td>NaN</td>\n",
       "      <td>302.0</td>\n",
       "    </tr>\n",
       "  </tbody>\n",
       "</table>\n",
       "</div>"
      ],
      "text/plain": [
       "Ürün           Armut   Elma  Limon  Çilek\n",
       "Şehir                                    \n",
       "Ankara           NaN  102.0    NaN  130.0\n",
       "Kahramanmaraş  140.0    NaN    NaN    NaN\n",
       "Karabük        200.0    NaN  320.0    NaN\n",
       "İstanbul         NaN  450.0    NaN    NaN\n",
       "İzmir            NaN    NaN    NaN  302.0"
      ]
     },
     "execution_count": 8,
     "metadata": {},
     "output_type": "execute_result"
    }
   ],
   "source": [
    "df.pivot_table(index = 'Şehir', columns = 'Ürün', values = 'Adet', aggfunc = 'sum')"
   ]
  },
  {
   "cell_type": "markdown",
   "id": "811fac41",
   "metadata": {},
   "source": [
    "Pandas'ta Excel ile Çalışmak Tüm Operasyonlar"
   ]
  },
  {
   "cell_type": "code",
   "execution_count": 14,
   "id": "7af8b30b",
   "metadata": {},
   "outputs": [],
   "source": [
    "import pandas as pd"
   ]
  },
  {
   "cell_type": "code",
   "execution_count": 15,
   "id": "b9d2f70b",
   "metadata": {},
   "outputs": [],
   "source": [
    "excel = pd.read_excel(\"Kitap1.xlsx\")"
   ]
  },
  {
   "cell_type": "code",
   "execution_count": 16,
   "id": "d473e3de",
   "metadata": {},
   "outputs": [
    {
     "data": {
      "text/html": [
       "<div>\n",
       "<style scoped>\n",
       "    .dataframe tbody tr th:only-of-type {\n",
       "        vertical-align: middle;\n",
       "    }\n",
       "\n",
       "    .dataframe tbody tr th {\n",
       "        vertical-align: top;\n",
       "    }\n",
       "\n",
       "    .dataframe thead th {\n",
       "        text-align: right;\n",
       "    }\n",
       "</style>\n",
       "<table border=\"1\" class=\"dataframe\">\n",
       "  <thead>\n",
       "    <tr style=\"text-align: right;\">\n",
       "      <th></th>\n",
       "      <th>isim</th>\n",
       "      <th>soyisim</th>\n",
       "      <th>şehir</th>\n",
       "      <th>yaş</th>\n",
       "    </tr>\n",
       "  </thead>\n",
       "  <tbody>\n",
       "    <tr>\n",
       "      <th>0</th>\n",
       "      <td>Şevval</td>\n",
       "      <td>Bolat</td>\n",
       "      <td>Kahramanmaraş</td>\n",
       "      <td>21</td>\n",
       "    </tr>\n",
       "    <tr>\n",
       "      <th>1</th>\n",
       "      <td>Ahmed Salih</td>\n",
       "      <td>Yıldız</td>\n",
       "      <td>Karabük</td>\n",
       "      <td>22</td>\n",
       "    </tr>\n",
       "    <tr>\n",
       "      <th>2</th>\n",
       "      <td>Meryem</td>\n",
       "      <td>Mutlu</td>\n",
       "      <td>Ankara</td>\n",
       "      <td>25</td>\n",
       "    </tr>\n",
       "    <tr>\n",
       "      <th>3</th>\n",
       "      <td>Ayşe</td>\n",
       "      <td>NaN</td>\n",
       "      <td>Mersin</td>\n",
       "      <td>30</td>\n",
       "    </tr>\n",
       "    <tr>\n",
       "      <th>4</th>\n",
       "      <td>Fatma</td>\n",
       "      <td>Doğru</td>\n",
       "      <td>NaN</td>\n",
       "      <td>41</td>\n",
       "    </tr>\n",
       "  </tbody>\n",
       "</table>\n",
       "</div>"
      ],
      "text/plain": [
       "          isim      soyisim          şehir  yaş\n",
       "0       Şevval        Bolat  Kahramanmaraş   21\n",
       "1  Ahmed Salih       Yıldız        Karabük   22\n",
       "2       Meryem        Mutlu         Ankara   25\n",
       "3         Ayşe          NaN         Mersin   30\n",
       "4        Fatma  Doğru                  NaN   41"
      ]
     },
     "execution_count": 16,
     "metadata": {},
     "output_type": "execute_result"
    }
   ],
   "source": [
    "excel"
   ]
  },
  {
   "cell_type": "code",
   "execution_count": 17,
   "id": "926dd52f",
   "metadata": {},
   "outputs": [],
   "source": [
    "bosDegerExcel = excel.dropna()"
   ]
  },
  {
   "cell_type": "code",
   "execution_count": 18,
   "id": "ca8669d5",
   "metadata": {},
   "outputs": [
    {
     "data": {
      "text/html": [
       "<div>\n",
       "<style scoped>\n",
       "    .dataframe tbody tr th:only-of-type {\n",
       "        vertical-align: middle;\n",
       "    }\n",
       "\n",
       "    .dataframe tbody tr th {\n",
       "        vertical-align: top;\n",
       "    }\n",
       "\n",
       "    .dataframe thead th {\n",
       "        text-align: right;\n",
       "    }\n",
       "</style>\n",
       "<table border=\"1\" class=\"dataframe\">\n",
       "  <thead>\n",
       "    <tr style=\"text-align: right;\">\n",
       "      <th></th>\n",
       "      <th>isim</th>\n",
       "      <th>soyisim</th>\n",
       "      <th>şehir</th>\n",
       "      <th>yaş</th>\n",
       "    </tr>\n",
       "  </thead>\n",
       "  <tbody>\n",
       "    <tr>\n",
       "      <th>0</th>\n",
       "      <td>Şevval</td>\n",
       "      <td>Bolat</td>\n",
       "      <td>Kahramanmaraş</td>\n",
       "      <td>21</td>\n",
       "    </tr>\n",
       "    <tr>\n",
       "      <th>1</th>\n",
       "      <td>Ahmed Salih</td>\n",
       "      <td>Yıldız</td>\n",
       "      <td>Karabük</td>\n",
       "      <td>22</td>\n",
       "    </tr>\n",
       "    <tr>\n",
       "      <th>2</th>\n",
       "      <td>Meryem</td>\n",
       "      <td>Mutlu</td>\n",
       "      <td>Ankara</td>\n",
       "      <td>25</td>\n",
       "    </tr>\n",
       "  </tbody>\n",
       "</table>\n",
       "</div>"
      ],
      "text/plain": [
       "          isim soyisim          şehir  yaş\n",
       "0       Şevval   Bolat  Kahramanmaraş   21\n",
       "1  Ahmed Salih  Yıldız        Karabük   22\n",
       "2       Meryem   Mutlu         Ankara   25"
      ]
     },
     "execution_count": 18,
     "metadata": {},
     "output_type": "execute_result"
    }
   ],
   "source": [
    "bosDegerExcel"
   ]
  },
  {
   "cell_type": "code",
   "execution_count": 22,
   "id": "eaf53c6c",
   "metadata": {},
   "outputs": [
    {
     "data": {
      "text/html": [
       "<div>\n",
       "<style scoped>\n",
       "    .dataframe tbody tr th:only-of-type {\n",
       "        vertical-align: middle;\n",
       "    }\n",
       "\n",
       "    .dataframe tbody tr th {\n",
       "        vertical-align: top;\n",
       "    }\n",
       "\n",
       "    .dataframe thead th {\n",
       "        text-align: right;\n",
       "    }\n",
       "</style>\n",
       "<table border=\"1\" class=\"dataframe\">\n",
       "  <thead>\n",
       "    <tr style=\"text-align: right;\">\n",
       "      <th></th>\n",
       "      <th>isim</th>\n",
       "      <th>soyisim</th>\n",
       "      <th>şehir</th>\n",
       "      <th>yaş</th>\n",
       "    </tr>\n",
       "  </thead>\n",
       "  <tbody>\n",
       "    <tr>\n",
       "      <th>0</th>\n",
       "      <td>Şevval</td>\n",
       "      <td>Bolat</td>\n",
       "      <td>Kahramanmaraş</td>\n",
       "      <td>21</td>\n",
       "    </tr>\n",
       "    <tr>\n",
       "      <th>1</th>\n",
       "      <td>Ahmed Salih</td>\n",
       "      <td>Yıldız</td>\n",
       "      <td>Karabük</td>\n",
       "      <td>22</td>\n",
       "    </tr>\n",
       "    <tr>\n",
       "      <th>2</th>\n",
       "      <td>Meryem</td>\n",
       "      <td>Mutlu</td>\n",
       "      <td>Ankara</td>\n",
       "      <td>25</td>\n",
       "    </tr>\n",
       "    <tr>\n",
       "      <th>3</th>\n",
       "      <td>Ayşe</td>\n",
       "      <td>NaN</td>\n",
       "      <td>Mersin</td>\n",
       "      <td>30</td>\n",
       "    </tr>\n",
       "    <tr>\n",
       "      <th>4</th>\n",
       "      <td>Fatma</td>\n",
       "      <td>Doğru</td>\n",
       "      <td>NaN</td>\n",
       "      <td>41</td>\n",
       "    </tr>\n",
       "  </tbody>\n",
       "</table>\n",
       "</div>"
      ],
      "text/plain": [
       "          isim      soyisim          şehir  yaş\n",
       "0       Şevval        Bolat  Kahramanmaraş   21\n",
       "1  Ahmed Salih       Yıldız        Karabük   22\n",
       "2       Meryem        Mutlu         Ankara   25\n",
       "3         Ayşe          NaN         Mersin   30\n",
       "4        Fatma  Doğru                  NaN   41"
      ]
     },
     "execution_count": 22,
     "metadata": {},
     "output_type": "execute_result"
    }
   ],
   "source": [
    "excel"
   ]
  },
  {
   "cell_type": "code",
   "execution_count": 23,
   "id": "02f03054",
   "metadata": {},
   "outputs": [],
   "source": [
    "fatmasız = excel.drop(4, axis = 0)"
   ]
  },
  {
   "cell_type": "code",
   "execution_count": 25,
   "id": "5e45273d",
   "metadata": {},
   "outputs": [
    {
     "data": {
      "text/html": [
       "<div>\n",
       "<style scoped>\n",
       "    .dataframe tbody tr th:only-of-type {\n",
       "        vertical-align: middle;\n",
       "    }\n",
       "\n",
       "    .dataframe tbody tr th {\n",
       "        vertical-align: top;\n",
       "    }\n",
       "\n",
       "    .dataframe thead th {\n",
       "        text-align: right;\n",
       "    }\n",
       "</style>\n",
       "<table border=\"1\" class=\"dataframe\">\n",
       "  <thead>\n",
       "    <tr style=\"text-align: right;\">\n",
       "      <th></th>\n",
       "      <th>isim</th>\n",
       "      <th>soyisim</th>\n",
       "      <th>şehir</th>\n",
       "      <th>yaş</th>\n",
       "    </tr>\n",
       "  </thead>\n",
       "  <tbody>\n",
       "    <tr>\n",
       "      <th>0</th>\n",
       "      <td>Şevval</td>\n",
       "      <td>Bolat</td>\n",
       "      <td>Kahramanmaraş</td>\n",
       "      <td>21</td>\n",
       "    </tr>\n",
       "    <tr>\n",
       "      <th>1</th>\n",
       "      <td>Ahmed Salih</td>\n",
       "      <td>Yıldız</td>\n",
       "      <td>Karabük</td>\n",
       "      <td>22</td>\n",
       "    </tr>\n",
       "    <tr>\n",
       "      <th>2</th>\n",
       "      <td>Meryem</td>\n",
       "      <td>Mutlu</td>\n",
       "      <td>Ankara</td>\n",
       "      <td>25</td>\n",
       "    </tr>\n",
       "    <tr>\n",
       "      <th>3</th>\n",
       "      <td>Ayşe</td>\n",
       "      <td>NaN</td>\n",
       "      <td>Mersin</td>\n",
       "      <td>30</td>\n",
       "    </tr>\n",
       "  </tbody>\n",
       "</table>\n",
       "</div>"
      ],
      "text/plain": [
       "          isim soyisim          şehir  yaş\n",
       "0       Şevval   Bolat  Kahramanmaraş   21\n",
       "1  Ahmed Salih  Yıldız        Karabük   22\n",
       "2       Meryem   Mutlu         Ankara   25\n",
       "3         Ayşe     NaN         Mersin   30"
      ]
     },
     "execution_count": 25,
     "metadata": {},
     "output_type": "execute_result"
    }
   ],
   "source": [
    "fatmasız"
   ]
  },
  {
   "cell_type": "code",
   "execution_count": 26,
   "id": "fc527b9e",
   "metadata": {},
   "outputs": [],
   "source": [
    "coklusatırsilme = excel.drop([2,4], axis = 0)"
   ]
  },
  {
   "cell_type": "code",
   "execution_count": 27,
   "id": "0baae291",
   "metadata": {},
   "outputs": [
    {
     "data": {
      "text/html": [
       "<div>\n",
       "<style scoped>\n",
       "    .dataframe tbody tr th:only-of-type {\n",
       "        vertical-align: middle;\n",
       "    }\n",
       "\n",
       "    .dataframe tbody tr th {\n",
       "        vertical-align: top;\n",
       "    }\n",
       "\n",
       "    .dataframe thead th {\n",
       "        text-align: right;\n",
       "    }\n",
       "</style>\n",
       "<table border=\"1\" class=\"dataframe\">\n",
       "  <thead>\n",
       "    <tr style=\"text-align: right;\">\n",
       "      <th></th>\n",
       "      <th>isim</th>\n",
       "      <th>soyisim</th>\n",
       "      <th>şehir</th>\n",
       "      <th>yaş</th>\n",
       "    </tr>\n",
       "  </thead>\n",
       "  <tbody>\n",
       "    <tr>\n",
       "      <th>0</th>\n",
       "      <td>Şevval</td>\n",
       "      <td>Bolat</td>\n",
       "      <td>Kahramanmaraş</td>\n",
       "      <td>21</td>\n",
       "    </tr>\n",
       "    <tr>\n",
       "      <th>1</th>\n",
       "      <td>Ahmed Salih</td>\n",
       "      <td>Yıldız</td>\n",
       "      <td>Karabük</td>\n",
       "      <td>22</td>\n",
       "    </tr>\n",
       "    <tr>\n",
       "      <th>3</th>\n",
       "      <td>Ayşe</td>\n",
       "      <td>NaN</td>\n",
       "      <td>Mersin</td>\n",
       "      <td>30</td>\n",
       "    </tr>\n",
       "  </tbody>\n",
       "</table>\n",
       "</div>"
      ],
      "text/plain": [
       "          isim soyisim          şehir  yaş\n",
       "0       Şevval   Bolat  Kahramanmaraş   21\n",
       "1  Ahmed Salih  Yıldız        Karabük   22\n",
       "3         Ayşe     NaN         Mersin   30"
      ]
     },
     "execution_count": 27,
     "metadata": {},
     "output_type": "execute_result"
    }
   ],
   "source": [
    "coklusatırsilme"
   ]
  },
  {
   "cell_type": "code",
   "execution_count": 28,
   "id": "ac2b7e73",
   "metadata": {},
   "outputs": [],
   "source": [
    "sütunsilme = excel.drop('yaş', axis = 1)"
   ]
  },
  {
   "cell_type": "code",
   "execution_count": 29,
   "id": "2a053102",
   "metadata": {},
   "outputs": [
    {
     "data": {
      "text/html": [
       "<div>\n",
       "<style scoped>\n",
       "    .dataframe tbody tr th:only-of-type {\n",
       "        vertical-align: middle;\n",
       "    }\n",
       "\n",
       "    .dataframe tbody tr th {\n",
       "        vertical-align: top;\n",
       "    }\n",
       "\n",
       "    .dataframe thead th {\n",
       "        text-align: right;\n",
       "    }\n",
       "</style>\n",
       "<table border=\"1\" class=\"dataframe\">\n",
       "  <thead>\n",
       "    <tr style=\"text-align: right;\">\n",
       "      <th></th>\n",
       "      <th>isim</th>\n",
       "      <th>soyisim</th>\n",
       "      <th>şehir</th>\n",
       "    </tr>\n",
       "  </thead>\n",
       "  <tbody>\n",
       "    <tr>\n",
       "      <th>0</th>\n",
       "      <td>Şevval</td>\n",
       "      <td>Bolat</td>\n",
       "      <td>Kahramanmaraş</td>\n",
       "    </tr>\n",
       "    <tr>\n",
       "      <th>1</th>\n",
       "      <td>Ahmed Salih</td>\n",
       "      <td>Yıldız</td>\n",
       "      <td>Karabük</td>\n",
       "    </tr>\n",
       "    <tr>\n",
       "      <th>2</th>\n",
       "      <td>Meryem</td>\n",
       "      <td>Mutlu</td>\n",
       "      <td>Ankara</td>\n",
       "    </tr>\n",
       "    <tr>\n",
       "      <th>3</th>\n",
       "      <td>Ayşe</td>\n",
       "      <td>NaN</td>\n",
       "      <td>Mersin</td>\n",
       "    </tr>\n",
       "    <tr>\n",
       "      <th>4</th>\n",
       "      <td>Fatma</td>\n",
       "      <td>Doğru</td>\n",
       "      <td>NaN</td>\n",
       "    </tr>\n",
       "  </tbody>\n",
       "</table>\n",
       "</div>"
      ],
      "text/plain": [
       "          isim      soyisim          şehir\n",
       "0       Şevval        Bolat  Kahramanmaraş\n",
       "1  Ahmed Salih       Yıldız        Karabük\n",
       "2       Meryem        Mutlu         Ankara\n",
       "3         Ayşe          NaN         Mersin\n",
       "4        Fatma  Doğru                  NaN"
      ]
     },
     "execution_count": 29,
     "metadata": {},
     "output_type": "execute_result"
    }
   ],
   "source": [
    "sütunsilme"
   ]
  },
  {
   "cell_type": "code",
   "execution_count": 31,
   "id": "dfcbc83c",
   "metadata": {},
   "outputs": [],
   "source": [
    "birdenfazlasütunsilme = excel.drop(['yaş','şehir'], axis = 1)"
   ]
  },
  {
   "cell_type": "code",
   "execution_count": 32,
   "id": "8b5a1a76",
   "metadata": {},
   "outputs": [
    {
     "data": {
      "text/html": [
       "<div>\n",
       "<style scoped>\n",
       "    .dataframe tbody tr th:only-of-type {\n",
       "        vertical-align: middle;\n",
       "    }\n",
       "\n",
       "    .dataframe tbody tr th {\n",
       "        vertical-align: top;\n",
       "    }\n",
       "\n",
       "    .dataframe thead th {\n",
       "        text-align: right;\n",
       "    }\n",
       "</style>\n",
       "<table border=\"1\" class=\"dataframe\">\n",
       "  <thead>\n",
       "    <tr style=\"text-align: right;\">\n",
       "      <th></th>\n",
       "      <th>isim</th>\n",
       "      <th>soyisim</th>\n",
       "    </tr>\n",
       "  </thead>\n",
       "  <tbody>\n",
       "    <tr>\n",
       "      <th>0</th>\n",
       "      <td>Şevval</td>\n",
       "      <td>Bolat</td>\n",
       "    </tr>\n",
       "    <tr>\n",
       "      <th>1</th>\n",
       "      <td>Ahmed Salih</td>\n",
       "      <td>Yıldız</td>\n",
       "    </tr>\n",
       "    <tr>\n",
       "      <th>2</th>\n",
       "      <td>Meryem</td>\n",
       "      <td>Mutlu</td>\n",
       "    </tr>\n",
       "    <tr>\n",
       "      <th>3</th>\n",
       "      <td>Ayşe</td>\n",
       "      <td>NaN</td>\n",
       "    </tr>\n",
       "    <tr>\n",
       "      <th>4</th>\n",
       "      <td>Fatma</td>\n",
       "      <td>Doğru</td>\n",
       "    </tr>\n",
       "  </tbody>\n",
       "</table>\n",
       "</div>"
      ],
      "text/plain": [
       "          isim      soyisim\n",
       "0       Şevval        Bolat\n",
       "1  Ahmed Salih       Yıldız\n",
       "2       Meryem        Mutlu\n",
       "3         Ayşe          NaN\n",
       "4        Fatma  Doğru      "
      ]
     },
     "execution_count": 32,
     "metadata": {},
     "output_type": "execute_result"
    }
   ],
   "source": [
    "birdenfazlasütunsilme"
   ]
  },
  {
   "cell_type": "code",
   "execution_count": 34,
   "id": "1535de22",
   "metadata": {},
   "outputs": [
    {
     "data": {
      "text/html": [
       "<div>\n",
       "<style scoped>\n",
       "    .dataframe tbody tr th:only-of-type {\n",
       "        vertical-align: middle;\n",
       "    }\n",
       "\n",
       "    .dataframe tbody tr th {\n",
       "        vertical-align: top;\n",
       "    }\n",
       "\n",
       "    .dataframe thead th {\n",
       "        text-align: right;\n",
       "    }\n",
       "</style>\n",
       "<table border=\"1\" class=\"dataframe\">\n",
       "  <thead>\n",
       "    <tr style=\"text-align: right;\">\n",
       "      <th></th>\n",
       "      <th>isim</th>\n",
       "      <th>soyisim</th>\n",
       "      <th>şehir</th>\n",
       "      <th>yaş</th>\n",
       "    </tr>\n",
       "  </thead>\n",
       "  <tbody>\n",
       "    <tr>\n",
       "      <th>0</th>\n",
       "      <td>Şevval</td>\n",
       "      <td>Bolat</td>\n",
       "      <td>Kahramanmaraş</td>\n",
       "      <td>21</td>\n",
       "    </tr>\n",
       "    <tr>\n",
       "      <th>1</th>\n",
       "      <td>Ahmed Salih</td>\n",
       "      <td>Yıldız</td>\n",
       "      <td>Karabük</td>\n",
       "      <td>22</td>\n",
       "    </tr>\n",
       "    <tr>\n",
       "      <th>2</th>\n",
       "      <td>Meryem</td>\n",
       "      <td>Mutlu</td>\n",
       "      <td>Ankara</td>\n",
       "      <td>25</td>\n",
       "    </tr>\n",
       "    <tr>\n",
       "      <th>3</th>\n",
       "      <td>Ayşe</td>\n",
       "      <td>NaN</td>\n",
       "      <td>Mersin</td>\n",
       "      <td>30</td>\n",
       "    </tr>\n",
       "    <tr>\n",
       "      <th>4</th>\n",
       "      <td>Fatma</td>\n",
       "      <td>Doğru</td>\n",
       "      <td>NaN</td>\n",
       "      <td>41</td>\n",
       "    </tr>\n",
       "  </tbody>\n",
       "</table>\n",
       "</div>"
      ],
      "text/plain": [
       "          isim      soyisim          şehir  yaş\n",
       "0       Şevval        Bolat  Kahramanmaraş   21\n",
       "1  Ahmed Salih       Yıldız        Karabük   22\n",
       "2       Meryem        Mutlu         Ankara   25\n",
       "3         Ayşe          NaN         Mersin   30\n",
       "4        Fatma  Doğru                  NaN   41"
      ]
     },
     "execution_count": 34,
     "metadata": {},
     "output_type": "execute_result"
    }
   ],
   "source": [
    "excel"
   ]
  },
  {
   "cell_type": "code",
   "execution_count": 36,
   "id": "207faffd",
   "metadata": {},
   "outputs": [],
   "source": [
    "excel['meslek'] = ['yazılımcı', 'mühendis','doktor','öğretmen', 'mimar']"
   ]
  },
  {
   "cell_type": "code",
   "execution_count": 37,
   "id": "84b39713",
   "metadata": {},
   "outputs": [
    {
     "data": {
      "text/html": [
       "<div>\n",
       "<style scoped>\n",
       "    .dataframe tbody tr th:only-of-type {\n",
       "        vertical-align: middle;\n",
       "    }\n",
       "\n",
       "    .dataframe tbody tr th {\n",
       "        vertical-align: top;\n",
       "    }\n",
       "\n",
       "    .dataframe thead th {\n",
       "        text-align: right;\n",
       "    }\n",
       "</style>\n",
       "<table border=\"1\" class=\"dataframe\">\n",
       "  <thead>\n",
       "    <tr style=\"text-align: right;\">\n",
       "      <th></th>\n",
       "      <th>isim</th>\n",
       "      <th>soyisim</th>\n",
       "      <th>şehir</th>\n",
       "      <th>yaş</th>\n",
       "      <th>meslek</th>\n",
       "    </tr>\n",
       "  </thead>\n",
       "  <tbody>\n",
       "    <tr>\n",
       "      <th>0</th>\n",
       "      <td>Şevval</td>\n",
       "      <td>Bolat</td>\n",
       "      <td>Kahramanmaraş</td>\n",
       "      <td>21</td>\n",
       "      <td>yazılımcı</td>\n",
       "    </tr>\n",
       "    <tr>\n",
       "      <th>1</th>\n",
       "      <td>Ahmed Salih</td>\n",
       "      <td>Yıldız</td>\n",
       "      <td>Karabük</td>\n",
       "      <td>22</td>\n",
       "      <td>mühendis</td>\n",
       "    </tr>\n",
       "    <tr>\n",
       "      <th>2</th>\n",
       "      <td>Meryem</td>\n",
       "      <td>Mutlu</td>\n",
       "      <td>Ankara</td>\n",
       "      <td>25</td>\n",
       "      <td>doktor</td>\n",
       "    </tr>\n",
       "    <tr>\n",
       "      <th>3</th>\n",
       "      <td>Ayşe</td>\n",
       "      <td>NaN</td>\n",
       "      <td>Mersin</td>\n",
       "      <td>30</td>\n",
       "      <td>öğretmen</td>\n",
       "    </tr>\n",
       "    <tr>\n",
       "      <th>4</th>\n",
       "      <td>Fatma</td>\n",
       "      <td>Doğru</td>\n",
       "      <td>NaN</td>\n",
       "      <td>41</td>\n",
       "      <td>mimar</td>\n",
       "    </tr>\n",
       "  </tbody>\n",
       "</table>\n",
       "</div>"
      ],
      "text/plain": [
       "          isim      soyisim          şehir  yaş     meslek\n",
       "0       Şevval        Bolat  Kahramanmaraş   21  yazılımcı\n",
       "1  Ahmed Salih       Yıldız        Karabük   22   mühendis\n",
       "2       Meryem        Mutlu         Ankara   25     doktor\n",
       "3         Ayşe          NaN         Mersin   30   öğretmen\n",
       "4        Fatma  Doğru                  NaN   41      mimar"
      ]
     },
     "execution_count": 37,
     "metadata": {},
     "output_type": "execute_result"
    }
   ],
   "source": [
    "excel"
   ]
  },
  {
   "cell_type": "code",
   "execution_count": 39,
   "id": "985ee9ef",
   "metadata": {},
   "outputs": [],
   "source": [
    "excel.loc[len(excel)] = ['Mehmet','Işık','Kocaeli', 27, 'İmam']"
   ]
  },
  {
   "cell_type": "code",
   "execution_count": 40,
   "id": "fed0aaaf",
   "metadata": {},
   "outputs": [
    {
     "data": {
      "text/html": [
       "<div>\n",
       "<style scoped>\n",
       "    .dataframe tbody tr th:only-of-type {\n",
       "        vertical-align: middle;\n",
       "    }\n",
       "\n",
       "    .dataframe tbody tr th {\n",
       "        vertical-align: top;\n",
       "    }\n",
       "\n",
       "    .dataframe thead th {\n",
       "        text-align: right;\n",
       "    }\n",
       "</style>\n",
       "<table border=\"1\" class=\"dataframe\">\n",
       "  <thead>\n",
       "    <tr style=\"text-align: right;\">\n",
       "      <th></th>\n",
       "      <th>isim</th>\n",
       "      <th>soyisim</th>\n",
       "      <th>şehir</th>\n",
       "      <th>yaş</th>\n",
       "      <th>meslek</th>\n",
       "    </tr>\n",
       "  </thead>\n",
       "  <tbody>\n",
       "    <tr>\n",
       "      <th>0</th>\n",
       "      <td>Şevval</td>\n",
       "      <td>Bolat</td>\n",
       "      <td>Kahramanmaraş</td>\n",
       "      <td>21</td>\n",
       "      <td>yazılımcı</td>\n",
       "    </tr>\n",
       "    <tr>\n",
       "      <th>1</th>\n",
       "      <td>Ahmed Salih</td>\n",
       "      <td>Yıldız</td>\n",
       "      <td>Karabük</td>\n",
       "      <td>22</td>\n",
       "      <td>mühendis</td>\n",
       "    </tr>\n",
       "    <tr>\n",
       "      <th>2</th>\n",
       "      <td>Meryem</td>\n",
       "      <td>Mutlu</td>\n",
       "      <td>Ankara</td>\n",
       "      <td>25</td>\n",
       "      <td>doktor</td>\n",
       "    </tr>\n",
       "    <tr>\n",
       "      <th>3</th>\n",
       "      <td>Ayşe</td>\n",
       "      <td>NaN</td>\n",
       "      <td>Mersin</td>\n",
       "      <td>30</td>\n",
       "      <td>öğretmen</td>\n",
       "    </tr>\n",
       "    <tr>\n",
       "      <th>4</th>\n",
       "      <td>Fatma</td>\n",
       "      <td>Doğru</td>\n",
       "      <td>NaN</td>\n",
       "      <td>41</td>\n",
       "      <td>mimar</td>\n",
       "    </tr>\n",
       "    <tr>\n",
       "      <th>5</th>\n",
       "      <td>Mehmet</td>\n",
       "      <td>Işık</td>\n",
       "      <td>Kocaeli</td>\n",
       "      <td>27</td>\n",
       "      <td>İmam</td>\n",
       "    </tr>\n",
       "  </tbody>\n",
       "</table>\n",
       "</div>"
      ],
      "text/plain": [
       "          isim      soyisim          şehir  yaş     meslek\n",
       "0       Şevval        Bolat  Kahramanmaraş   21  yazılımcı\n",
       "1  Ahmed Salih       Yıldız        Karabük   22   mühendis\n",
       "2       Meryem        Mutlu         Ankara   25     doktor\n",
       "3         Ayşe          NaN         Mersin   30   öğretmen\n",
       "4        Fatma  Doğru                  NaN   41      mimar\n",
       "5       Mehmet         Işık        Kocaeli   27       İmam"
      ]
     },
     "execution_count": 40,
     "metadata": {},
     "output_type": "execute_result"
    }
   ],
   "source": [
    "excel"
   ]
  },
  {
   "cell_type": "code",
   "execution_count": 42,
   "id": "30d5f215",
   "metadata": {},
   "outputs": [],
   "source": [
    "excel.loc[5] = ['Tarık', 'Kahraman','İstanbul', 36, 'iş adamı']"
   ]
  },
  {
   "cell_type": "code",
   "execution_count": 43,
   "id": "6f7247aa",
   "metadata": {},
   "outputs": [
    {
     "data": {
      "text/html": [
       "<div>\n",
       "<style scoped>\n",
       "    .dataframe tbody tr th:only-of-type {\n",
       "        vertical-align: middle;\n",
       "    }\n",
       "\n",
       "    .dataframe tbody tr th {\n",
       "        vertical-align: top;\n",
       "    }\n",
       "\n",
       "    .dataframe thead th {\n",
       "        text-align: right;\n",
       "    }\n",
       "</style>\n",
       "<table border=\"1\" class=\"dataframe\">\n",
       "  <thead>\n",
       "    <tr style=\"text-align: right;\">\n",
       "      <th></th>\n",
       "      <th>isim</th>\n",
       "      <th>soyisim</th>\n",
       "      <th>şehir</th>\n",
       "      <th>yaş</th>\n",
       "      <th>meslek</th>\n",
       "    </tr>\n",
       "  </thead>\n",
       "  <tbody>\n",
       "    <tr>\n",
       "      <th>0</th>\n",
       "      <td>Şevval</td>\n",
       "      <td>Bolat</td>\n",
       "      <td>Kahramanmaraş</td>\n",
       "      <td>21</td>\n",
       "      <td>yazılımcı</td>\n",
       "    </tr>\n",
       "    <tr>\n",
       "      <th>1</th>\n",
       "      <td>Ahmed Salih</td>\n",
       "      <td>Yıldız</td>\n",
       "      <td>Karabük</td>\n",
       "      <td>22</td>\n",
       "      <td>mühendis</td>\n",
       "    </tr>\n",
       "    <tr>\n",
       "      <th>2</th>\n",
       "      <td>Meryem</td>\n",
       "      <td>Mutlu</td>\n",
       "      <td>Ankara</td>\n",
       "      <td>25</td>\n",
       "      <td>doktor</td>\n",
       "    </tr>\n",
       "    <tr>\n",
       "      <th>3</th>\n",
       "      <td>Ayşe</td>\n",
       "      <td>NaN</td>\n",
       "      <td>Mersin</td>\n",
       "      <td>30</td>\n",
       "      <td>öğretmen</td>\n",
       "    </tr>\n",
       "    <tr>\n",
       "      <th>4</th>\n",
       "      <td>Fatma</td>\n",
       "      <td>Doğru</td>\n",
       "      <td>NaN</td>\n",
       "      <td>41</td>\n",
       "      <td>mimar</td>\n",
       "    </tr>\n",
       "    <tr>\n",
       "      <th>5</th>\n",
       "      <td>Tarık</td>\n",
       "      <td>Kahraman</td>\n",
       "      <td>İstanbul</td>\n",
       "      <td>36</td>\n",
       "      <td>iş adamı</td>\n",
       "    </tr>\n",
       "  </tbody>\n",
       "</table>\n",
       "</div>"
      ],
      "text/plain": [
       "          isim      soyisim          şehir  yaş     meslek\n",
       "0       Şevval        Bolat  Kahramanmaraş   21  yazılımcı\n",
       "1  Ahmed Salih       Yıldız        Karabük   22   mühendis\n",
       "2       Meryem        Mutlu         Ankara   25     doktor\n",
       "3         Ayşe          NaN         Mersin   30   öğretmen\n",
       "4        Fatma  Doğru                  NaN   41      mimar\n",
       "5        Tarık     Kahraman       İstanbul   36   iş adamı"
      ]
     },
     "execution_count": 43,
     "metadata": {},
     "output_type": "execute_result"
    }
   ],
   "source": [
    "excel"
   ]
  }
 ],
 "metadata": {
  "kernelspec": {
   "display_name": "Python 3 (ipykernel)",
   "language": "python",
   "name": "python3"
  },
  "language_info": {
   "codemirror_mode": {
    "name": "ipython",
    "version": 3
   },
   "file_extension": ".py",
   "mimetype": "text/x-python",
   "name": "python",
   "nbconvert_exporter": "python",
   "pygments_lexer": "ipython3",
   "version": "3.11.5"
  }
 },
 "nbformat": 4,
 "nbformat_minor": 5
}
