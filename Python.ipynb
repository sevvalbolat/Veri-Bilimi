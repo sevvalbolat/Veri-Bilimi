{
 "cells": [
  {
   "cell_type": "code",
   "execution_count": 2,
   "id": "22251b6f",
   "metadata": {},
   "outputs": [
    {
     "name": "stdout",
     "output_type": "stream",
     "text": [
      "1\n"
     ]
    }
   ],
   "source": [
    "var1 = 10\n",
    "var2 = 20\n",
    "gun = \"pazartesi\"\n",
    "liste = [1,2,3,4,5,6]\n",
    "value = liste[0]\n",
    "print(value)"
   ]
  },
  {
   "cell_type": "code",
   "execution_count": 3,
   "id": "f75afa1f",
   "metadata": {},
   "outputs": [
    {
     "data": {
      "text/plain": [
       "1"
      ]
     },
     "execution_count": 3,
     "metadata": {},
     "output_type": "execute_result"
    }
   ],
   "source": [
    "liste = [1,2,3,4,5,6]\n",
    "value = liste[0]\n",
    "value"
   ]
  },
  {
   "cell_type": "code",
   "execution_count": 4,
   "id": "6174bc5d",
   "metadata": {},
   "outputs": [
    {
     "data": {
      "text/plain": [
       "6"
      ]
     },
     "execution_count": 4,
     "metadata": {},
     "output_type": "execute_result"
    }
   ],
   "source": [
    "liste[-1]"
   ]
  },
  {
   "cell_type": "code",
   "execution_count": 5,
   "id": "128d5585",
   "metadata": {},
   "outputs": [
    {
     "data": {
      "text/plain": [
       "['__add__',\n",
       " '__class__',\n",
       " '__class_getitem__',\n",
       " '__contains__',\n",
       " '__delattr__',\n",
       " '__delitem__',\n",
       " '__dir__',\n",
       " '__doc__',\n",
       " '__eq__',\n",
       " '__format__',\n",
       " '__ge__',\n",
       " '__getattribute__',\n",
       " '__getitem__',\n",
       " '__getstate__',\n",
       " '__gt__',\n",
       " '__hash__',\n",
       " '__iadd__',\n",
       " '__imul__',\n",
       " '__init__',\n",
       " '__init_subclass__',\n",
       " '__iter__',\n",
       " '__le__',\n",
       " '__len__',\n",
       " '__lt__',\n",
       " '__mul__',\n",
       " '__ne__',\n",
       " '__new__',\n",
       " '__reduce__',\n",
       " '__reduce_ex__',\n",
       " '__repr__',\n",
       " '__reversed__',\n",
       " '__rmul__',\n",
       " '__setattr__',\n",
       " '__setitem__',\n",
       " '__sizeof__',\n",
       " '__str__',\n",
       " '__subclasshook__',\n",
       " 'append',\n",
       " 'clear',\n",
       " 'copy',\n",
       " 'count',\n",
       " 'extend',\n",
       " 'index',\n",
       " 'insert',\n",
       " 'pop',\n",
       " 'remove',\n",
       " 'reverse',\n",
       " 'sort']"
      ]
     },
     "execution_count": 5,
     "metadata": {},
     "output_type": "execute_result"
    }
   ],
   "source": [
    "dir(liste)"
   ]
  },
  {
   "cell_type": "code",
   "execution_count": 6,
   "id": "618cece5",
   "metadata": {},
   "outputs": [
    {
     "name": "stdout",
     "output_type": "stream",
     "text": [
      "[1, 2, 3, 4, 5, 6, 7]\n"
     ]
    }
   ],
   "source": [
    "liste.append(7)\n",
    "print(liste)"
   ]
  },
  {
   "cell_type": "code",
   "execution_count": 7,
   "id": "a7b475aa",
   "metadata": {},
   "outputs": [
    {
     "name": "stdout",
     "output_type": "stream",
     "text": [
      "[1, 2, 3, 4, 6, 7]\n"
     ]
    }
   ],
   "source": [
    "liste.remove(5)\n",
    "print(liste)"
   ]
  },
  {
   "cell_type": "code",
   "execution_count": 8,
   "id": "dbecd6c7",
   "metadata": {},
   "outputs": [
    {
     "name": "stdout",
     "output_type": "stream",
     "text": [
      "[7, 6, 4, 3, 2, 1]\n"
     ]
    }
   ],
   "source": [
    "liste.reverse()\n",
    "print(liste)"
   ]
  },
  {
   "cell_type": "code",
   "execution_count": 9,
   "id": "6ec52dac",
   "metadata": {},
   "outputs": [
    {
     "name": "stdout",
     "output_type": "stream",
     "text": [
      "[1, 2, 3, 4, 6, 7]\n"
     ]
    }
   ],
   "source": [
    "liste.sort()\n",
    "print(liste)"
   ]
  },
  {
   "cell_type": "code",
   "execution_count": 12,
   "id": "ccb3717a",
   "metadata": {},
   "outputs": [
    {
     "name": "stdout",
     "output_type": "stream",
     "text": [
      "1\n",
      "2\n",
      "3\n",
      "4\n",
      "5\n",
      "6\n",
      "7\n",
      "8\n",
      "9\n",
      "10\n"
     ]
    }
   ],
   "source": [
    "for i in range(1,11):\n",
    "    print(i)"
   ]
  },
  {
   "cell_type": "code",
   "execution_count": 13,
   "id": "493cffbe",
   "metadata": {},
   "outputs": [
    {
     "data": {
      "text/plain": [
       "45"
      ]
     },
     "execution_count": 13,
     "metadata": {},
     "output_type": "execute_result"
    }
   ],
   "source": [
    "liste1 = [1,2,3,4,5,6,7,8,9]\n",
    "sum(liste1)"
   ]
  },
  {
   "cell_type": "code",
   "execution_count": 14,
   "id": "757cffe4",
   "metadata": {},
   "outputs": [
    {
     "data": {
      "text/plain": [
       "1"
      ]
     },
     "execution_count": 14,
     "metadata": {},
     "output_type": "execute_result"
    }
   ],
   "source": [
    "min(liste1)"
   ]
  },
  {
   "cell_type": "code",
   "execution_count": 20,
   "id": "c7db7282",
   "metadata": {},
   "outputs": [],
   "source": [
    "minimum = 10000\n",
    "for i in liste1:\n",
    "    if(i < minimum):\n",
    "        minimum = i\n",
    "    else:\n",
    "        continue\n",
    "        print(minimum)"
   ]
  },
  {
   "cell_type": "code",
   "execution_count": 28,
   "id": "94cb5f8c",
   "metadata": {},
   "outputs": [
    {
     "name": "stdout",
     "output_type": "stream",
     "text": [
      "0\n",
      "1\n",
      "2\n",
      "3\n",
      "4\n"
     ]
    }
   ],
   "source": [
    "i = 0\n",
    "while(i < 5):\n",
    "    print(i)\n",
    "    i = i+1"
   ]
  },
  {
   "cell_type": "code",
   "execution_count": 30,
   "id": "fe008629",
   "metadata": {},
   "outputs": [
    {
     "data": {
      "text/plain": [
       "18.84"
      ]
     },
     "execution_count": 30,
     "metadata": {},
     "output_type": "execute_result"
    }
   ],
   "source": [
    "def cember_cevre(r,pi = 3.14):\n",
    "    output = 2*pi*r\n",
    "    return output\n",
    "cember_cevre(3)"
   ]
  },
  {
   "cell_type": "code",
   "execution_count": 32,
   "id": "6c78713f",
   "metadata": {},
   "outputs": [
    {
     "data": {
      "text/plain": [
       "25"
      ]
     },
     "execution_count": 32,
     "metadata": {},
     "output_type": "execute_result"
    }
   ],
   "source": [
    "def karesi(x):\n",
    "    output = x*x\n",
    "    return output\n",
    "karesi(5)"
   ]
  },
  {
   "cell_type": "code",
   "execution_count": 41,
   "id": "6940c91e",
   "metadata": {},
   "outputs": [
    {
     "name": "stdout",
     "output_type": "stream",
     "text": [
      "8\n"
     ]
    }
   ],
   "source": [
    "def kupu(x):\n",
    "    return kupu\n",
    "    sonuc = lambda x: x*x*x\n",
    "print(sonuc(2))"
   ]
  },
  {
   "cell_type": "code",
   "execution_count": 6,
   "id": "b7b5756d",
   "metadata": {},
   "outputs": [
    {
     "data": {
      "text/plain": [
       "10"
      ]
     },
     "execution_count": 6,
     "metadata": {},
     "output_type": "execute_result"
    }
   ],
   "source": [
    "dictionary = {\"sevval\":10,\"kimse\":20,\"ilayda\":30}\n",
    "dictionary[\"sevval\"]"
   ]
  },
  {
   "cell_type": "code",
   "execution_count": 7,
   "id": "3e2f83a3",
   "metadata": {},
   "outputs": [
    {
     "data": {
      "text/plain": [
       "dict_keys(['sevval', 'kimse', 'ilayda'])"
      ]
     },
     "execution_count": 7,
     "metadata": {},
     "output_type": "execute_result"
    }
   ],
   "source": [
    "dictionary.keys()"
   ]
  },
  {
   "cell_type": "code",
   "execution_count": 8,
   "id": "4017e3f4",
   "metadata": {},
   "outputs": [
    {
     "data": {
      "text/plain": [
       "dict_values([10, 20, 30])"
      ]
     },
     "execution_count": 8,
     "metadata": {},
     "output_type": "execute_result"
    }
   ],
   "source": [
    "dictionary.values()"
   ]
  },
  {
   "cell_type": "code",
   "execution_count": 9,
   "id": "555a1514",
   "metadata": {},
   "outputs": [],
   "source": [
    "def deneme():\n",
    "    dictionary = {\"sevval\":10,\"kimse\":20,\"ilayda\":30}\n",
    "    return dictionary\n",
    "dic = deneme()"
   ]
  },
  {
   "cell_type": "code",
   "execution_count": 10,
   "id": "158243b7",
   "metadata": {},
   "outputs": [
    {
     "name": "stdout",
     "output_type": "stream",
     "text": [
      "{'sevval': 10, 'kimse': 20, 'ilayda': 30}\n"
     ]
    }
   ],
   "source": [
    "print(dic)"
   ]
  },
  {
   "cell_type": "code",
   "execution_count": 11,
   "id": "7bb61877",
   "metadata": {},
   "outputs": [
    {
     "name": "stdout",
     "output_type": "stream",
     "text": [
      "yes\n"
     ]
    }
   ],
   "source": [
    "keys = dictionary.keys()\n",
    "if \"sevval\" in keys:\n",
    "    print(\"yes\")\n",
    "else:\n",
    "    print(\"no\")"
   ]
  },
  {
   "cell_type": "code",
   "execution_count": 1,
   "id": "bcd3c38e",
   "metadata": {},
   "outputs": [
    {
     "ename": "NameError",
     "evalue": "name 'isim' is not defined",
     "output_type": "error",
     "traceback": [
      "\u001b[1;31m---------------------------------------------------------------------------\u001b[0m",
      "\u001b[1;31mNameError\u001b[0m                                 Traceback (most recent call last)",
      "Cell \u001b[1;32mIn[1], line 1\u001b[0m\n\u001b[1;32m----> 1\u001b[0m isim, soyisim \u001b[38;5;241m=\u001b[39m isim, soyisim\n\u001b[0;32m      2\u001b[0m \u001b[38;5;28mprint\u001b[39m(isim)\n",
      "\u001b[1;31mNameError\u001b[0m: name 'isim' is not defined"
     ]
    }
   ],
   "source": [
    "isim, soyisim = isim, soyisim\n",
    "print(isim)"
   ]
  },
  {
   "cell_type": "markdown",
   "id": "c117bacd",
   "metadata": {},
   "source": [
    "# Veri Tipleri "
   ]
  },
  {
   "cell_type": "code",
   "execution_count": 1,
   "id": "0a2965a7",
   "metadata": {},
   "outputs": [
    {
     "data": {
      "text/plain": [
       "'Ş'"
      ]
     },
     "execution_count": 1,
     "metadata": {},
     "output_type": "execute_result"
    }
   ],
   "source": [
    "isim = \"Şevval\"\n",
    "isim[0]"
   ]
  },
  {
   "cell_type": "code",
   "execution_count": 2,
   "id": "d2dd079a",
   "metadata": {},
   "outputs": [
    {
     "name": "stdout",
     "output_type": "stream",
     "text": [
      "Şevval\n"
     ]
    }
   ],
   "source": [
    "print(isim)"
   ]
  },
  {
   "cell_type": "code",
   "execution_count": 4,
   "id": "a70e5af2",
   "metadata": {},
   "outputs": [
    {
     "data": {
      "text/plain": [
       "'sevvalsevvalsevval'"
      ]
     },
     "execution_count": 4,
     "metadata": {},
     "output_type": "execute_result"
    }
   ],
   "source": [
    "\"sevval\" * 3"
   ]
  },
  {
   "cell_type": "code",
   "execution_count": 5,
   "id": "7e461556",
   "metadata": {},
   "outputs": [
    {
     "data": {
      "text/plain": [
       "'ŞEVVAL BOLAT'"
      ]
     },
     "execution_count": 5,
     "metadata": {},
     "output_type": "execute_result"
    }
   ],
   "source": [
    "\"şevval bolat\".upper()"
   ]
  },
  {
   "cell_type": "code",
   "execution_count": 6,
   "id": "db4976d6",
   "metadata": {},
   "outputs": [
    {
     "data": {
      "text/plain": [
       "'şevval bolat'"
      ]
     },
     "execution_count": 6,
     "metadata": {},
     "output_type": "execute_result"
    }
   ],
   "source": [
    "\"Şevval Bolat\".lower()"
   ]
  },
  {
   "cell_type": "code",
   "execution_count": 7,
   "id": "b2e36002",
   "metadata": {},
   "outputs": [
    {
     "data": {
      "text/plain": [
       "'Şevval bolat'"
      ]
     },
     "execution_count": 7,
     "metadata": {},
     "output_type": "execute_result"
    }
   ],
   "source": [
    "\"şevval bolat\".capitalize()"
   ]
  },
  {
   "cell_type": "code",
   "execution_count": 8,
   "id": "5165e8ca",
   "metadata": {},
   "outputs": [
    {
     "data": {
      "text/plain": [
       "'ŞEVVAL BOLAT'"
      ]
     },
     "execution_count": 8,
     "metadata": {},
     "output_type": "execute_result"
    }
   ],
   "source": [
    "isim = \"Şevval Bolat\"\n",
    "isim.upper()"
   ]
  },
  {
   "cell_type": "code",
   "execution_count": 10,
   "id": "87f803ed",
   "metadata": {},
   "outputs": [
    {
     "data": {
      "text/plain": [
       "2"
      ]
     },
     "execution_count": 10,
     "metadata": {},
     "output_type": "execute_result"
    }
   ],
   "source": [
    "isim.count(\"a\")"
   ]
  },
  {
   "cell_type": "code",
   "execution_count": 11,
   "id": "1e8b56c7",
   "metadata": {},
   "outputs": [
    {
     "data": {
      "text/plain": [
       "3"
      ]
     },
     "execution_count": 11,
     "metadata": {},
     "output_type": "execute_result"
    }
   ],
   "source": [
    "isim.find(\"val\")"
   ]
  },
  {
   "cell_type": "code",
   "execution_count": 12,
   "id": "b50b83cd",
   "metadata": {},
   "outputs": [
    {
     "data": {
      "text/plain": [
       "1"
      ]
     },
     "execution_count": 12,
     "metadata": {},
     "output_type": "execute_result"
    }
   ],
   "source": [
    "isim.index(\"e\")"
   ]
  },
  {
   "cell_type": "code",
   "execution_count": 14,
   "id": "b516b922",
   "metadata": {},
   "outputs": [
    {
     "data": {
      "text/plain": [
       "'Şevval Bolat'"
      ]
     },
     "execution_count": 14,
     "metadata": {},
     "output_type": "execute_result"
    }
   ],
   "source": [
    "yeni = \"         Şevval Bolat          \"\n",
    "yeni.lstrip()"
   ]
  },
  {
   "cell_type": "code",
   "execution_count": 16,
   "id": "b642678b",
   "metadata": {},
   "outputs": [
    {
     "data": {
      "text/plain": [
       "'         Şevval Bolat'"
      ]
     },
     "execution_count": 16,
     "metadata": {},
     "output_type": "execute_result"
    }
   ],
   "source": [
    "yeni.rstrip()"
   ]
  },
  {
   "cell_type": "code",
   "execution_count": null,
   "id": "67988e85",
   "metadata": {},
   "outputs": [],
   "source": [
    "yeni.strip()"
   ]
  },
  {
   "cell_type": "code",
   "execution_count": 18,
   "id": "e4599f3d",
   "metadata": {},
   "outputs": [
    {
     "data": {
      "text/plain": [
       "'Şevval prenses'"
      ]
     },
     "execution_count": 18,
     "metadata": {},
     "output_type": "execute_result"
    }
   ],
   "source": [
    "isim.replace(\"Bolat\" , \"prenses\")"
   ]
  },
  {
   "cell_type": "code",
   "execution_count": 19,
   "id": "19130ee2",
   "metadata": {},
   "outputs": [
    {
     "name": "stdout",
     "output_type": "stream",
     "text": [
      "Benim ismim Şevval, soyismim Bolat\n"
     ]
    }
   ],
   "source": [
    "isim = \"Şevval\"\n",
    "soyisim = \"Bolat\"\n",
    "print(\"Benim ismim {}, soyismim {}\".format(isim,soyisim))"
   ]
  },
  {
   "cell_type": "markdown",
   "id": "62d81c07",
   "metadata": {},
   "source": [
    "# LİSTELER"
   ]
  },
  {
   "cell_type": "code",
   "execution_count": 23,
   "id": "6bea800c",
   "metadata": {},
   "outputs": [
    {
     "data": {
      "text/plain": [
       "['Şevval', 'Bolat', 21, 'student']"
      ]
     },
     "execution_count": 23,
     "metadata": {},
     "output_type": "execute_result"
    }
   ],
   "source": [
    "insan = [\"Şevval\", \"Bolat\", 21, \"student\"]\n",
    "insan"
   ]
  },
  {
   "cell_type": "code",
   "execution_count": 29,
   "id": "62219956",
   "metadata": {},
   "outputs": [],
   "source": [
    "sayilar = [54,63,1,25,368,741,852,963,12,45,85]"
   ]
  },
  {
   "cell_type": "code",
   "execution_count": 30,
   "id": "8d81d4a4",
   "metadata": {},
   "outputs": [
    {
     "data": {
      "text/plain": [
       "11"
      ]
     },
     "execution_count": 30,
     "metadata": {},
     "output_type": "execute_result"
    }
   ],
   "source": [
    "len(sayilar)"
   ]
  },
  {
   "cell_type": "code",
   "execution_count": 31,
   "id": "4268a177",
   "metadata": {},
   "outputs": [],
   "source": [
    "sayilar.append(520)"
   ]
  },
  {
   "cell_type": "code",
   "execution_count": 32,
   "id": "49cadcc5",
   "metadata": {},
   "outputs": [
    {
     "data": {
      "text/plain": [
       "[54, 63, 1, 25, 368, 741, 852, 963, 12, 45, 85, 520]"
      ]
     },
     "execution_count": 32,
     "metadata": {},
     "output_type": "execute_result"
    }
   ],
   "source": [
    "sayilar"
   ]
  },
  {
   "cell_type": "code",
   "execution_count": 33,
   "id": "a4bc75a8",
   "metadata": {},
   "outputs": [],
   "source": [
    "sayilar.remove(63)"
   ]
  },
  {
   "cell_type": "code",
   "execution_count": 34,
   "id": "b5acf18b",
   "metadata": {},
   "outputs": [
    {
     "data": {
      "text/plain": [
       "[54, 1, 25, 368, 741, 852, 963, 12, 45, 85, 520]"
      ]
     },
     "execution_count": 34,
     "metadata": {},
     "output_type": "execute_result"
    }
   ],
   "source": [
    "sayilar"
   ]
  },
  {
   "cell_type": "code",
   "execution_count": 35,
   "id": "86440185",
   "metadata": {},
   "outputs": [
    {
     "data": {
      "text/plain": [
       "520"
      ]
     },
     "execution_count": 35,
     "metadata": {},
     "output_type": "execute_result"
    }
   ],
   "source": [
    "sayilar.pop()"
   ]
  },
  {
   "cell_type": "code",
   "execution_count": 36,
   "id": "d8ae09d3",
   "metadata": {},
   "outputs": [
    {
     "data": {
      "text/plain": [
       "[54, 1, 25, 368, 741, 852, 963, 12, 45, 85]"
      ]
     },
     "execution_count": 36,
     "metadata": {},
     "output_type": "execute_result"
    }
   ],
   "source": [
    "sayilar"
   ]
  },
  {
   "cell_type": "code",
   "execution_count": 37,
   "id": "1c7a2042",
   "metadata": {},
   "outputs": [],
   "source": [
    "yeni = sayilar.copy()"
   ]
  },
  {
   "cell_type": "code",
   "execution_count": 38,
   "id": "e696c23d",
   "metadata": {},
   "outputs": [
    {
     "data": {
      "text/plain": [
       "[54, 1, 25, 368, 741, 852, 963, 12, 45, 85]"
      ]
     },
     "execution_count": 38,
     "metadata": {},
     "output_type": "execute_result"
    }
   ],
   "source": [
    "yeni"
   ]
  },
  {
   "cell_type": "code",
   "execution_count": 39,
   "id": "d4a90f8a",
   "metadata": {},
   "outputs": [
    {
     "data": {
      "text/plain": [
       "[1, 2, 3, 4, 5, 6, 7, 8]"
      ]
     },
     "execution_count": 39,
     "metadata": {},
     "output_type": "execute_result"
    }
   ],
   "source": [
    "a = [1,2,3,4]\n",
    "b = [5,6,7,8]\n",
    "a+b"
   ]
  },
  {
   "cell_type": "code",
   "execution_count": 48,
   "id": "cb2f457b",
   "metadata": {},
   "outputs": [
    {
     "data": {
      "text/plain": [
       "[1, 2, 3, 7, 7, 8, 9, 5]"
      ]
     },
     "execution_count": 48,
     "metadata": {},
     "output_type": "execute_result"
    }
   ],
   "source": [
    "c = [1,2,3,7]\n",
    "d = [7,8,9,5]\n",
    "c.extend(d)\n",
    "c"
   ]
  },
  {
   "cell_type": "code",
   "execution_count": 49,
   "id": "2b6df0e2",
   "metadata": {},
   "outputs": [
    {
     "data": {
      "text/plain": [
       "2"
      ]
     },
     "execution_count": 49,
     "metadata": {},
     "output_type": "execute_result"
    }
   ],
   "source": [
    "c.count(7)"
   ]
  },
  {
   "cell_type": "code",
   "execution_count": 50,
   "id": "94e61c1b",
   "metadata": {},
   "outputs": [
    {
     "data": {
      "text/plain": [
       "1"
      ]
     },
     "execution_count": 50,
     "metadata": {},
     "output_type": "execute_result"
    }
   ],
   "source": [
    "c.index(2)"
   ]
  },
  {
   "cell_type": "code",
   "execution_count": 51,
   "id": "3f1d9dcc",
   "metadata": {},
   "outputs": [
    {
     "data": {
      "text/plain": [
       "[1, 2, 3, 'merhaba', 7, 7, 8, 9, 5]"
      ]
     },
     "execution_count": 51,
     "metadata": {},
     "output_type": "execute_result"
    }
   ],
   "source": [
    "c.insert(3,\"merhaba\")\n",
    "c"
   ]
  },
  {
   "cell_type": "code",
   "execution_count": 53,
   "id": "4b35dc94",
   "metadata": {},
   "outputs": [
    {
     "data": {
      "text/plain": [
       "[1, 2, 3, 7, 7, 8, 9, 5]"
      ]
     },
     "execution_count": 53,
     "metadata": {},
     "output_type": "execute_result"
    }
   ],
   "source": [
    "c.remove(\"merhaba\")\n",
    "c"
   ]
  },
  {
   "cell_type": "code",
   "execution_count": 54,
   "id": "efc0db7d",
   "metadata": {},
   "outputs": [
    {
     "data": {
      "text/plain": [
       "[1, 2, 3, 5, 7, 7, 8, 9]"
      ]
     },
     "execution_count": 54,
     "metadata": {},
     "output_type": "execute_result"
    }
   ],
   "source": [
    "c.sort()\n",
    "c"
   ]
  },
  {
   "cell_type": "code",
   "execution_count": 56,
   "id": "51c8a7f5",
   "metadata": {},
   "outputs": [
    {
     "data": {
      "text/plain": [
       "[9, 8, 7, 7, 5, 3, 2, 1]"
      ]
     },
     "execution_count": 56,
     "metadata": {},
     "output_type": "execute_result"
    }
   ],
   "source": [
    "c.sort(reverse = True)\n",
    "c"
   ]
  },
  {
   "cell_type": "code",
   "execution_count": 57,
   "id": "b086f237",
   "metadata": {},
   "outputs": [
    {
     "data": {
      "text/plain": [
       "['ali', 'ayşe', 'mehtap']"
      ]
     },
     "execution_count": 57,
     "metadata": {},
     "output_type": "execute_result"
    }
   ],
   "source": [
    "isimler = [\"ali\", \"ayşe\",\"mehtap\"]\n",
    "isimler"
   ]
  },
  {
   "cell_type": "code",
   "execution_count": 60,
   "id": "ca8a5320",
   "metadata": {},
   "outputs": [
    {
     "data": {
      "text/plain": [
       "[]"
      ]
     },
     "execution_count": 60,
     "metadata": {},
     "output_type": "execute_result"
    }
   ],
   "source": [
    "isimler.clear()\n",
    "isimler"
   ]
  },
  {
   "cell_type": "markdown",
   "id": "cc9cc436",
   "metadata": {},
   "source": [
    "# Sözlükler "
   ]
  },
  {
   "cell_type": "code",
   "execution_count": 3,
   "id": "16308c78",
   "metadata": {},
   "outputs": [
    {
     "data": {
      "text/plain": [
       "{'isim': 'Şevval',\n",
       " 'soyisim': 'Bolat',\n",
       " 'tc_no': 215454877874,\n",
       " 'şehir': 'Kahramanmaraş'}"
      ]
     },
     "execution_count": 3,
     "metadata": {},
     "output_type": "execute_result"
    }
   ],
   "source": [
    "kimlik = {\"isim\" : \"Şevval\",\n",
    "          \"soyisim\" : \"Bolat\",\n",
    "          \"tc_no\" : 215454877874,\n",
    "         \"şehir\" : \"Kahramanmaraş\"}\n",
    "kimlik"
   ]
  },
  {
   "cell_type": "code",
   "execution_count": 4,
   "id": "14f1f788",
   "metadata": {},
   "outputs": [
    {
     "data": {
      "text/plain": [
       "'Şevval'"
      ]
     },
     "execution_count": 4,
     "metadata": {},
     "output_type": "execute_result"
    }
   ],
   "source": [
    "kimlik[\"isim\"]"
   ]
  },
  {
   "cell_type": "code",
   "execution_count": 5,
   "id": "beede4ec",
   "metadata": {},
   "outputs": [
    {
     "data": {
      "text/plain": [
       "4"
      ]
     },
     "execution_count": 5,
     "metadata": {},
     "output_type": "execute_result"
    }
   ],
   "source": [
    "len(kimlik)"
   ]
  },
  {
   "cell_type": "code",
   "execution_count": 6,
   "id": "aec47149",
   "metadata": {},
   "outputs": [],
   "source": [
    "kimlik[\"yıl\"] = 2002"
   ]
  },
  {
   "cell_type": "code",
   "execution_count": 7,
   "id": "3bcf0354",
   "metadata": {},
   "outputs": [
    {
     "data": {
      "text/plain": [
       "{'isim': 'Şevval',\n",
       " 'soyisim': 'Bolat',\n",
       " 'tc_no': 215454877874,\n",
       " 'şehir': 'Kahramanmaraş',\n",
       " 'yıl': 2002}"
      ]
     },
     "execution_count": 7,
     "metadata": {},
     "output_type": "execute_result"
    }
   ],
   "source": [
    "kimlik"
   ]
  },
  {
   "cell_type": "code",
   "execution_count": 24,
   "id": "5d3278cb",
   "metadata": {},
   "outputs": [
    {
     "data": {
      "text/plain": [
       "{'isim': 'Şevval',\n",
       " 'soyisim': 'Bolat',\n",
       " 'tc_no': 215454877874,\n",
       " 'şehir': 'Kahramanmaraş',\n",
       " 'bilgiler': {'email': 'merhaba@gmail.com', 'tel_no': 2589630211}}"
      ]
     },
     "execution_count": 24,
     "metadata": {},
     "output_type": "execute_result"
    }
   ],
   "source": [
    "kimlik = {\"isim\" : \"Şevval\",\n",
    "          \"soyisim\" : \"Bolat\",\n",
    "          \"tc_no\" : 215454877874,\n",
    "         \"şehir\" : \"Kahramanmaraş\",\n",
    "         \"bilgiler\" : {\"email\" : \"merhaba@gmail.com\",\n",
    "                      \"tel_no\": 2589630211}}\n",
    "kimlik"
   ]
  },
  {
   "cell_type": "code",
   "execution_count": 25,
   "id": "46862bb9",
   "metadata": {},
   "outputs": [
    {
     "data": {
      "text/plain": [
       "dict_keys(['isim', 'soyisim', 'tc_no', 'şehir', 'bilgiler'])"
      ]
     },
     "execution_count": 25,
     "metadata": {},
     "output_type": "execute_result"
    }
   ],
   "source": [
    "kimlik.keys()"
   ]
  },
  {
   "cell_type": "code",
   "execution_count": 26,
   "id": "edef108f",
   "metadata": {},
   "outputs": [
    {
     "data": {
      "text/plain": [
       "dict_values(['Şevval', 'Bolat', 215454877874, 'Kahramanmaraş', {'email': 'merhaba@gmail.com', 'tel_no': 2589630211}])"
      ]
     },
     "execution_count": 26,
     "metadata": {},
     "output_type": "execute_result"
    }
   ],
   "source": [
    "kimlik.values()"
   ]
  },
  {
   "cell_type": "code",
   "execution_count": 27,
   "id": "5d818d4d",
   "metadata": {},
   "outputs": [
    {
     "data": {
      "text/plain": [
       "dict_items([('isim', 'Şevval'), ('soyisim', 'Bolat'), ('tc_no', 215454877874), ('şehir', 'Kahramanmaraş'), ('bilgiler', {'email': 'merhaba@gmail.com', 'tel_no': 2589630211})])"
      ]
     },
     "execution_count": 27,
     "metadata": {},
     "output_type": "execute_result"
    }
   ],
   "source": [
    "kimlik.items()"
   ]
  },
  {
   "cell_type": "code",
   "execution_count": 28,
   "id": "60de7b81",
   "metadata": {},
   "outputs": [
    {
     "data": {
      "text/plain": [
       "215454877874"
      ]
     },
     "execution_count": 28,
     "metadata": {},
     "output_type": "execute_result"
    }
   ],
   "source": [
    "kimlik.get(\"tc_no\")"
   ]
  },
  {
   "cell_type": "code",
   "execution_count": 29,
   "id": "7f1ce6f3",
   "metadata": {},
   "outputs": [],
   "source": [
    "kimlik.update({\"anne_isim\" : \"Fadime\"})"
   ]
  },
  {
   "cell_type": "code",
   "execution_count": 30,
   "id": "09140b08",
   "metadata": {},
   "outputs": [
    {
     "data": {
      "text/plain": [
       "{'isim': 'Şevval',\n",
       " 'soyisim': 'Bolat',\n",
       " 'tc_no': 215454877874,\n",
       " 'şehir': 'Kahramanmaraş',\n",
       " 'bilgiler': {'email': 'merhaba@gmail.com', 'tel_no': 2589630211},\n",
       " 'anne_isim': 'Fadime'}"
      ]
     },
     "execution_count": 30,
     "metadata": {},
     "output_type": "execute_result"
    }
   ],
   "source": [
    "kimlik"
   ]
  },
  {
   "cell_type": "code",
   "execution_count": 31,
   "id": "b090283e",
   "metadata": {},
   "outputs": [
    {
     "data": {
      "text/plain": [
       "{'isim': 'Şevval',\n",
       " 'soyisim': 'Bolat',\n",
       " 'tc_no': 215454877874,\n",
       " 'şehir': 'Kahramanmaraş',\n",
       " 'bilgiler': {'email': 'merhaba@gmail.com', 'tel_no': 2589630211},\n",
       " 'anne_isim': 'Fadime'}"
      ]
     },
     "execution_count": 31,
     "metadata": {},
     "output_type": "execute_result"
    }
   ],
   "source": [
    "kimlik.copy()\n",
    "kimlik"
   ]
  },
  {
   "cell_type": "code",
   "execution_count": 32,
   "id": "f3a7dde8",
   "metadata": {},
   "outputs": [
    {
     "data": {
      "text/plain": [
       "'Şevval'"
      ]
     },
     "execution_count": 32,
     "metadata": {},
     "output_type": "execute_result"
    }
   ],
   "source": [
    "kimlik.pop(\"isim\")"
   ]
  },
  {
   "cell_type": "code",
   "execution_count": 33,
   "id": "17f036aa",
   "metadata": {},
   "outputs": [
    {
     "data": {
      "text/plain": [
       "{'soyisim': 'Bolat',\n",
       " 'tc_no': 215454877874,\n",
       " 'şehir': 'Kahramanmaraş',\n",
       " 'bilgiler': {'email': 'merhaba@gmail.com', 'tel_no': 2589630211},\n",
       " 'anne_isim': 'Fadime'}"
      ]
     },
     "execution_count": 33,
     "metadata": {},
     "output_type": "execute_result"
    }
   ],
   "source": [
    "kimlik"
   ]
  },
  {
   "cell_type": "code",
   "execution_count": 35,
   "id": "fe72e755",
   "metadata": {},
   "outputs": [],
   "source": [
    "kimlik.clear()"
   ]
  },
  {
   "cell_type": "code",
   "execution_count": 36,
   "id": "9e8e3664",
   "metadata": {},
   "outputs": [
    {
     "data": {
      "text/plain": [
       "{}"
      ]
     },
     "execution_count": 36,
     "metadata": {},
     "output_type": "execute_result"
    }
   ],
   "source": [
    "kimlik"
   ]
  },
  {
   "cell_type": "markdown",
   "id": "b271684f",
   "metadata": {},
   "source": [
    "# Demetler(tuple)"
   ]
  },
  {
   "cell_type": "code",
   "execution_count": 37,
   "id": "a3f9ad54",
   "metadata": {},
   "outputs": [
    {
     "data": {
      "text/plain": [
       "('ben', 'sen', 'o', 'biz', 'siz', 'onlar')"
      ]
     },
     "execution_count": 37,
     "metadata": {},
     "output_type": "execute_result"
    }
   ],
   "source": [
    "zamirler = (\"ben\", \"sen\",\"o\",\"biz\",\"siz\",\"onlar\")\n",
    "zamirler"
   ]
  },
  {
   "cell_type": "code",
   "execution_count": 38,
   "id": "28132f99",
   "metadata": {},
   "outputs": [
    {
     "data": {
      "text/plain": [
       "'ben'"
      ]
     },
     "execution_count": 38,
     "metadata": {},
     "output_type": "execute_result"
    }
   ],
   "source": [
    "zamirler[0]"
   ]
  },
  {
   "cell_type": "code",
   "execution_count": 39,
   "id": "26b2e427",
   "metadata": {},
   "outputs": [
    {
     "data": {
      "text/plain": [
       "(1, 2, 3, 4, 5, 6, 7, 7, 7, 7)"
      ]
     },
     "execution_count": 39,
     "metadata": {},
     "output_type": "execute_result"
    }
   ],
   "source": [
    "sayilar = (1,2,3,4,5,6,7,7,7,7)\n",
    "sayilar"
   ]
  },
  {
   "cell_type": "code",
   "execution_count": 40,
   "id": "0fca1dd7",
   "metadata": {},
   "outputs": [
    {
     "data": {
      "text/plain": [
       "('ben', 'sen', 'o', 'biz', 'siz', 'onlar', 1, 2, 3, 4, 5, 6, 7, 7, 7, 7)"
      ]
     },
     "execution_count": 40,
     "metadata": {},
     "output_type": "execute_result"
    }
   ],
   "source": [
    "zamirler + sayilar"
   ]
  },
  {
   "cell_type": "code",
   "execution_count": 41,
   "id": "b8b406f8",
   "metadata": {},
   "outputs": [
    {
     "data": {
      "text/plain": [
       "4"
      ]
     },
     "execution_count": 41,
     "metadata": {},
     "output_type": "execute_result"
    }
   ],
   "source": [
    "sayilar.count(7)"
   ]
  },
  {
   "cell_type": "code",
   "execution_count": 42,
   "id": "f9022a5d",
   "metadata": {},
   "outputs": [
    {
     "data": {
      "text/plain": [
       "3"
      ]
     },
     "execution_count": 42,
     "metadata": {},
     "output_type": "execute_result"
    }
   ],
   "source": [
    "sayilar.index(4)"
   ]
  },
  {
   "cell_type": "markdown",
   "id": "1b3ad23e",
   "metadata": {},
   "source": [
    "# Kümeler(sets)"
   ]
  },
  {
   "cell_type": "code",
   "execution_count": 64,
   "id": "82f1a4ff",
   "metadata": {},
   "outputs": [],
   "source": [
    "sayilar = {64,52,63,1,12,45,7,8,9,9,9,9,52}"
   ]
  },
  {
   "cell_type": "code",
   "execution_count": 65,
   "id": "5ecc9d9c",
   "metadata": {},
   "outputs": [
    {
     "data": {
      "text/plain": [
       "{1, 7, 8, 9, 12, 45, 52, 63, 64}"
      ]
     },
     "execution_count": 65,
     "metadata": {},
     "output_type": "execute_result"
    }
   ],
   "source": [
    "sayilar"
   ]
  },
  {
   "cell_type": "code",
   "execution_count": 66,
   "id": "e7e312cd",
   "metadata": {},
   "outputs": [],
   "source": [
    "sayilar.add(100)"
   ]
  },
  {
   "cell_type": "code",
   "execution_count": 67,
   "id": "b9b4c9ff",
   "metadata": {},
   "outputs": [
    {
     "data": {
      "text/plain": [
       "{1, 7, 8, 9, 12, 45, 52, 63, 64, 100}"
      ]
     },
     "execution_count": 67,
     "metadata": {},
     "output_type": "execute_result"
    }
   ],
   "source": [
    "sayilar"
   ]
  },
  {
   "cell_type": "code",
   "execution_count": 68,
   "id": "b1a31559",
   "metadata": {},
   "outputs": [
    {
     "data": {
      "text/plain": [
       "{1, 7, 8, 9, 12, 52, 63, 64, 100}"
      ]
     },
     "execution_count": 68,
     "metadata": {},
     "output_type": "execute_result"
    }
   ],
   "source": [
    "sayilar.discard(45)\n",
    "sayilar"
   ]
  },
  {
   "cell_type": "code",
   "execution_count": 69,
   "id": "3fe218ea",
   "metadata": {},
   "outputs": [
    {
     "data": {
      "text/plain": [
       "{1, 7, 8, 9, 52, 63, 64, 100}"
      ]
     },
     "execution_count": 69,
     "metadata": {},
     "output_type": "execute_result"
    }
   ],
   "source": [
    "sayilar.remove(12)\n",
    "sayilar"
   ]
  },
  {
   "cell_type": "code",
   "execution_count": 70,
   "id": "4f76fb8a",
   "metadata": {},
   "outputs": [],
   "source": [
    "yeni = {164,152,163,11,112,145,17,18,19,19,19,19,152}\n",
    "sayilar.update(yeni)"
   ]
  },
  {
   "cell_type": "code",
   "execution_count": 71,
   "id": "56964bf5",
   "metadata": {},
   "outputs": [
    {
     "data": {
      "text/plain": [
       "{1, 7, 8, 9, 11, 17, 18, 19, 52, 63, 64, 100, 112, 145, 152, 163, 164}"
      ]
     },
     "execution_count": 71,
     "metadata": {},
     "output_type": "execute_result"
    }
   ],
   "source": [
    "sayilar"
   ]
  },
  {
   "cell_type": "code",
   "execution_count": 73,
   "id": "b3738dd6",
   "metadata": {},
   "outputs": [
    {
     "data": {
      "text/plain": [
       "{1, 2, 3}"
      ]
     },
     "execution_count": 73,
     "metadata": {},
     "output_type": "execute_result"
    }
   ],
   "source": [
    "a = {1,2,3,4,5,6}\n",
    "b = {4,5,6,7,8,9}\n",
    "a.difference(b)"
   ]
  },
  {
   "cell_type": "code",
   "execution_count": 74,
   "id": "7e287dbd",
   "metadata": {},
   "outputs": [
    {
     "data": {
      "text/plain": [
       "{7, 8, 9}"
      ]
     },
     "execution_count": 74,
     "metadata": {},
     "output_type": "execute_result"
    }
   ],
   "source": [
    "b.difference(a)"
   ]
  },
  {
   "cell_type": "code",
   "execution_count": 76,
   "id": "6eb01927",
   "metadata": {},
   "outputs": [
    {
     "data": {
      "text/plain": [
       "{4, 5, 6}"
      ]
     },
     "execution_count": 76,
     "metadata": {},
     "output_type": "execute_result"
    }
   ],
   "source": [
    "a.intersection(b)"
   ]
  },
  {
   "cell_type": "code",
   "execution_count": 77,
   "id": "f38ed976",
   "metadata": {},
   "outputs": [
    {
     "data": {
      "text/plain": [
       "{1, 2, 3, 4, 5, 6, 7, 8, 9}"
      ]
     },
     "execution_count": 77,
     "metadata": {},
     "output_type": "execute_result"
    }
   ],
   "source": [
    "a.union(b)"
   ]
  },
  {
   "cell_type": "code",
   "execution_count": 78,
   "id": "779251fd",
   "metadata": {},
   "outputs": [
    {
     "data": {
      "text/plain": [
       "12"
      ]
     },
     "execution_count": 78,
     "metadata": {},
     "output_type": "execute_result"
    }
   ],
   "source": [
    "len(a)+len(b)"
   ]
  },
  {
   "cell_type": "code",
   "execution_count": 80,
   "id": "4a51b887",
   "metadata": {},
   "outputs": [
    {
     "data": {
      "text/plain": [
       "float"
      ]
     },
     "execution_count": 80,
     "metadata": {},
     "output_type": "execute_result"
    }
   ],
   "source": [
    "a = 4.5\n",
    "type(a)"
   ]
  },
  {
   "cell_type": "code",
   "execution_count": 81,
   "id": "43d8f23f",
   "metadata": {},
   "outputs": [
    {
     "data": {
      "text/plain": [
       "'4.5'"
      ]
     },
     "execution_count": 81,
     "metadata": {},
     "output_type": "execute_result"
    }
   ],
   "source": [
    "str(a)"
   ]
  },
  {
   "cell_type": "code",
   "execution_count": 84,
   "id": "336384dc",
   "metadata": {},
   "outputs": [
    {
     "data": {
      "text/plain": [
       "'8'"
      ]
     },
     "execution_count": 84,
     "metadata": {},
     "output_type": "execute_result"
    }
   ],
   "source": [
    "b = \"8\"\n",
    "b"
   ]
  },
  {
   "cell_type": "code",
   "execution_count": 85,
   "id": "c1236dbe",
   "metadata": {},
   "outputs": [
    {
     "data": {
      "text/plain": [
       "str"
      ]
     },
     "execution_count": 85,
     "metadata": {},
     "output_type": "execute_result"
    }
   ],
   "source": [
    "type(b)"
   ]
  },
  {
   "cell_type": "code",
   "execution_count": 86,
   "id": "0be896f0",
   "metadata": {},
   "outputs": [
    {
     "data": {
      "text/plain": [
       "8"
      ]
     },
     "execution_count": 86,
     "metadata": {},
     "output_type": "execute_result"
    }
   ],
   "source": [
    "int(b)"
   ]
  },
  {
   "cell_type": "code",
   "execution_count": 89,
   "id": "4fae3588",
   "metadata": {},
   "outputs": [
    {
     "data": {
      "text/plain": [
       "(1, 5, 8, 5, 7, 4, 3, 6)"
      ]
     },
     "execution_count": 89,
     "metadata": {},
     "output_type": "execute_result"
    }
   ],
   "source": [
    "x = [1,5,8,5,7,4,3,6]\n",
    "tuple(x)"
   ]
  },
  {
   "cell_type": "code",
   "execution_count": 92,
   "id": "e27056ae",
   "metadata": {},
   "outputs": [
    {
     "data": {
      "text/plain": [
       "{1, 3, 4, 5, 6, 7, 8}"
      ]
     },
     "execution_count": 92,
     "metadata": {},
     "output_type": "execute_result"
    }
   ],
   "source": [
    "set(x)"
   ]
  },
  {
   "cell_type": "code",
   "execution_count": 96,
   "id": "06993ec9",
   "metadata": {},
   "outputs": [
    {
     "data": {
      "text/plain": [
       "{'a': 4, 'b': 7}"
      ]
     },
     "execution_count": 96,
     "metadata": {},
     "output_type": "execute_result"
    }
   ],
   "source": [
    "dict(a = 4, b = 7)"
   ]
  },
  {
   "cell_type": "code",
   "execution_count": 98,
   "id": "1c238732",
   "metadata": {},
   "outputs": [
    {
     "data": {
      "text/plain": [
       "[4, 8, 9, 3, 2, 5, 9, 4, 1]"
      ]
     },
     "execution_count": 98,
     "metadata": {},
     "output_type": "execute_result"
    }
   ],
   "source": [
    "z = (4,8,9,3,2,5,9,4,1)\n",
    "list(z)"
   ]
  },
  {
   "cell_type": "markdown",
   "id": "7d80e52b",
   "metadata": {},
   "source": [
    "# Mantıksal Operatörler"
   ]
  },
  {
   "cell_type": "code",
   "execution_count": 99,
   "id": "8c71d83a",
   "metadata": {},
   "outputs": [
    {
     "data": {
      "text/plain": [
       "True"
      ]
     },
     "execution_count": 99,
     "metadata": {},
     "output_type": "execute_result"
    }
   ],
   "source": [
    "4>5 or 6>2"
   ]
  },
  {
   "cell_type": "code",
   "execution_count": 100,
   "id": "727e5021",
   "metadata": {},
   "outputs": [
    {
     "data": {
      "text/plain": [
       "True"
      ]
     },
     "execution_count": 100,
     "metadata": {},
     "output_type": "execute_result"
    }
   ],
   "source": [
    "8>7 and 3<6"
   ]
  },
  {
   "cell_type": "code",
   "execution_count": 101,
   "id": "d0e8df7a",
   "metadata": {},
   "outputs": [
    {
     "data": {
      "text/plain": [
       "True"
      ]
     },
     "execution_count": 101,
     "metadata": {},
     "output_type": "execute_result"
    }
   ],
   "source": [
    "not 4==5"
   ]
  },
  {
   "cell_type": "markdown",
   "id": "90bc8a83",
   "metadata": {},
   "source": [
    "# If koşul"
   ]
  },
  {
   "cell_type": "code",
   "execution_count": 105,
   "id": "f193f22c",
   "metadata": {},
   "outputs": [
    {
     "name": "stdout",
     "output_type": "stream",
     "text": [
      "Kullanıcı adınızı giriniz:sevvalblt\n",
      "Şifrenizi giriniz: 12345\n",
      "Sisteme girdiniz\n"
     ]
    }
   ],
   "source": [
    "kullanici_adi = \"sevvalblt\"\n",
    "kullanici_sifre = \"12345\"\n",
    "\n",
    "ad = input(\"Kullanıcı adınızı giriniz:\")\n",
    "sifre = input(\"Şifrenizi giriniz: \")\n",
    "\n",
    "if kullanici_adi == ad and kullanici_sifre == sifre:\n",
    "    print(\"Sisteme girdiniz\")\n",
    "elif (kullanici_adi == ad and kullanici_sifre != sifre):\n",
    "    print(\"Şifreniz yanlış\")\n",
    "elif (kullanici_adi != ad and kullanici_sifre == sifre):\n",
    "    print(\"Kullanıcı adınız yanlış\")\n",
    "else:\n",
    "    print(\"Kullanıcı adınız ve şifreniz yanlış\")"
   ]
  },
  {
   "cell_type": "code",
   "execution_count": 13,
   "id": "62162aad",
   "metadata": {},
   "outputs": [
    {
     "name": "stdout",
     "output_type": "stream",
     "text": [
      "Notunuzu giriniz: 85\n",
      "notunuz BB\n"
     ]
    }
   ],
   "source": [
    "notunuz = int(input(\"Notunuzu giriniz: \"))\n",
    "if notunuz >= 90 and notunuz < 100 :\n",
    "    print(\"notunuz : AA\")\n",
    "elif notunuz >= 70 and notunuz < 90:\n",
    "    print(\"notunuz BB\")\n",
    "elif notunuz >= 50 and notunuz < 70:\n",
    "    print(\"notunuz CC\")\n",
    "else:\n",
    "    print(\"FF kaldınız\")"
   ]
  },
  {
   "cell_type": "code",
   "execution_count": 14,
   "id": "1d89507c",
   "metadata": {},
   "outputs": [
    {
     "name": "stdout",
     "output_type": "stream",
     "text": [
      "doğru\n"
     ]
    }
   ],
   "source": [
    "if 5 > 3: print(\"doğru\")"
   ]
  },
  {
   "cell_type": "code",
   "execution_count": 26,
   "id": "4798346b",
   "metadata": {},
   "outputs": [
    {
     "name": "stdout",
     "output_type": "stream",
     "text": [
      "yanlış\n"
     ]
    }
   ],
   "source": [
    "if 1>3 :\n",
    "    print(\"doğru\")\n",
    "else: \n",
    "    print(\"yanlış\")"
   ]
  },
  {
   "cell_type": "code",
   "execution_count": 29,
   "id": "22f4575c",
   "metadata": {},
   "outputs": [
    {
     "name": "stdout",
     "output_type": "stream",
     "text": [
      "sayınızı giriniz: -2\n",
      "sayi negatiftir\n"
     ]
    }
   ],
   "source": [
    "sayi = int(input(\"sayınızı giriniz: \"))\n",
    "if sayi >= 0:\n",
    "    if sayi == 0:\n",
    "        print(\"sayı sıfırdır\")\n",
    "    else:\n",
    "        print(\"sayı pozitiftir\")\n",
    "else:\n",
    "    print(\"sayi negatiftir\")"
   ]
  },
  {
   "cell_type": "code",
   "execution_count": 13,
   "id": "16cd8e3a",
   "metadata": {},
   "outputs": [
    {
     "name": "stdout",
     "output_type": "stream",
     "text": [
      "sayı :  0\n",
      "sayı :  1\n",
      "sayı :  2\n",
      "sayı :  3\n",
      "sayı :  4\n",
      "sayı :  5\n",
      "sayı :  6\n",
      "sayı :  7\n",
      "sayı :  8\n",
      "sayı :  9\n",
      "sayimiz 10dan büyük\n"
     ]
    }
   ],
   "source": [
    "x = 0\n",
    "while x < 10:\n",
    "    print(\"sayı : \",x)\n",
    "    x += 1 \n",
    "else:\n",
    "    print(\"sayimiz 10dan büyük\")"
   ]
  },
  {
   "cell_type": "code",
   "execution_count": 14,
   "id": "44068032",
   "metadata": {},
   "outputs": [
    {
     "name": "stdout",
     "output_type": "stream",
     "text": [
      "sayı :  0\n",
      "sayı :  1\n",
      "sayı :  2\n",
      "sayı :  3\n",
      "sayı :  4\n",
      "sayı :  5\n"
     ]
    }
   ],
   "source": [
    "x = 0\n",
    "while x < 10:\n",
    "    print(\"sayı : \",x)\n",
    "    if x == 5:\n",
    "        break\n",
    "    x += 1 \n",
    "else:\n",
    "    print(\"sayimiz 10dan büyük\")"
   ]
  },
  {
   "cell_type": "code",
   "execution_count": 16,
   "id": "1d84dbcb",
   "metadata": {},
   "outputs": [
    {
     "name": "stdout",
     "output_type": "stream",
     "text": [
      "sayı :  0\n",
      "sayı :  1\n",
      "sayı :  2\n",
      "sayı :  3\n",
      "sayı :  4\n",
      "sayı :  5\n",
      "sayı :  6\n",
      "sayı :  7\n",
      "sayı :  8\n",
      "sayı :  9\n",
      "sayimiz 10dan büyük\n"
     ]
    }
   ],
   "source": [
    "x = 0\n",
    "while x < 10:\n",
    "    print(\"sayı : \",x)\n",
    "    x += 1\n",
    "    if x == 5:\n",
    "        continue \n",
    "else:\n",
    "    print(\"sayimiz 10dan büyük\")"
   ]
  },
  {
   "cell_type": "markdown",
   "id": "87f22a24",
   "metadata": {},
   "source": [
    "# For"
   ]
  },
  {
   "cell_type": "code",
   "execution_count": 17,
   "id": "8deaff43",
   "metadata": {},
   "outputs": [],
   "source": [
    "sayilar = [1,2,3,4,5,6,7,8,9,10,11,12,13,14,15]"
   ]
  },
  {
   "cell_type": "code",
   "execution_count": 19,
   "id": "32643e90",
   "metadata": {},
   "outputs": [
    {
     "data": {
      "text/plain": [
       "True"
      ]
     },
     "execution_count": 19,
     "metadata": {},
     "output_type": "execute_result"
    }
   ],
   "source": [
    "10 in sayilar"
   ]
  },
  {
   "cell_type": "code",
   "execution_count": 20,
   "id": "3c351732",
   "metadata": {},
   "outputs": [
    {
     "name": "stdout",
     "output_type": "stream",
     "text": [
      "sayılarımız :  1\n",
      "sayılarımız :  2\n",
      "sayılarımız :  3\n",
      "sayılarımız :  4\n",
      "sayılarımız :  5\n",
      "sayılarımız :  6\n",
      "sayılarımız :  7\n",
      "sayılarımız :  8\n",
      "sayılarımız :  9\n",
      "sayılarımız :  10\n",
      "sayılarımız :  11\n",
      "sayılarımız :  12\n",
      "sayılarımız :  13\n",
      "sayılarımız :  14\n",
      "sayılarımız :  15\n"
     ]
    }
   ],
   "source": [
    "for sayi in sayilar:\n",
    "    print(\"sayılarımız : \",sayi)"
   ]
  },
  {
   "cell_type": "code",
   "execution_count": 21,
   "id": "c6ec3dee",
   "metadata": {},
   "outputs": [
    {
     "name": "stdout",
     "output_type": "stream",
     "text": [
      "sayılar :  1\n",
      "sayılar :  2\n",
      "sayılar :  3\n",
      "sayılar :  4\n",
      "sayılar :  5\n",
      "sayılar :  6\n",
      "sayılar :  7\n",
      "sayılar :  8\n",
      "sayılar :  9\n",
      "sayılar :  10\n"
     ]
    }
   ],
   "source": [
    "for sayi in sayilar:\n",
    "    print(\"sayılar : \", sayi)\n",
    "    if sayi == 10:\n",
    "        break"
   ]
  },
  {
   "cell_type": "code",
   "execution_count": 35,
   "id": "0986ca2c",
   "metadata": {},
   "outputs": [
    {
     "name": "stdout",
     "output_type": "stream",
     "text": [
      "sayılarımız : 1\n",
      "sayılarımız : 2\n",
      "sayılarımız : 3\n",
      "sayılarımız : 4\n",
      "sayılarımız : 5\n",
      "sayılarımız : 6\n",
      "sayılarımız : 7\n",
      "sayılarımız : 8\n",
      "sayılarımız : 9\n",
      "sayılarımız : 10\n",
      "sayılarımız : 12\n",
      "sayılarımız : 13\n",
      "sayılarımız : 14\n",
      "sayılarımız : 15\n",
      "döngü bitti\n"
     ]
    }
   ],
   "source": [
    "for sayi in sayilar:\n",
    "    if sayi == 11:\n",
    "        continue\n",
    "    print(\"sayılarımız :\",sayi)\n",
    "else:\n",
    "    print(\"döngü bitti\")"
   ]
  },
  {
   "cell_type": "code",
   "execution_count": 36,
   "id": "6c557147",
   "metadata": {},
   "outputs": [],
   "source": [
    "yeni = [1,2,3]"
   ]
  },
  {
   "cell_type": "code",
   "execution_count": 38,
   "id": "1b263e01",
   "metadata": {},
   "outputs": [
    {
     "name": "stdout",
     "output_type": "stream",
     "text": [
      "sayilar 1\n",
      "sayilar 2\n",
      "sayilar 3\n",
      "döngü bitti\n",
      "sayilar 1\n",
      "sayilar 2\n",
      "sayilar 3\n",
      "döngü bitti\n",
      "sayilar 1\n",
      "sayilar 2\n",
      "sayilar 3\n",
      "döngü bitti\n",
      "sayilar 1\n",
      "sayilar 2\n",
      "sayilar 3\n",
      "döngü bitti\n",
      "sayilar 1\n",
      "sayilar 2\n",
      "sayilar 3\n",
      "döngü bitti\n",
      "sayilar 1\n",
      "sayilar 2\n",
      "sayilar 3\n",
      "döngü bitti\n",
      "sayilar 1\n",
      "sayilar 2\n",
      "sayilar 3\n",
      "döngü bitti\n",
      "sayilar 1\n",
      "sayilar 2\n",
      "sayilar 3\n",
      "döngü bitti\n",
      "sayilar 1\n",
      "sayilar 2\n",
      "sayilar 3\n",
      "döngü bitti\n",
      "sayilar 1\n",
      "sayilar 2\n",
      "sayilar 3\n",
      "döngü bitti\n",
      "sayilar 1\n",
      "sayilar 2\n",
      "sayilar 3\n",
      "döngü bitti\n",
      "sayilar 1\n",
      "sayilar 2\n",
      "sayilar 3\n",
      "döngü bitti\n",
      "sayilar 1\n",
      "sayilar 2\n",
      "sayilar 3\n",
      "döngü bitti\n",
      "sayilar 1\n",
      "sayilar 2\n",
      "sayilar 3\n",
      "döngü bitti\n",
      "sayilar 1\n",
      "sayilar 2\n",
      "sayilar 3\n",
      "döngü bitti\n"
     ]
    }
   ],
   "source": [
    "for sayi in sayilar:\n",
    "    for x in yeni:\n",
    "        print(\"sayilar\",x)\n",
    "    else:\n",
    "        print(\"döngü bitti\")"
   ]
  },
  {
   "cell_type": "code",
   "execution_count": 40,
   "id": "59cbb4f5",
   "metadata": {},
   "outputs": [
    {
     "name": "stdout",
     "output_type": "stream",
     "text": [
      "1\n",
      "2\n",
      "3\n",
      "4\n",
      "5\n",
      "6\n",
      "7\n",
      "8\n",
      "9\n"
     ]
    }
   ],
   "source": [
    "for i in range(1,10):\n",
    "    print(i)"
   ]
  },
  {
   "cell_type": "code",
   "execution_count": 41,
   "id": "a657d96e",
   "metadata": {},
   "outputs": [
    {
     "name": "stdout",
     "output_type": "stream",
     "text": [
      "2000\n",
      "4000\n",
      "6000\n",
      "8000\n"
     ]
    }
   ],
   "source": [
    "gelirler = [1000,2000,3000,4000]\n",
    "for gelir in gelirler:\n",
    "    print(gelir * 2)"
   ]
  },
  {
   "cell_type": "code",
   "execution_count": 42,
   "id": "e800b5c8",
   "metadata": {},
   "outputs": [],
   "source": [
    "def kare_al(x):\n",
    "    print(x**2)"
   ]
  },
  {
   "cell_type": "code",
   "execution_count": 43,
   "id": "ea41923c",
   "metadata": {},
   "outputs": [
    {
     "name": "stdout",
     "output_type": "stream",
     "text": [
      "25\n"
     ]
    }
   ],
   "source": [
    "kare_al(5)"
   ]
  },
  {
   "cell_type": "code",
   "execution_count": 44,
   "id": "3a3309d3",
   "metadata": {},
   "outputs": [
    {
     "name": "stdout",
     "output_type": "stream",
     "text": [
      "100\n"
     ]
    }
   ],
   "source": [
    "kare_al(10)"
   ]
  },
  {
   "cell_type": "code",
   "execution_count": 47,
   "id": "f344241b",
   "metadata": {},
   "outputs": [
    {
     "name": "stdout",
     "output_type": "stream",
     "text": [
      "64\n"
     ]
    }
   ],
   "source": [
    "def kup_al(x):\n",
    "    print(x**3)\n",
    "kup_al(4)"
   ]
  },
  {
   "cell_type": "code",
   "execution_count": 48,
   "id": "60f4b46e",
   "metadata": {},
   "outputs": [
    {
     "name": "stdout",
     "output_type": "stream",
     "text": [
      "12.56\n"
     ]
    }
   ],
   "source": [
    "def alan(pi,r):\n",
    "    print(pi*r**2)\n",
    "alan(3.14,2)"
   ]
  },
  {
   "cell_type": "code",
   "execution_count": 49,
   "id": "1f69ef3b",
   "metadata": {},
   "outputs": [
    {
     "name": "stdout",
     "output_type": "stream",
     "text": [
      "Şevval-Bolat\n"
     ]
    }
   ],
   "source": [
    "print(\"Şevval\",\"Bolat\",sep=\"-\")"
   ]
  },
  {
   "cell_type": "code",
   "execution_count": 50,
   "id": "dcbafd5a",
   "metadata": {},
   "outputs": [
    {
     "name": "stdout",
     "output_type": "stream",
     "text": [
      "Şevval Bolat*"
     ]
    }
   ],
   "source": [
    "print(\"Şevval\",\"Bolat\",end = \"*\")"
   ]
  },
  {
   "cell_type": "code",
   "execution_count": 51,
   "id": "19d00d8a",
   "metadata": {},
   "outputs": [],
   "source": [
    "def alan(pi,r):\n",
    "    return pi*r**2"
   ]
  },
  {
   "cell_type": "code",
   "execution_count": 53,
   "id": "005d1552",
   "metadata": {},
   "outputs": [
    {
     "data": {
      "text/plain": [
       "314.0"
      ]
     },
     "execution_count": 53,
     "metadata": {},
     "output_type": "execute_result"
    }
   ],
   "source": [
    "alan1 = alan(3.14,6)\n",
    "alan2 = alan(3.14,8)\n",
    "alan1 + alan2"
   ]
  },
  {
   "cell_type": "code",
   "execution_count": 54,
   "id": "99622895",
   "metadata": {},
   "outputs": [],
   "source": [
    "def sayi(x):\n",
    "    if x % 2 == 0:\n",
    "        return \"çift\"\n",
    "    else:\n",
    "        return \"tek\""
   ]
  },
  {
   "cell_type": "code",
   "execution_count": 56,
   "id": "4b740576",
   "metadata": {},
   "outputs": [
    {
     "data": {
      "text/plain": [
       "'çift'"
      ]
     },
     "execution_count": 56,
     "metadata": {},
     "output_type": "execute_result"
    }
   ],
   "source": [
    "sayi(8)"
   ]
  },
  {
   "cell_type": "code",
   "execution_count": 55,
   "id": "73c94fbb",
   "metadata": {},
   "outputs": [
    {
     "data": {
      "text/plain": [
       "'tek'"
      ]
     },
     "execution_count": 55,
     "metadata": {},
     "output_type": "execute_result"
    }
   ],
   "source": [
    "sayi(5)"
   ]
  },
  {
   "cell_type": "code",
   "execution_count": 71,
   "id": "029d36f7",
   "metadata": {},
   "outputs": [],
   "source": [
    "def kimlik(isim = \"boş\",soyisim = \"boş\",yas = \"boş\",tc= \"boş\"):\n",
    "    print(\"isim:\",isim,\"soyisim:\",soyisim,\"yaş:\",yas,\"tc:\",tc)"
   ]
  },
  {
   "cell_type": "code",
   "execution_count": 72,
   "id": "2ef48239",
   "metadata": {},
   "outputs": [
    {
     "name": "stdout",
     "output_type": "stream",
     "text": [
      "isim: Şevval soyisim: Bolat yaş: 21 tc: boş\n"
     ]
    }
   ],
   "source": [
    "kimlik(\"Şevval\",\"Bolat\",21)"
   ]
  },
  {
   "cell_type": "markdown",
   "id": "ed4b2267",
   "metadata": {},
   "source": [
    "# OOP Nesne Tabanlı Programlama"
   ]
  },
  {
   "cell_type": "code",
   "execution_count": 1,
   "id": "01f017ea",
   "metadata": {},
   "outputs": [],
   "source": [
    "class Ogrenci:\n",
    "    isim = \"Şevval\"\n",
    "    soyisim = \"Bolat\"\n",
    "    yas = 21\n",
    "    not_ort = 85"
   ]
  },
  {
   "cell_type": "code",
   "execution_count": 2,
   "id": "69782372",
   "metadata": {},
   "outputs": [],
   "source": [
    "bir = Ogrenci()"
   ]
  },
  {
   "cell_type": "code",
   "execution_count": 3,
   "id": "873de071",
   "metadata": {},
   "outputs": [
    {
     "data": {
      "text/plain": [
       "'Şevval'"
      ]
     },
     "execution_count": 3,
     "metadata": {},
     "output_type": "execute_result"
    }
   ],
   "source": [
    "bir.isim"
   ]
  },
  {
   "cell_type": "code",
   "execution_count": 4,
   "id": "bf668af7",
   "metadata": {},
   "outputs": [
    {
     "data": {
      "text/plain": [
       "'Bolat'"
      ]
     },
     "execution_count": 4,
     "metadata": {},
     "output_type": "execute_result"
    }
   ],
   "source": [
    "bir.soyisim"
   ]
  },
  {
   "cell_type": "code",
   "execution_count": 5,
   "id": "1b0b5ff4",
   "metadata": {},
   "outputs": [
    {
     "data": {
      "text/plain": [
       "21"
      ]
     },
     "execution_count": 5,
     "metadata": {},
     "output_type": "execute_result"
    }
   ],
   "source": [
    "bir.yas"
   ]
  },
  {
   "cell_type": "code",
   "execution_count": 6,
   "id": "628b4555",
   "metadata": {},
   "outputs": [
    {
     "data": {
      "text/plain": [
       "85"
      ]
     },
     "execution_count": 6,
     "metadata": {},
     "output_type": "execute_result"
    }
   ],
   "source": [
    "bir.not_ort"
   ]
  },
  {
   "cell_type": "code",
   "execution_count": 10,
   "id": "a1cd33c9",
   "metadata": {},
   "outputs": [],
   "source": [
    "class Ogrenci:\n",
    "    def __init__(self,isim,soyisim,yas,not_ort):\n",
    "        self.isim = isim\n",
    "        self.soyisim = soyisim\n",
    "        self.yas = yas\n",
    "        self.not_ort = not_ort"
   ]
  },
  {
   "cell_type": "code",
   "execution_count": 11,
   "id": "6e1b3932",
   "metadata": {},
   "outputs": [],
   "source": [
    "bir = Ogrenci(\"Şevval\",\"Bolat\",21,85)"
   ]
  },
  {
   "cell_type": "code",
   "execution_count": 12,
   "id": "21f442f4",
   "metadata": {},
   "outputs": [
    {
     "data": {
      "text/plain": [
       "'Şevval'"
      ]
     },
     "execution_count": 12,
     "metadata": {},
     "output_type": "execute_result"
    }
   ],
   "source": [
    "bir.isim"
   ]
  },
  {
   "cell_type": "code",
   "execution_count": 13,
   "id": "b01640a0",
   "metadata": {},
   "outputs": [],
   "source": [
    "iki = Ogrenci(\"Esma\",\"Bolat\",10,90)"
   ]
  },
  {
   "cell_type": "code",
   "execution_count": 14,
   "id": "5ab7d36c",
   "metadata": {},
   "outputs": [
    {
     "data": {
      "text/plain": [
       "10"
      ]
     },
     "execution_count": 14,
     "metadata": {},
     "output_type": "execute_result"
    }
   ],
   "source": [
    "iki.yas"
   ]
  },
  {
   "cell_type": "code",
   "execution_count": 4,
   "id": "dfd0af95",
   "metadata": {},
   "outputs": [],
   "source": [
    "class Ogrenci():\n",
    "    def __init__(self,isim,soyisim,yas,not_ort):\n",
    "        self.isim = isim\n",
    "        self.soyisim = soyisim\n",
    "        self.yas = yas\n",
    "        self.not_ort = not_ort\n",
    "    def info(self):\n",
    "        print(\"{} {} {} yaşında {} not ortalamasına sahip.\".format(self.isim,self.soyisim,self.yas,self.not_ort))"
   ]
  },
  {
   "cell_type": "code",
   "execution_count": 5,
   "id": "aaa2f03e",
   "metadata": {},
   "outputs": [],
   "source": [
    "bir = Ogrenci(\"Şevval\",\"Bolat\",21,89)"
   ]
  },
  {
   "cell_type": "code",
   "execution_count": 6,
   "id": "5ba43b3d",
   "metadata": {},
   "outputs": [
    {
     "name": "stdout",
     "output_type": "stream",
     "text": [
      "Şevval Bolat 21 yaşında 89 not ortalamasına sahip.\n"
     ]
    }
   ],
   "source": [
    "bir.info()"
   ]
  },
  {
   "cell_type": "code",
   "execution_count": 15,
   "id": "e0464b69",
   "metadata": {},
   "outputs": [],
   "source": [
    "class Ogretmen():\n",
    "    def __init__(self,isim,soyisim,yas,maas,brans):\n",
    "        self.isim = isim\n",
    "        self.soyisim = soyisim\n",
    "        self.yas = yas\n",
    "        self.maas = maas\n",
    "        self.brans = brans\n",
    "    def info(self):\n",
    "        print(\"{} {} {} yaşında {} maaşı olan bir {} öğretmenidir.\".format(self.isim,self.soyisim,self.yas,self.maas,self.brans))\n",
    "    def zam(self):\n",
    "        return self.maas * 1.3"
   ]
  },
  {
   "cell_type": "code",
   "execution_count": 16,
   "id": "4944abec",
   "metadata": {},
   "outputs": [],
   "source": [
    "ogretmen1 = Ogretmen(\"Şevval\",\"Bolat\",21,8000,\"Fizik\")"
   ]
  },
  {
   "cell_type": "code",
   "execution_count": 17,
   "id": "76e3a1e0",
   "metadata": {},
   "outputs": [
    {
     "name": "stdout",
     "output_type": "stream",
     "text": [
      "Şevval Bolat 21 yaşında 8000 maaşı olan bir Fizik öğretmenidir.\n"
     ]
    }
   ],
   "source": [
    "ogretmen1.info()"
   ]
  },
  {
   "cell_type": "code",
   "execution_count": 18,
   "id": "3714de9b",
   "metadata": {},
   "outputs": [
    {
     "data": {
      "text/plain": [
       "10400.0"
      ]
     },
     "execution_count": 18,
     "metadata": {},
     "output_type": "execute_result"
    }
   ],
   "source": [
    "ogretmen1.zam()"
   ]
  },
  {
   "cell_type": "code",
   "execution_count": 19,
   "id": "b7281f60",
   "metadata": {},
   "outputs": [],
   "source": [
    "class Ogretmen():\n",
    "    def __init__(self,isim,soyisim,yas,maas,brans):\n",
    "        self.isim = isim\n",
    "        self.soyisim = soyisim\n",
    "        self.yas = yas\n",
    "        self.maas = maas\n",
    "        self.brans = brans\n",
    "    def info(self):\n",
    "        print(\"{} {} {} yaşında {} maaşı olan bir {} öğretmenidir.\".format(self.isim,self.soyisim,self.yas,self.maas,self.brans))\n",
    "    def zam(self):\n",
    "        return self.maas * 1.3\n",
    "#fonksiyon\n",
    "def info(isim,soyisim,yas,maas,brans):\n",
    "    print(\"{} {} {} yaşında {} maaşı olan bir {} öğretmenidir.\".format(isim,soyisim,yas,maas,brans))"
   ]
  },
  {
   "cell_type": "code",
   "execution_count": 20,
   "id": "064acd82",
   "metadata": {},
   "outputs": [
    {
     "name": "stdout",
     "output_type": "stream",
     "text": [
      "Şevval Bolat 21 yaşında 4000 maaşı olan bir Fizik öğretmenidir.\n"
     ]
    }
   ],
   "source": [
    "info(\"Şevval\",\"Bolat\",21,4000,\"Fizik\")"
   ]
  },
  {
   "cell_type": "markdown",
   "id": "8a663ee6",
   "metadata": {},
   "source": [
    "# Encapsulation - Kapsülleme"
   ]
  },
  {
   "cell_type": "code",
   "execution_count": 32,
   "id": "352fec1f",
   "metadata": {},
   "outputs": [],
   "source": [
    "class Ogretmen():\n",
    "    def __init__(self,isim,soyisim,yas,maas,brans):\n",
    "        self.isim = isim\n",
    "        self.soyisim = soyisim\n",
    "        self.yas = yas\n",
    "        self.__maas = maas\n",
    "        self.brans = brans\n",
    "    def info(self):\n",
    "        print(\"{} {} {} yaşında {} maaşı olan bir {} öğretmenidir.\".format(self.isim,self.soyisim,self.yas,self.maas,self.brans))\n",
    "    def zam(self):\n",
    "        return self.maas * 1.3\n",
    "    def getMaas(self):\n",
    "        return self.__maas\n",
    "    def setMaas(self,yeniMaas):\n",
    "        self.__maas = yeniMaas"
   ]
  },
  {
   "cell_type": "code",
   "execution_count": 33,
   "id": "30d1b311",
   "metadata": {},
   "outputs": [],
   "source": [
    "sevval = Ogretmen(\"Şevval\",\"Bolat\",21,4000,\"Fizik\")"
   ]
  },
  {
   "cell_type": "code",
   "execution_count": 34,
   "id": "73b39d58",
   "metadata": {},
   "outputs": [
    {
     "data": {
      "text/plain": [
       "4000"
      ]
     },
     "execution_count": 34,
     "metadata": {},
     "output_type": "execute_result"
    }
   ],
   "source": [
    "sevval.getMaas()"
   ]
  },
  {
   "cell_type": "code",
   "execution_count": 35,
   "id": "a2666de5",
   "metadata": {},
   "outputs": [],
   "source": [
    "sevval.setMaas(7000)"
   ]
  },
  {
   "cell_type": "code",
   "execution_count": 36,
   "id": "313ac181",
   "metadata": {},
   "outputs": [
    {
     "data": {
      "text/plain": [
       "7000"
      ]
     },
     "execution_count": 36,
     "metadata": {},
     "output_type": "execute_result"
    }
   ],
   "source": [
    "sevval.getMaas()"
   ]
  },
  {
   "cell_type": "markdown",
   "id": "10ae1588",
   "metadata": {},
   "source": [
    "# Inheritance - Kalıtım"
   ]
  },
  {
   "cell_type": "code",
   "execution_count": 1,
   "id": "6e8d06d1",
   "metadata": {},
   "outputs": [],
   "source": [
    "class Okul:\n",
    "    def __init__(self,isim,soyisim,yas):\n",
    "        self.isim = isim\n",
    "        self.soyisim = soyisim \n",
    "        self.yas = yas\n",
    "        print(\"Okul sınıfı çalıştı\")"
   ]
  },
  {
   "cell_type": "code",
   "execution_count": 4,
   "id": "73a6e242",
   "metadata": {},
   "outputs": [
    {
     "name": "stdout",
     "output_type": "stream",
     "text": [
      "Okul sınıfı çalıştı\n"
     ]
    }
   ],
   "source": [
    "semih = Okul(\"Semih\",\"Göçer\",21)"
   ]
  },
  {
   "cell_type": "code",
   "execution_count": 7,
   "id": "da8ece4d",
   "metadata": {},
   "outputs": [
    {
     "data": {
      "text/plain": [
       "'Semih'"
      ]
     },
     "execution_count": 7,
     "metadata": {},
     "output_type": "execute_result"
    }
   ],
   "source": [
    "semih.isim"
   ]
  },
  {
   "cell_type": "code",
   "execution_count": 10,
   "id": "0ef345d9",
   "metadata": {},
   "outputs": [],
   "source": [
    "class Ogretmen(Okul):\n",
    "    def __init__(self,isim,soyisim,yas):\n",
    "        super().__init__(isim,soyisim,yas)\n",
    "        print(\"Ogretmen sınıfı çalıştı\")\n",
    "    def info(self):\n",
    "        print(\"{} {} {} yaşında bir öğretmendir.\".format(self.isim,self.soyisim,self,yas))"
   ]
  },
  {
   "cell_type": "code",
   "execution_count": 11,
   "id": "c75afc52",
   "metadata": {},
   "outputs": [
    {
     "name": "stdout",
     "output_type": "stream",
     "text": [
      "Okul sınıfı çalıştı\n",
      "Ogretmen sınıfı çalıştı\n"
     ]
    }
   ],
   "source": [
    "semih = Ogretmen(\"Semih\",\"Göçer\",21)"
   ]
  },
  {
   "cell_type": "code",
   "execution_count": 12,
   "id": "56af2105",
   "metadata": {},
   "outputs": [
    {
     "data": {
      "text/plain": [
       "21"
      ]
     },
     "execution_count": 12,
     "metadata": {},
     "output_type": "execute_result"
    }
   ],
   "source": [
    "semih.yas"
   ]
  },
  {
   "cell_type": "code",
   "execution_count": 19,
   "id": "4f3255f3",
   "metadata": {},
   "outputs": [],
   "source": [
    "class Ogretmen(Okul):\n",
    "    def __init__(self,isim,soyisim,yas,maas,alan):\n",
    "        super().__init__(isim,soyisim,yas)\n",
    "        self.maas = maas\n",
    "        self.alan = alan\n",
    "    def info(self):\n",
    "        print(\"{} {} {} yaşında {} miktar maaş alan bir {} öğretmenidir.\".format(self.isim,self.soyisim,self.yas,self.maas,self.alan))"
   ]
  },
  {
   "cell_type": "code",
   "execution_count": 20,
   "id": "85f1f5be",
   "metadata": {},
   "outputs": [
    {
     "name": "stdout",
     "output_type": "stream",
     "text": [
      "Okul sınıfı çalıştı\n"
     ]
    }
   ],
   "source": [
    "semih = Ogretmen(\"Semih\",\"Göçer\",45,8000,\"Matematik\")"
   ]
  },
  {
   "cell_type": "code",
   "execution_count": 21,
   "id": "a35231e0",
   "metadata": {},
   "outputs": [
    {
     "name": "stdout",
     "output_type": "stream",
     "text": [
      "Semih Göçer 45 yaşında 8000 miktar maaş alan bir Matematik öğretmenidir.\n"
     ]
    }
   ],
   "source": [
    "semih.info()"
   ]
  },
  {
   "cell_type": "code",
   "execution_count": 35,
   "id": "e1991a9b",
   "metadata": {},
   "outputs": [],
   "source": [
    "class Calisan(Okul):\n",
    "    def __init__(self,isim,soyisim,yas,maas,isi):\n",
    "        super().__init__(isim,soyisim,yas)\n",
    "        self.maas = maas\n",
    "        self.isi = isi\n",
    "        print(\"Çalışanlar sınıfı çalıştı\")\n",
    "    def info(self):\n",
    "        print(\"{} {} {} yaşında {} miktar maas alan {} personelidir.\".format(self.isim,self.soyisim,self.yas,self.maas,self.isi))"
   ]
  },
  {
   "cell_type": "code",
   "execution_count": 44,
   "id": "79149f60",
   "metadata": {},
   "outputs": [
    {
     "name": "stdout",
     "output_type": "stream",
     "text": [
      "Okul sınıfı çalıştı\n"
     ]
    }
   ],
   "source": [
    "ali = Calisan(\"Ali\",\"Başaran\",50,7000,\"temizlik görevlisi\")"
   ]
  },
  {
   "cell_type": "code",
   "execution_count": 45,
   "id": "94887b6a",
   "metadata": {},
   "outputs": [
    {
     "name": "stdout",
     "output_type": "stream",
     "text": [
      "Ali Başaran 50 yaşında 7000 miktar maas alan temizlik görevlisi personelidir.\n"
     ]
    }
   ],
   "source": [
    "ali.info()"
   ]
  },
  {
   "cell_type": "code",
   "execution_count": 41,
   "id": "f807f94d",
   "metadata": {},
   "outputs": [],
   "source": [
    "class Veliler(Okul):\n",
    "    def __init__(self,isim,soyisim,yas,isi,ogrenci_ismi):\n",
    "        super().__init__(isim,soyisim,yas)\n",
    "        self.isi = isi\n",
    "        self.ogrenci_ismi = ogrenci_ismi\n",
    "        print(\"Veliler sınıfı çalıştı\")\n",
    "    def info(self):\n",
    "        print(\"{} {} {} yaşında {} mesleğine sahip,{} öğrencisinin velisidir.\".format(self.isim,self.soyisim,self.yas,self.isi,self.ogrenci_ismi))"
   ]
  },
  {
   "cell_type": "code",
   "execution_count": 42,
   "id": "0e1349bd",
   "metadata": {},
   "outputs": [
    {
     "name": "stdout",
     "output_type": "stream",
     "text": [
      "Okul sınıfı çalıştı\n",
      "Veliler sınıfı çalıştı\n"
     ]
    }
   ],
   "source": [
    "fadime = Veliler(\"Fadime\",\"Bolat\",45,\"mühendis\",\"Esma\")"
   ]
  },
  {
   "cell_type": "code",
   "execution_count": 46,
   "id": "b37f06d9",
   "metadata": {},
   "outputs": [
    {
     "name": "stdout",
     "output_type": "stream",
     "text": [
      "Fadime Bolat 45 yaşında mühendis mesleğine sahip,Esma öğrencisinin velisidir.\n"
     ]
    }
   ],
   "source": [
    "fadime.info()"
   ]
  },
  {
   "cell_type": "markdown",
   "id": "dadbc544",
   "metadata": {},
   "source": [
    "# Abstract Class - Soyut Sınıflar"
   ]
  },
  {
   "cell_type": "code",
   "execution_count": 47,
   "id": "d7154c54",
   "metadata": {},
   "outputs": [],
   "source": [
    "from abc import ABC,abstractmethod\n",
    "class Hayvan(ABC):\n",
    "    @abstractmethod\n",
    "    def yürü(self):\n",
    "        print(\"Hayvan yürür.\")\n",
    "    @abstractmethod\n",
    "    def koş(self):\n",
    "        print(\"Hayvan koşar.\")"
   ]
  },
  {
   "cell_type": "code",
   "execution_count": 67,
   "id": "b14cc8e3",
   "metadata": {},
   "outputs": [],
   "source": [
    "from abc import ABC,abstractmethod\n",
    "\n",
    "class Hayvan(ABC):\n",
    "    @abstractmethod\n",
    "    def yürü(self):\n",
    "        print(\"Hayvan yürür.\")\n",
    "    \n",
    "    @abstractmethod\n",
    "    def koş(self):\n",
    "        print(\"Hayvan koşar.\")\n",
    "class Aslan(Hayvan):\n",
    "    \n",
    "    def yürü(self):\n",
    "        print(\"Aslan yürür.\")\n",
    "    def koş(self):\n",
    "        print(\"Aslan koşar.\")"
   ]
  },
  {
   "cell_type": "code",
   "execution_count": 68,
   "id": "e7217a3b",
   "metadata": {},
   "outputs": [],
   "source": [
    "aslan_nesnesi = Aslan()"
   ]
  },
  {
   "cell_type": "code",
   "execution_count": 69,
   "id": "8c44bd68",
   "metadata": {},
   "outputs": [
    {
     "name": "stdout",
     "output_type": "stream",
     "text": [
      "Hayvan koşar.\n"
     ]
    }
   ],
   "source": [
    "aslan_nesnesi.koş()"
   ]
  },
  {
   "cell_type": "code",
   "execution_count": 70,
   "id": "1f49678d",
   "metadata": {},
   "outputs": [
    {
     "name": "stdout",
     "output_type": "stream",
     "text": [
      "Aslan yürür.\n"
     ]
    }
   ],
   "source": [
    "aslan_nesnesi.yürü()"
   ]
  },
  {
   "cell_type": "markdown",
   "id": "e13b02e5",
   "metadata": {},
   "source": [
    "# Polymorphism - Çok Şekillilik"
   ]
  },
  {
   "cell_type": "code",
   "execution_count": 97,
   "id": "8e3cc3ae",
   "metadata": {},
   "outputs": [],
   "source": [
    "class Okul():\n",
    "    def __init__(self,isim,soyisim,yas,maas):\n",
    "        self.isim = isim\n",
    "        self.soyisim = soyisim\n",
    "        self.yas = yas\n",
    "        self.maas = maas\n",
    "    def info(self):\n",
    "        print(\"{} {} {} yaşında {} maaşı olan bir öğretmendir.\".format(self.isim,self.soyisim,self.yas,self.maas))\n",
    "    def zam(self):\n",
    "        return self.maaş * 2\n",
    "    \n",
    "class Ogretmen(Okul):\n",
    "    def __init__(self,isim,soyisim,yas,maas,alan):\n",
    "        super().__init__(isim,soyisim,yas,maas)\n",
    "        self.alan = alan\n",
    "    def info(self):\n",
    "        print(\"{} {} {} yaşında {} miktar maaşı olan bir {} öğretmenidir\".format(self.isim,self.soyisim,self.yas,self.maas,self.alan))\n",
    "        \n",
    "    def zam(self):\n",
    "        return self.maas * 1.5\n",
    "    \n",
    "class Yonetim(Okul):\n",
    "    def __init__(self,isim,soyisim,yas,maas,birim):\n",
    "        super().__init__(isim,soyisim,yas,maas)\n",
    "        self.birim = birim\n",
    "    def info(self):\n",
    "        print(\"{} {} {} yaşında {} miktar maaşı olan bir {} öğretmenidir\".format(self.isim,self.soyisim,self.yas,self.maas,self.birim))\n",
    "        \n",
    "    def zam(self):\n",
    "        return self.maas * 2\n",
    "    \n",
    "class Hizmetli(Okul):\n",
    "    def __init__(self,isim,soyisim,yas,maas):\n",
    "        super().__init__(isim,soyisim,yas,maas)\n",
    "    def info(self):\n",
    "        print(\"{} {} {} yaşında {} miktar maaşı olan bir çalışandır\".format(self.isim,self.soyisim,self.yas,self.maas))\n",
    "        \n",
    "    def zam(self):\n",
    "        return self.maas * 3"
   ]
  },
  {
   "cell_type": "code",
   "execution_count": 98,
   "id": "f4df7e12",
   "metadata": {},
   "outputs": [],
   "source": [
    "bir = Ogretmen(\"Burak\",\"Dağ\",45,8000,\"fizik\")"
   ]
  },
  {
   "cell_type": "code",
   "execution_count": 99,
   "id": "d001a92d",
   "metadata": {},
   "outputs": [
    {
     "name": "stdout",
     "output_type": "stream",
     "text": [
      "Burak Dağ 45 yaşında 8000 miktar maaşı olan bir fizik öğretmenidir\n"
     ]
    }
   ],
   "source": [
    "bir.info()"
   ]
  },
  {
   "cell_type": "code",
   "execution_count": 100,
   "id": "f9fdb25e",
   "metadata": {},
   "outputs": [
    {
     "data": {
      "text/plain": [
       "12000.0"
      ]
     },
     "execution_count": 100,
     "metadata": {},
     "output_type": "execute_result"
    }
   ],
   "source": [
    "bir.zam()"
   ]
  },
  {
   "cell_type": "code",
   "execution_count": 101,
   "id": "0518002c",
   "metadata": {},
   "outputs": [],
   "source": [
    "iki = Yonetim(\"Musab\",\"Bolat\",23,9000,\"Yardımcı\")"
   ]
  },
  {
   "cell_type": "markdown",
   "id": "e05892f7",
   "metadata": {},
   "source": [
    "iki.info()"
   ]
  },
  {
   "cell_type": "code",
   "execution_count": 103,
   "id": "43381f14",
   "metadata": {},
   "outputs": [
    {
     "data": {
      "text/plain": [
       "18000"
      ]
     },
     "execution_count": 103,
     "metadata": {},
     "output_type": "execute_result"
    }
   ],
   "source": [
    "iki.zam()"
   ]
  },
  {
   "cell_type": "code",
   "execution_count": 104,
   "id": "5f88e5f5",
   "metadata": {},
   "outputs": [],
   "source": [
    "uc = Hizmetli(\"Mehmet\",\"Uç\",60,6000)"
   ]
  },
  {
   "cell_type": "code",
   "execution_count": 105,
   "id": "5252599e",
   "metadata": {},
   "outputs": [
    {
     "name": "stdout",
     "output_type": "stream",
     "text": [
      "Mehmet Uç 60 yaşında 6000 miktar maaşı olan bir çalışandır\n"
     ]
    }
   ],
   "source": [
    "uc.info()"
   ]
  },
  {
   "cell_type": "code",
   "execution_count": 106,
   "id": "934c29d0",
   "metadata": {},
   "outputs": [
    {
     "data": {
      "text/plain": [
       "18000"
      ]
     },
     "execution_count": 106,
     "metadata": {},
     "output_type": "execute_result"
    }
   ],
   "source": [
    "uc.zam()"
   ]
  },
  {
   "cell_type": "markdown",
   "id": "9a39fa2b",
   "metadata": {},
   "source": [
    "# Overriding (Öncekini iptal etme)"
   ]
  },
  {
   "cell_type": "code",
   "execution_count": 1,
   "id": "e25f8fc4",
   "metadata": {},
   "outputs": [],
   "source": [
    "class Okul:\n",
    "    def __init__(self,isim,soyisim,yas):\n",
    "        self.isim = isim\n",
    "        self.soyisim = soyisim\n",
    "        self.yas = yas\n",
    "    def info(self):\n",
    "        print(\"{} {} {} yaşında bir okul elemanıdır.\".format(self.isim,self.soyisim,self.yas))"
   ]
  },
  {
   "cell_type": "code",
   "execution_count": 2,
   "id": "4a58c5ec",
   "metadata": {},
   "outputs": [],
   "source": [
    "orhan = Okul(\"Orhan\",\"Kara\",58)"
   ]
  },
  {
   "cell_type": "code",
   "execution_count": 3,
   "id": "ed567508",
   "metadata": {},
   "outputs": [
    {
     "name": "stdout",
     "output_type": "stream",
     "text": [
      "Orhan Kara 58 yaşında bir okul elemanıdır.\n"
     ]
    }
   ],
   "source": [
    "orhan.info()"
   ]
  },
  {
   "cell_type": "code",
   "execution_count": 4,
   "id": "5bccede7",
   "metadata": {},
   "outputs": [],
   "source": [
    "class Okul:\n",
    "    def __init__(self,isim,soyisim,yas):\n",
    "        self.isim = isim\n",
    "        self.soyisim = soyisim\n",
    "        self.yas = yas\n",
    "    def info(self):\n",
    "        print(\"{} {} {} yaşında bir okul elemanıdır.\".format(self.isim,self.soyisim,self.yas))\n",
    "        \n",
    "class Ogretmen(Okul):\n",
    "    def __init__(self,isim,soyisim,yas,maas,uzmanlık):\n",
    "        super().__init__(isim,soyisim,yas)\n",
    "        self.maas = maas\n",
    "        self.uzmanlık = uzmanlık\n",
    "    def info(self):\n",
    "        print(\"{} {} {} yaşında {} miktar maaşı olan, {} öğretmenidir.\".format(self.isim,self.soyisim,self.yas,self.maas,self.uzmanlık))"
   ]
  },
  {
   "cell_type": "code",
   "execution_count": 6,
   "id": "699d9e95",
   "metadata": {},
   "outputs": [],
   "source": [
    "orhan = Ogretmen(\"Orhan\",\"Kara\",58,8000,\"sınıf\")"
   ]
  },
  {
   "cell_type": "code",
   "execution_count": 7,
   "id": "2b80c0ac",
   "metadata": {},
   "outputs": [
    {
     "name": "stdout",
     "output_type": "stream",
     "text": [
      "Orhan Kara 58 yaşında 8000 miktar maaşı olan, sınıf öğretmenidir.\n"
     ]
    }
   ],
   "source": [
    "orhan.info()"
   ]
  },
  {
   "cell_type": "markdown",
   "id": "cb42c1be",
   "metadata": {},
   "source": [
    "# Arbitrary Arguments, *args"
   ]
  },
  {
   "cell_type": "code",
   "execution_count": 7,
   "id": "a968e244",
   "metadata": {},
   "outputs": [
    {
     "data": {
      "text/plain": [
       "12"
      ]
     },
     "execution_count": 7,
     "metadata": {},
     "output_type": "execute_result"
    }
   ],
   "source": [
    "def topla(a,b):\n",
    "    return a + b\n",
    "topla(5,7)"
   ]
  },
  {
   "cell_type": "code",
   "execution_count": 8,
   "id": "0f8241ba",
   "metadata": {},
   "outputs": [],
   "source": [
    "def topla(*args):\n",
    "    toplam = 0\n",
    "    for i in args:\n",
    "        toplam = toplam + i\n",
    "    print(toplam)"
   ]
  },
  {
   "cell_type": "code",
   "execution_count": 9,
   "id": "5361b7ac",
   "metadata": {},
   "outputs": [
    {
     "name": "stdout",
     "output_type": "stream",
     "text": [
      "19\n"
     ]
    }
   ],
   "source": [
    "topla(2,5,8,4)"
   ]
  },
  {
   "cell_type": "code",
   "execution_count": 10,
   "id": "a035f2b6",
   "metadata": {},
   "outputs": [],
   "source": [
    "def isim(*args):\n",
    "    print(\"{} {} çok güzel bir insan\".format(args[0],args[1]))"
   ]
  },
  {
   "cell_type": "code",
   "execution_count": 11,
   "id": "a6b8ae3c",
   "metadata": {},
   "outputs": [
    {
     "name": "stdout",
     "output_type": "stream",
     "text": [
      "Şevval Bolat çok güzel bir insan\n"
     ]
    }
   ],
   "source": [
    "isim(\"Şevval\",\"Bolat\")"
   ]
  },
  {
   "cell_type": "markdown",
   "id": "52565c07",
   "metadata": {},
   "source": [
    "# Arbitrary Keywords, *kwargs"
   ]
  },
  {
   "cell_type": "code",
   "execution_count": 23,
   "id": "97348af5",
   "metadata": {},
   "outputs": [],
   "source": [
    "def kimlik(**kwargs):\n",
    "    print(\"kwargs:\",kwargs)"
   ]
  },
  {
   "cell_type": "code",
   "execution_count": 24,
   "id": "7c570131",
   "metadata": {},
   "outputs": [
    {
     "name": "stdout",
     "output_type": "stream",
     "text": [
      "kwargs: {'isim': 'Şevval', 'soyisim': 'Bolat'}\n"
     ]
    }
   ],
   "source": [
    "kimlik(isim = \"Şevval\",soyisim = \"Bolat\")"
   ]
  },
  {
   "cell_type": "code",
   "execution_count": 28,
   "id": "718ee351",
   "metadata": {},
   "outputs": [],
   "source": [
    "def kimlik(**kwargs):\n",
    "    for key,value in kwargs.items():\n",
    "        print(\"{} = {}\".format(key,value))"
   ]
  },
  {
   "cell_type": "code",
   "execution_count": 29,
   "id": "fe14387d",
   "metadata": {},
   "outputs": [
    {
     "name": "stdout",
     "output_type": "stream",
     "text": [
      "isim = Şevval\n",
      "soyisim = Bolat\n",
      "yas = 21\n",
      "bolum = Bilgisayar\n",
      "okul = Karabük\n"
     ]
    }
   ],
   "source": [
    "kimlik(isim = \"Şevval\",soyisim = \"Bolat\",yas = 21, bolum = \"Bilgisayar\",okul = \"Karabük\")"
   ]
  },
  {
   "cell_type": "code",
   "execution_count": 30,
   "id": "795c2e9b",
   "metadata": {},
   "outputs": [],
   "source": [
    "def yeni(*args,**kwargs):\n",
    "    print(\"args:\",args,\"kwargs:\",kwargs)"
   ]
  },
  {
   "cell_type": "code",
   "execution_count": 31,
   "id": "778cfd7a",
   "metadata": {},
   "outputs": [
    {
     "name": "stdout",
     "output_type": "stream",
     "text": [
      "args: (1, 2, 3, 4, 5, 6, 7, 8) kwargs: {'isim': 'Şevval', 'soyisim': 'Bolat'}\n"
     ]
    }
   ],
   "source": [
    "yeni(1,2,3,4,5,6,7,8,isim = \"Şevval\", soyisim = \"Bolat\")"
   ]
  },
  {
   "cell_type": "code",
   "execution_count": 42,
   "id": "2e9418a2",
   "metadata": {},
   "outputs": [],
   "source": [
    "def birlestir(**kwargs):\n",
    "    son = \"\"\n",
    "    for kelime in kwargs.values():\n",
    "        son = son + kelime\n",
    "    return son"
   ]
  },
  {
   "cell_type": "code",
   "execution_count": 43,
   "id": "f674825b",
   "metadata": {},
   "outputs": [
    {
     "data": {
      "text/plain": [
       "'Python dünyanın en çok kullanılan programlama dilidir.'"
      ]
     },
     "execution_count": 43,
     "metadata": {},
     "output_type": "execute_result"
    }
   ],
   "source": [
    "birlestir(a=\"Python \",b=\"dünyanın \",c=\"en \",d=\"çok \",e=\"kullanılan \",f=\"programlama \",g=\"dilidir.\")"
   ]
  },
  {
   "cell_type": "markdown",
   "id": "f5d5bc40",
   "metadata": {},
   "source": [
    "# Lambda Function"
   ]
  },
  {
   "cell_type": "code",
   "execution_count": 46,
   "id": "a23af9cd",
   "metadata": {},
   "outputs": [],
   "source": [
    "def kare(x):\n",
    "    return x**2"
   ]
  },
  {
   "cell_type": "code",
   "execution_count": 47,
   "id": "03e228ae",
   "metadata": {},
   "outputs": [
    {
     "data": {
      "text/plain": [
       "25"
      ]
     },
     "execution_count": 47,
     "metadata": {},
     "output_type": "execute_result"
    }
   ],
   "source": [
    "kare(5)"
   ]
  },
  {
   "cell_type": "code",
   "execution_count": 61,
   "id": "c4a0bcbc",
   "metadata": {},
   "outputs": [],
   "source": [
    "x = lambda x : x**2"
   ]
  },
  {
   "cell_type": "code",
   "execution_count": 62,
   "id": "03fac271",
   "metadata": {},
   "outputs": [
    {
     "data": {
      "text/plain": [
       "4"
      ]
     },
     "execution_count": 62,
     "metadata": {},
     "output_type": "execute_result"
    }
   ],
   "source": [
    "x(2)"
   ]
  },
  {
   "cell_type": "code",
   "execution_count": 65,
   "id": "056de3ab",
   "metadata": {},
   "outputs": [
    {
     "data": {
      "text/plain": [
       "[2, 4, 6, 8]"
      ]
     },
     "execution_count": 65,
     "metadata": {},
     "output_type": "execute_result"
    }
   ],
   "source": [
    "x = [1,2,3,4,5,6,7,8]\n",
    "list(filter(lambda x:(x%2==0),x))"
   ]
  },
  {
   "cell_type": "code",
   "execution_count": 66,
   "id": "03fb56ee",
   "metadata": {},
   "outputs": [
    {
     "data": {
      "text/plain": [
       "[1, 4, 9, 16, 25, 36]"
      ]
     },
     "execution_count": 66,
     "metadata": {},
     "output_type": "execute_result"
    }
   ],
   "source": [
    "x = [1,2,3,4,5,6]\n",
    "list(map(lambda x : x**2,x))"
   ]
  },
  {
   "cell_type": "code",
   "execution_count": 67,
   "id": "a88523b3",
   "metadata": {},
   "outputs": [
    {
     "data": {
      "text/plain": [
       "3.4"
      ]
     },
     "execution_count": 67,
     "metadata": {},
     "output_type": "execute_result"
    }
   ],
   "source": [
    "abs(3.4)"
   ]
  },
  {
   "cell_type": "code",
   "execution_count": 68,
   "id": "c98c897b",
   "metadata": {},
   "outputs": [
    {
     "data": {
      "text/plain": [
       "'0b100'"
      ]
     },
     "execution_count": 68,
     "metadata": {},
     "output_type": "execute_result"
    }
   ],
   "source": [
    "bin(4)"
   ]
  },
  {
   "cell_type": "code",
   "execution_count": 69,
   "id": "109a654f",
   "metadata": {},
   "outputs": [
    {
     "data": {
      "text/plain": [
       "1024"
      ]
     },
     "execution_count": 69,
     "metadata": {},
     "output_type": "execute_result"
    }
   ],
   "source": [
    "pow(2,10)"
   ]
  },
  {
   "cell_type": "code",
   "execution_count": 70,
   "id": "30354df1",
   "metadata": {},
   "outputs": [
    {
     "data": {
      "text/plain": [
       "5"
      ]
     },
     "execution_count": 70,
     "metadata": {},
     "output_type": "execute_result"
    }
   ],
   "source": [
    "pow(5,4,10)"
   ]
  },
  {
   "cell_type": "code",
   "execution_count": 74,
   "id": "33436c7a",
   "metadata": {},
   "outputs": [
    {
     "data": {
      "text/plain": [
       "5"
      ]
     },
     "execution_count": 74,
     "metadata": {},
     "output_type": "execute_result"
    }
   ],
   "source": [
    "round(4.5689)"
   ]
  },
  {
   "cell_type": "code",
   "execution_count": 75,
   "id": "f431e4e5",
   "metadata": {},
   "outputs": [
    {
     "data": {
      "text/plain": [
       "4.569"
      ]
     },
     "execution_count": 75,
     "metadata": {},
     "output_type": "execute_result"
    }
   ],
   "source": [
    "round(4.5689,3)"
   ]
  },
  {
   "cell_type": "code",
   "execution_count": 76,
   "id": "56e0f524",
   "metadata": {},
   "outputs": [],
   "source": [
    "x = [1,4,9,7,58,63,20]"
   ]
  },
  {
   "cell_type": "code",
   "execution_count": 78,
   "id": "1f4f15bd",
   "metadata": {},
   "outputs": [
    {
     "data": {
      "text/plain": [
       "[63, 58, 20, 9, 7, 4, 1]"
      ]
     },
     "execution_count": 78,
     "metadata": {},
     "output_type": "execute_result"
    }
   ],
   "source": [
    "sorted(x, reverse = True)"
   ]
  },
  {
   "cell_type": "code",
   "execution_count": 79,
   "id": "ddc8c89f",
   "metadata": {},
   "outputs": [
    {
     "data": {
      "text/plain": [
       "162"
      ]
     },
     "execution_count": 79,
     "metadata": {},
     "output_type": "execute_result"
    }
   ],
   "source": [
    "sum(x)"
   ]
  },
  {
   "cell_type": "code",
   "execution_count": 80,
   "id": "33fc9336",
   "metadata": {},
   "outputs": [],
   "source": [
    "renkler = [\"sari\",\"pembe\",\"mor\",\"yeşil\"]"
   ]
  },
  {
   "cell_type": "code",
   "execution_count": 83,
   "id": "bc015a66",
   "metadata": {},
   "outputs": [],
   "source": [
    "x = enumerate(renkler)"
   ]
  },
  {
   "cell_type": "code",
   "execution_count": 84,
   "id": "f9c12fbd",
   "metadata": {},
   "outputs": [
    {
     "data": {
      "text/plain": [
       "[(0, 'sari'), (1, 'pembe'), (2, 'mor'), (3, 'yeşil')]"
      ]
     },
     "execution_count": 84,
     "metadata": {},
     "output_type": "execute_result"
    }
   ],
   "source": [
    "list(x)"
   ]
  },
  {
   "cell_type": "code",
   "execution_count": 85,
   "id": "fc5cc319",
   "metadata": {},
   "outputs": [
    {
     "data": {
      "text/plain": [
       "[(1, 'sari'), (4, 'pembe'), (9, 'mor'), (7, 'yeşil')]"
      ]
     },
     "execution_count": 85,
     "metadata": {},
     "output_type": "execute_result"
    }
   ],
   "source": [
    "x = [1,4,9,7]\n",
    "renkler = [\"sari\",\"pembe\",\"mor\",\"yeşil\"]\n",
    "list(zip(x,renkler))"
   ]
  },
  {
   "cell_type": "markdown",
   "id": "cf472775",
   "metadata": {},
   "source": [
    "# Modüller - Paketler ve Kütüphaneler"
   ]
  },
  {
   "cell_type": "code",
   "execution_count": 86,
   "id": "042b9d28",
   "metadata": {},
   "outputs": [],
   "source": [
    "import math"
   ]
  },
  {
   "cell_type": "code",
   "execution_count": 87,
   "id": "16c05928",
   "metadata": {},
   "outputs": [
    {
     "data": {
      "text/plain": [
       "24"
      ]
     },
     "execution_count": 87,
     "metadata": {},
     "output_type": "execute_result"
    }
   ],
   "source": [
    "math.factorial(4)"
   ]
  },
  {
   "cell_type": "code",
   "execution_count": 89,
   "id": "574abecc",
   "metadata": {},
   "outputs": [
    {
     "data": {
      "text/plain": [
       "3.0"
      ]
     },
     "execution_count": 89,
     "metadata": {},
     "output_type": "execute_result"
    }
   ],
   "source": [
    "math.sqrt(9)"
   ]
  },
  {
   "cell_type": "code",
   "execution_count": 90,
   "id": "2cb86785",
   "metadata": {},
   "outputs": [
    {
     "data": {
      "text/plain": [
       "81.0"
      ]
     },
     "execution_count": 90,
     "metadata": {},
     "output_type": "execute_result"
    }
   ],
   "source": [
    "math.pow(3,4)"
   ]
  },
  {
   "cell_type": "code",
   "execution_count": 91,
   "id": "fe2eff76",
   "metadata": {},
   "outputs": [
    {
     "data": {
      "text/plain": [
       "3.141592653589793"
      ]
     },
     "execution_count": 91,
     "metadata": {},
     "output_type": "execute_result"
    }
   ],
   "source": [
    "math.pi"
   ]
  },
  {
   "cell_type": "code",
   "execution_count": 92,
   "id": "ba55285b",
   "metadata": {},
   "outputs": [],
   "source": [
    "import math as matematik"
   ]
  },
  {
   "cell_type": "code",
   "execution_count": 93,
   "id": "15a6be10",
   "metadata": {},
   "outputs": [
    {
     "data": {
      "text/plain": [
       "3.141592653589793"
      ]
     },
     "execution_count": 93,
     "metadata": {},
     "output_type": "execute_result"
    }
   ],
   "source": [
    "matematik.pi"
   ]
  },
  {
   "cell_type": "code",
   "execution_count": 95,
   "id": "e2630a0d",
   "metadata": {},
   "outputs": [],
   "source": [
    "from math import factorial"
   ]
  },
  {
   "cell_type": "code",
   "execution_count": 96,
   "id": "d0bf1fcb",
   "metadata": {},
   "outputs": [
    {
     "data": {
      "text/plain": [
       "120"
      ]
     },
     "execution_count": 96,
     "metadata": {},
     "output_type": "execute_result"
    }
   ],
   "source": [
    "factorial(5)"
   ]
  },
  {
   "cell_type": "code",
   "execution_count": 98,
   "id": "78336b84",
   "metadata": {},
   "outputs": [],
   "source": [
    "from math import * "
   ]
  },
  {
   "cell_type": "code",
   "execution_count": 99,
   "id": "ed98e983",
   "metadata": {},
   "outputs": [
    {
     "data": {
      "text/plain": [
       "2.0"
      ]
     },
     "execution_count": 99,
     "metadata": {},
     "output_type": "execute_result"
    }
   ],
   "source": [
    "sqrt(4)"
   ]
  },
  {
   "cell_type": "code",
   "execution_count": 100,
   "id": "a65a1921",
   "metadata": {},
   "outputs": [],
   "source": [
    "import datetime"
   ]
  },
  {
   "cell_type": "code",
   "execution_count": 101,
   "id": "dc5d5e81",
   "metadata": {},
   "outputs": [],
   "source": [
    "simdi = datetime.datetime.now()"
   ]
  },
  {
   "cell_type": "code",
   "execution_count": 102,
   "id": "a1749e5f",
   "metadata": {},
   "outputs": [
    {
     "data": {
      "text/plain": [
       "datetime.datetime(2024, 3, 10, 17, 2, 37, 435530)"
      ]
     },
     "execution_count": 102,
     "metadata": {},
     "output_type": "execute_result"
    }
   ],
   "source": [
    "datetime.datetime.today()"
   ]
  },
  {
   "cell_type": "code",
   "execution_count": 104,
   "id": "fb16f391",
   "metadata": {},
   "outputs": [
    {
     "data": {
      "text/plain": [
       "'10/03/24 17:02:04'"
      ]
     },
     "execution_count": 104,
     "metadata": {},
     "output_type": "execute_result"
    }
   ],
   "source": [
    "simdi.strftime(\"%d/%m/%y %H:%M:%S\")"
   ]
  },
  {
   "cell_type": "code",
   "execution_count": 105,
   "id": "b36eca50",
   "metadata": {},
   "outputs": [
    {
     "data": {
      "text/plain": [
       "['MAXYEAR',\n",
       " 'MINYEAR',\n",
       " 'UTC',\n",
       " '__all__',\n",
       " '__builtins__',\n",
       " '__cached__',\n",
       " '__doc__',\n",
       " '__file__',\n",
       " '__loader__',\n",
       " '__name__',\n",
       " '__package__',\n",
       " '__spec__',\n",
       " 'date',\n",
       " 'datetime',\n",
       " 'datetime_CAPI',\n",
       " 'sys',\n",
       " 'time',\n",
       " 'timedelta',\n",
       " 'timezone',\n",
       " 'tzinfo']"
      ]
     },
     "execution_count": 105,
     "metadata": {},
     "output_type": "execute_result"
    }
   ],
   "source": [
    "dir(datetime)"
   ]
  },
  {
   "cell_type": "code",
   "execution_count": 109,
   "id": "981a1058",
   "metadata": {},
   "outputs": [],
   "source": [
    "from datetime import date"
   ]
  },
  {
   "cell_type": "code",
   "execution_count": 111,
   "id": "48fff341",
   "metadata": {},
   "outputs": [],
   "source": [
    "bugun = date.today()"
   ]
  },
  {
   "cell_type": "code",
   "execution_count": 113,
   "id": "c100ccd9",
   "metadata": {},
   "outputs": [
    {
     "data": {
      "text/plain": [
       "10"
      ]
     },
     "execution_count": 113,
     "metadata": {},
     "output_type": "execute_result"
    }
   ],
   "source": [
    "bugun.day"
   ]
  },
  {
   "cell_type": "code",
   "execution_count": 114,
   "id": "ec0c4e92",
   "metadata": {},
   "outputs": [
    {
     "data": {
      "text/plain": [
       "3"
      ]
     },
     "execution_count": 114,
     "metadata": {},
     "output_type": "execute_result"
    }
   ],
   "source": [
    "bugun.month"
   ]
  },
  {
   "cell_type": "code",
   "execution_count": 115,
   "id": "2b7dd10a",
   "metadata": {},
   "outputs": [],
   "source": [
    "yeni = date(2002,10,18)"
   ]
  },
  {
   "cell_type": "code",
   "execution_count": 116,
   "id": "4d0ead95",
   "metadata": {},
   "outputs": [
    {
     "data": {
      "text/plain": [
       "datetime.date(2002, 10, 18)"
      ]
     },
     "execution_count": 116,
     "metadata": {},
     "output_type": "execute_result"
    }
   ],
   "source": [
    "yeni"
   ]
  },
  {
   "cell_type": "code",
   "execution_count": 117,
   "id": "be3bc269",
   "metadata": {},
   "outputs": [],
   "source": [
    "from datetime import time"
   ]
  },
  {
   "cell_type": "code",
   "execution_count": 118,
   "id": "54f705a6",
   "metadata": {},
   "outputs": [],
   "source": [
    "zaman = time(10,23,45)"
   ]
  },
  {
   "cell_type": "code",
   "execution_count": 119,
   "id": "59a290bd",
   "metadata": {},
   "outputs": [
    {
     "data": {
      "text/plain": [
       "10"
      ]
     },
     "execution_count": 119,
     "metadata": {},
     "output_type": "execute_result"
    }
   ],
   "source": [
    "zaman.hour"
   ]
  },
  {
   "cell_type": "code",
   "execution_count": 120,
   "id": "34a7a689",
   "metadata": {},
   "outputs": [
    {
     "data": {
      "text/plain": [
       "23"
      ]
     },
     "execution_count": 120,
     "metadata": {},
     "output_type": "execute_result"
    }
   ],
   "source": [
    "zaman.minute"
   ]
  },
  {
   "cell_type": "code",
   "execution_count": 121,
   "id": "d2f5be5b",
   "metadata": {},
   "outputs": [
    {
     "data": {
      "text/plain": [
       "45"
      ]
     },
     "execution_count": 121,
     "metadata": {},
     "output_type": "execute_result"
    }
   ],
   "source": [
    "zaman.second"
   ]
  },
  {
   "cell_type": "code",
   "execution_count": 122,
   "id": "3ea10f81",
   "metadata": {},
   "outputs": [
    {
     "name": "stdout",
     "output_type": "stream",
     "text": [
      "10:23:45\n"
     ]
    }
   ],
   "source": [
    "print(zaman)"
   ]
  },
  {
   "cell_type": "code",
   "execution_count": 123,
   "id": "31171296",
   "metadata": {},
   "outputs": [
    {
     "data": {
      "text/plain": [
       "datetime.timedelta(days=1703)"
      ]
     },
     "execution_count": 123,
     "metadata": {},
     "output_type": "execute_result"
    }
   ],
   "source": [
    "zaman1 = date(2024,10,14)\n",
    "zaman2 = date(2020,2,15)\n",
    "zaman1-zaman2"
   ]
  },
  {
   "cell_type": "code",
   "execution_count": 125,
   "id": "bfa596f5",
   "metadata": {},
   "outputs": [],
   "source": [
    "import time"
   ]
  },
  {
   "cell_type": "code",
   "execution_count": 126,
   "id": "92efe7d1",
   "metadata": {},
   "outputs": [
    {
     "data": {
      "text/plain": [
       "time.struct_time(tm_year=2024, tm_mon=3, tm_mday=10, tm_hour=18, tm_min=25, tm_sec=50, tm_wday=6, tm_yday=70, tm_isdst=0)"
      ]
     },
     "execution_count": 126,
     "metadata": {},
     "output_type": "execute_result"
    }
   ],
   "source": [
    "time.localtime()"
   ]
  },
  {
   "cell_type": "code",
   "execution_count": 127,
   "id": "a0be0877",
   "metadata": {},
   "outputs": [
    {
     "name": "stdout",
     "output_type": "stream",
     "text": [
      "18:27:38\n",
      "18:27:39\n",
      "18:27:40\n",
      "18:27:41\n",
      "18:27:42\n",
      "18:27:43\n",
      "18:27:44\n"
     ]
    },
    {
     "ename": "KeyboardInterrupt",
     "evalue": "",
     "output_type": "error",
     "traceback": [
      "\u001b[1;31m---------------------------------------------------------------------------\u001b[0m",
      "\u001b[1;31mKeyboardInterrupt\u001b[0m                         Traceback (most recent call last)",
      "Cell \u001b[1;32mIn[127], line 4\u001b[0m\n\u001b[0;32m      2\u001b[0m zaman \u001b[38;5;241m=\u001b[39m time\u001b[38;5;241m.\u001b[39mstrftime(\u001b[38;5;124m\"\u001b[39m\u001b[38;5;124m%\u001b[39m\u001b[38;5;124mH:\u001b[39m\u001b[38;5;124m%\u001b[39m\u001b[38;5;124mM:\u001b[39m\u001b[38;5;124m%\u001b[39m\u001b[38;5;124mS\u001b[39m\u001b[38;5;124m\"\u001b[39m)\n\u001b[0;32m      3\u001b[0m \u001b[38;5;28mprint\u001b[39m(zaman)\n\u001b[1;32m----> 4\u001b[0m time\u001b[38;5;241m.\u001b[39msleep(\u001b[38;5;241m1\u001b[39m)\n",
      "\u001b[1;31mKeyboardInterrupt\u001b[0m: "
     ]
    }
   ],
   "source": [
    "while True:\n",
    "    zaman = time.strftime(\"%H:%M:%S\")\n",
    "    print(zaman)\n",
    "    time.sleep(1)"
   ]
  },
  {
   "cell_type": "markdown",
   "id": "6a6f3f7e",
   "metadata": {},
   "source": [
    "# Try - Except"
   ]
  },
  {
   "cell_type": "code",
   "execution_count": 133,
   "id": "31f2e0f1",
   "metadata": {},
   "outputs": [
    {
     "name": "stdout",
     "output_type": "stream",
     "text": [
      "Birinci sayıyı giriniz:5\n",
      "İkinci sayıyı giriniz:0\n",
      "sıfırdan farklı bir sayı giriniz\n"
     ]
    }
   ],
   "source": [
    "try:\n",
    "    x = int(input(\"Birinci sayıyı giriniz:\"))\n",
    "    y = int(input(\"İkinci sayıyı giriniz:\"))\n",
    "    x / y \n",
    "    \n",
    "except ValueError:\n",
    "    print(\"Lütfen bir sayı giriniz:\")\n",
    "except TypeError:\n",
    "    print(\"Veri tiplerinde bir hata var\")\n",
    "except ZeroDivisionError:\n",
    "    print(\"sıfırdan farklı bir sayı giriniz\")"
   ]
  },
  {
   "cell_type": "code",
   "execution_count": 134,
   "id": "4a2230fa",
   "metadata": {},
   "outputs": [
    {
     "name": "stdout",
     "output_type": "stream",
     "text": [
      "Bir sayı giriniz: 0\n"
     ]
    },
    {
     "ename": "Exception",
     "evalue": "0 dan farklı bir değer giriniz",
     "output_type": "error",
     "traceback": [
      "\u001b[1;31m---------------------------------------------------------------------------\u001b[0m",
      "\u001b[1;31mException\u001b[0m                                 Traceback (most recent call last)",
      "Cell \u001b[1;32mIn[134], line 3\u001b[0m\n\u001b[0;32m      1\u001b[0m x \u001b[38;5;241m=\u001b[39m \u001b[38;5;28mint\u001b[39m(\u001b[38;5;28minput\u001b[39m(\u001b[38;5;124m\"\u001b[39m\u001b[38;5;124mBir sayı giriniz: \u001b[39m\u001b[38;5;124m\"\u001b[39m))\n\u001b[0;32m      2\u001b[0m \u001b[38;5;28;01mif\u001b[39;00m x \u001b[38;5;241m==\u001b[39m \u001b[38;5;241m0\u001b[39m:\n\u001b[1;32m----> 3\u001b[0m     \u001b[38;5;28;01mraise\u001b[39;00m \u001b[38;5;167;01mException\u001b[39;00m(\u001b[38;5;124m\"\u001b[39m\u001b[38;5;124m0 dan farklı bir değer giriniz\u001b[39m\u001b[38;5;124m\"\u001b[39m)\n\u001b[0;32m      4\u001b[0m \u001b[38;5;28;01melse\u001b[39;00m:\n\u001b[0;32m      5\u001b[0m     \u001b[38;5;28mprint\u001b[39m(x)\n",
      "\u001b[1;31mException\u001b[0m: 0 dan farklı bir değer giriniz"
     ]
    }
   ],
   "source": [
    "x = int(input(\"Bir sayı giriniz: \"))\n",
    "if x == 0:\n",
    "    raise Exception(\"0 dan farklı bir değer giriniz\")\n",
    "else:\n",
    "    print(x)"
   ]
  },
  {
   "cell_type": "markdown",
   "id": "d67f1c8a",
   "metadata": {},
   "source": [
    "# Python'da Dosya İşlemleri"
   ]
  },
  {
   "cell_type": "code",
   "execution_count": 68,
   "id": "653b4068",
   "metadata": {},
   "outputs": [],
   "source": [
    "dosya = open(\"dosya.txt\",mode = \"w\",encoding =\"utf-8\")"
   ]
  },
  {
   "cell_type": "code",
   "execution_count": 69,
   "id": "1fde138d",
   "metadata": {},
   "outputs": [
    {
     "data": {
      "text/plain": [
       "57"
      ]
     },
     "execution_count": 69,
     "metadata": {},
     "output_type": "execute_result"
    }
   ],
   "source": [
    "dosya.write(\"Merhabalar, bilgisayar mühendisliği 3.sınıf öğrencisiyim.\")"
   ]
  },
  {
   "cell_type": "code",
   "execution_count": 70,
   "id": "32549ab0",
   "metadata": {},
   "outputs": [],
   "source": [
    "dosya.close()"
   ]
  },
  {
   "cell_type": "code",
   "execution_count": 71,
   "id": "0664e9b9",
   "metadata": {},
   "outputs": [],
   "source": [
    "dosya = open(\"dosya.txt\", mode = \"a\",encoding = \"utf-8\")"
   ]
  },
  {
   "cell_type": "code",
   "execution_count": 72,
   "id": "66be8d8e",
   "metadata": {},
   "outputs": [
    {
     "data": {
      "text/plain": [
       "56"
      ]
     },
     "execution_count": 72,
     "metadata": {},
     "output_type": "execute_result"
    }
   ],
   "source": [
    "dosya.write(\"Karabük üniversitesinde okuyorum.Bölümümü çok seviyorum.\")"
   ]
  },
  {
   "cell_type": "code",
   "execution_count": 73,
   "id": "b5db3e45",
   "metadata": {},
   "outputs": [],
   "source": [
    "#dosya = open(\"dosya.txt\", mode = \"x\", encoding = \"utf-8\")"
   ]
  },
  {
   "cell_type": "code",
   "execution_count": 74,
   "id": "0326ce07",
   "metadata": {},
   "outputs": [],
   "source": [
    "dosya = open(\"dosya.txt\",\"r\", encoding = \"utf-8\")"
   ]
  },
  {
   "cell_type": "code",
   "execution_count": 75,
   "id": "11b5e45d",
   "metadata": {},
   "outputs": [
    {
     "data": {
      "text/plain": [
       "'Merhabalar, bilgisayar mühendisliği 3.sınıf öğrencisiyim.Karabük üniversitesinde okuyorum.Bölümümü çok seviyorum.'"
      ]
     },
     "execution_count": 75,
     "metadata": {},
     "output_type": "execute_result"
    }
   ],
   "source": [
    "dosya.read()"
   ]
  },
  {
   "cell_type": "code",
   "execution_count": 76,
   "id": "92de6b78",
   "metadata": {},
   "outputs": [
    {
     "data": {
      "text/plain": [
       "''"
      ]
     },
     "execution_count": 76,
     "metadata": {},
     "output_type": "execute_result"
    }
   ],
   "source": [
    "dosya.read()"
   ]
  },
  {
   "cell_type": "code",
   "execution_count": 77,
   "id": "2b45fade",
   "metadata": {},
   "outputs": [],
   "source": [
    "dosya.close()"
   ]
  },
  {
   "cell_type": "code",
   "execution_count": 78,
   "id": "04a1e752",
   "metadata": {},
   "outputs": [],
   "source": [
    "dosya = open(\"dosya.txt\",\"r\",encoding = \"utf-8\")"
   ]
  },
  {
   "cell_type": "code",
   "execution_count": 79,
   "id": "eed597d3",
   "metadata": {},
   "outputs": [
    {
     "name": "stdout",
     "output_type": "stream",
     "text": [
      "Merhabalar, bilgisayar mühendisliği 3.sınıf öğrencisiyim.Karabük üniversitesinde okuyorum.Bölümümü çok seviyorum.\n"
     ]
    }
   ],
   "source": [
    "for i in dosya:\n",
    "    print(i)"
   ]
  },
  {
   "cell_type": "code",
   "execution_count": 82,
   "id": "f853f605",
   "metadata": {},
   "outputs": [
    {
     "data": {
      "text/plain": [
       "[]"
      ]
     },
     "execution_count": 82,
     "metadata": {},
     "output_type": "execute_result"
    }
   ],
   "source": [
    "dosya.readlines()"
   ]
  },
  {
   "cell_type": "code",
   "execution_count": 86,
   "id": "2103208f",
   "metadata": {},
   "outputs": [],
   "source": [
    "with open(\"cv.txt\",mode = \"w\",encoding = \"utf-8\")as cv:\n",
    "    cv.write(\"Merhabalar, şuanda okuldayım.\")\n",
    "    cv.write(\"15.30da ki dersimi bekliyorum.\")\n",
    "    cv.write(\"İdris hocanın dersi.\")"
   ]
  },
  {
   "cell_type": "code",
   "execution_count": 88,
   "id": "db3c953b",
   "metadata": {},
   "outputs": [
    {
     "name": "stdout",
     "output_type": "stream",
     "text": [
      ", şuanda okuldayım\n"
     ]
    }
   ],
   "source": [
    "with open(\"cv.txt\",\"r\", encoding = \"utf-8\") as cv:\n",
    "    cv.seek(10)\n",
    "    print(cv.read(18))\n",
    "    cv.tell()"
   ]
  }
 ],
 "metadata": {
  "kernelspec": {
   "display_name": "Python 3 (ipykernel)",
   "language": "python",
   "name": "python3"
  },
  "language_info": {
   "codemirror_mode": {
    "name": "ipython",
    "version": 3
   },
   "file_extension": ".py",
   "mimetype": "text/x-python",
   "name": "python",
   "nbconvert_exporter": "python",
   "pygments_lexer": "ipython3",
   "version": "3.11.5"
  }
 },
 "nbformat": 4,
 "nbformat_minor": 5
}
